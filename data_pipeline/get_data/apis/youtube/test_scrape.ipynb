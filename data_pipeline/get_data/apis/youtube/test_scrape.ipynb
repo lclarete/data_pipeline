{
 "cells": [
  {
   "cell_type": "code",
   "execution_count": 10,
   "id": "04a3d990-95f2-4c08-9372-ec9d83eb5999",
   "metadata": {},
   "outputs": [
    {
     "name": "stderr",
     "output_type": "stream",
     "text": [
      "<ipython-input-10-02be95e6a4bf>:24: DeprecationWarning: executable_path has been deprecated, please pass in a Service object\n",
      "  driver = selenium.webdriver.Chrome(chrome_location)\n",
      "<ipython-input-10-02be95e6a4bf>:36: DeprecationWarning: find_element_by_* commands are deprecated. Please use find_element() instead\n",
      "  html = driver.find_element_by_tag_name(tag)\n"
     ]
    },
    {
     "name": "stdout",
     "output_type": "stream",
     "text": [
      "scrolling 0\n",
      "scrolling 1\n",
      "scrolling 2\n",
      "scrolling 3\n",
      "scrolling 4\n",
      "scrolling 5\n",
      "scrolling 6\n",
      "scrolling 7\n",
      "scrolling 8\n",
      "scrolling 9\n"
     ]
    }
   ],
   "source": [
    "from selenium.webdriver.common.keys import Keys\n",
    "from selenium.webdriver.support.ui import Select\n",
    "import selenium.webdriver\n",
    "import time\n",
    "from bs4 import BeautifulSoup\n",
    "from scrapy import Selector\n",
    "import pandas as pd\n",
    "\n",
    "# # Search a term at the youtube search bar\n",
    "# search_xpath = '//*[(@id = \"search\")]'\n",
    "# search = driver.find_element_by_xpath(search_xpath)\n",
    "# time.sleep(sleep)\n",
    "# search.send_keys(term, Keys.RETURN)\n",
    "# time.sleep(sleep)\n",
    "# url = 'https://www.youtube.com/'\n",
    "\n",
    "# Scrape a specific search url\n",
    "url = 'https://www.youtube.com/results?search_query=asma+%2B+doença%2A+OR+saúde+OR+crise%2A+OR+sintoma%2A+OR+morte%2A+OR+morre%2A+OR+trata%2A+OR+ter+OR+cuida%2A+OR+adulto%2A+OR+criança%2A+OR+bronquite%2A+OR+simpatia%2A+OR+hospital+OR+diagnost%2A+OR+benz%2A&sp=CAI%253D'\n",
    "\n",
    "# Setting chrome drive\n",
    "#chrome_location = '/Users/liviaclarete/coding/scrap_page/chromedriver'\n",
    "chrome_location =  'C:/Users/alank/Documents/alan/chromedriver.exe'\n",
    "\n",
    "driver = selenium.webdriver.Chrome(chrome_location)\n",
    "driver.get(url)\n",
    "time.sleep(1)\n",
    "\n",
    "# Scrolling YouTube page\n",
    "tag = 'html'\n",
    "n = 0\n",
    "n_iterations = 10\n",
    "sleep = 4\n",
    "\n",
    "try:\n",
    "    while n < n_iterations:\n",
    "        html = driver.find_element_by_tag_name(tag)\n",
    "        time.sleep(sleep)\n",
    "        html.send_keys(Keys.END)\n",
    "        time.sleep(sleep)\n",
    "        html.send_keys(Keys.HOME)\n",
    "        print(f'scrolling {n}')\n",
    "        n += 1\n",
    "    # Saving data into a BS object\n",
    "    content = driver.page_source\n",
    "    file_ = open('page2.html', 'w')\n",
    "    file_.write(content)\n",
    "    file_.close()\n",
    "    response = Selector(text=driver.page_source.encode('utf-8'))\n",
    "    soup = BeautifulSoup(content, 'lxml')\n",
    "    driver.close()\n",
    "    # with open('soup_youtube.html', 'w') as file:\n",
    "    #     file.write(str(content))        \n",
    "except:\n",
    "    driver.close()"
   ]
  },
  {
   "cell_type": "code",
   "execution_count": null,
   "id": "f110f36e-52cd-4e75-9167-b7afd9464765",
   "metadata": {},
   "outputs": [],
   "source": []
  }
 ],
 "metadata": {
  "kernelspec": {
   "display_name": "Python 3",
   "language": "python",
   "name": "python3"
  },
  "language_info": {
   "codemirror_mode": {
    "name": "ipython",
    "version": 3
   },
   "file_extension": ".py",
   "mimetype": "text/x-python",
   "name": "python",
   "nbconvert_exporter": "python",
   "pygments_lexer": "ipython3",
   "version": "3.8.8"
  }
 },
 "nbformat": 4,
 "nbformat_minor": 5
}

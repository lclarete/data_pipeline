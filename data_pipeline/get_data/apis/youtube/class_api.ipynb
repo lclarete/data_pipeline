{
 "cells": [
  {
   "cell_type": "code",
   "execution_count": 1,
   "id": "b1d7045e-597f-4446-b4a0-64528236f252",
   "metadata": {},
   "outputs": [],
   "source": [
    "from apiclient.discovery import build\n",
    "import pandas as pd\n",
    "from datetime import datetime\n"
   ]
  },
  {
   "cell_type": "code",
   "execution_count": null,
   "id": "8eec037f-79b1-40a5-9144-6045e0e1047b",
   "metadata": {},
   "outputs": [],
   "source": [
    "class youtube_api:\n",
    "    def __init__(self, service_name, api_version, api_key):\n",
    "        self.service_name = service_name\n",
    "        self.api_version  = api_version\n",
    "        self.api_key      = api_key\n",
    "        \n",
    "    def search(keyword, \n",
    "               max_results=50, \n",
    "               order=\"viewCount\", \n",
    "               pageToken=None, \n",
    "               location=None, \n",
    "               publishedAfter=None,\n",
    "               publishedBefore=None):\n",
    "        \n",
    "        youtube = build(YOUTUBE_API_SERVICE_NAME, YOUTUBE_API_VERSION, developerKey=API_KEY)\n",
    "\n",
    "        search_response = youtube.search().list(q          = keyword, #q = query\n",
    "                                                type       = \"video\",\n",
    "                                                pageToken  = pageToken,\n",
    "                                                order      = order,\n",
    "                                                part       = \"id,snippet\",\n",
    "                                                maxResults = max_results,\n",
    "                                                location   = location,\n",
    "                                                publishedAfter  = publishedAfter,\n",
    "                                                publishedBefore = publishedBefore\n",
    "\n",
    "        ).execute()\n",
    "        return(search_response)"
   ]
  }
 ],
 "metadata": {
  "kernelspec": {
   "display_name": "Python 3",
   "language": "python",
   "name": "python3"
  },
  "language_info": {
   "codemirror_mode": {
    "name": "ipython",
    "version": 3
   },
   "file_extension": ".py",
   "mimetype": "text/x-python",
   "name": "python",
   "nbconvert_exporter": "python",
   "pygments_lexer": "ipython3",
   "version": "3.8.8"
  }
 },
 "nbformat": 4,
 "nbformat_minor": 5
}

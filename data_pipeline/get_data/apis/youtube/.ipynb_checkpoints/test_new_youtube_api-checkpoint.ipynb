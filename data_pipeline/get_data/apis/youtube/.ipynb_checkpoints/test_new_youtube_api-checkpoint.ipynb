{
 "cells": [
  {
   "cell_type": "code",
   "execution_count": 1,
   "id": "26ee3d36-497d-4968-b8af-8f880c9b6660",
   "metadata": {},
   "outputs": [],
   "source": [
    "from apiclient.discovery import build\n",
    "import pandas as pd\n",
    "from datetime import datetime\n"
   ]
  },
  {
   "cell_type": "code",
   "execution_count": 2,
   "id": "0ef0484a-15dc-4b7f-8342-22ae2644558d",
   "metadata": {},
   "outputs": [],
   "source": [
    "API_KEY = 'GOOGLE_SECRET_KEY'\n",
    "HEADERS = {\"User-Agent\": \"Mozilla/5.0 (Windows NT 10.0; Win64; x64) AppleWebKit/537.36 (KHTML, like Gecko) Chrome/95.0.4638.54 Safari/537.36\"}"
   ]
  },
  {
   "cell_type": "code",
   "execution_count": 3,
   "id": "7f54b09a-dbe0-4163-9ff8-4f0aac3defc6",
   "metadata": {},
   "outputs": [],
   "source": [
    "def textToDate(string):\n",
    "    date = datetime.strptime(string, \"%b %d, %Y\")\n",
    "    return date\n",
    "\n",
    "def dateToTime(date):\n",
    "    time = date.strftime(\"%Y-%m-%dT%H:%M:%SZ\")\n",
    "    return time\n",
    "\n",
    "def createResponse(start, end):\n",
    "    req = youtube.search().list(\n",
    "        q=KEYWORD,\n",
    "        part=\"snippet\",\n",
    "        type=\"video\",\n",
    "        maxResults=50, \n",
    "        publishedAfter=start, \n",
    "        publishedBefore=end\n",
    "    )\n",
    "    \n",
    "    return req\n",
    "\n",
    "def videoStats(url):\n",
    "    req = youtube.videos().list(\n",
    "        id=url,\n",
    "        part=\"statistics\"\n",
    "    )\n",
    "\n",
    "    return req"
   ]
  },
  {
   "cell_type": "code",
   "execution_count": 4,
   "id": "def4979e-b547-40ae-ba96-0e40a840dc3a",
   "metadata": {},
   "outputs": [],
   "source": [
    "# variables\n",
    "START_DATE = \"Jan 13, 2021\"\n",
    "END_DATE   = \"Oct 15, 2021\"\n",
    "KEYWORD    = \"avengers\"\n",
    "REQUEST_COUNT = 4 #Each request returns 50 videos"
   ]
  },
  {
   "cell_type": "code",
   "execution_count": 5,
   "id": "bd4bf231-a4c6-470a-b1a9-5c0a3623a8aa",
   "metadata": {},
   "outputs": [],
   "source": [
    "start = textToDate(START_DATE)\n",
    "end   = textToDate(END_DATE)\n",
    "\n",
    "youtube = build(\"youtube\", \"v3\", developerKey=API_KEY)\n",
    "\n",
    "quarter     = (end-start)/REQUEST_COUNT\n",
    "local_start = start\n",
    "local_end   = start+quarter\n"
   ]
  },
  {
   "cell_type": "code",
   "execution_count": null,
   "id": "8d302781-8958-4f13-ad19-4532e7f2330d",
   "metadata": {},
   "outputs": [],
   "source": [
    "\n",
    "big_data_list = []\n",
    "for _ in range(REQUEST_COUNT):\n",
    "    publishedAfter  = dateToTime(local_start)\n",
    "    publishedBefore = dateToTime(local_end)\n",
    "    req = createResponse(publishedAfter, publishedBefore)\n",
    "    res = req.execute()\n",
    "    items = res.get(\"items\", [])\n",
    "\n",
    "    ids = []\n",
    "    data_list = []\n",
    "    for i in range(len(items)):\n",
    "        data = {}\n",
    "        channelName = items[i][\"snippet\"][\"channelTitle\"]\n",
    "        title = items[i][\"snippet\"][\"title\"]\n",
    "        description = items[i][\"snippet\"][\"description\"]\n",
    "        videoId = items[i][\"id\"][\"videoId\"]\n",
    "        url = \"https://www.youtube.com/watch?v=\" + videoId\n",
    "        data[\"channelName\"] = channelName\n",
    "        data[\"title\"] = title\n",
    "        data[\"description\"] = description\n",
    "        data[\"url\"] = url\n",
    "\n",
    "        ids.append(videoId)\n",
    "        data_list.append(data)\n",
    "\n",
    "    urlString = \",\".join(ids)\n",
    "    statsReq = videoStats(urlString)\n",
    "    statsRes = statsReq.execute()\n",
    "    statsItems = statsRes.get(\"items\", [])\n",
    "\n",
    "    stats_list = []\n",
    "    for i in range(len(statsItems)):\n",
    "        stats = {}\n",
    "        viewCount = statsItems[i][\"statistics\"].get(\"viewCount\", \"N/A\")\n",
    "        likeCount = statsItems[i][\"statistics\"].get(\"likeCount\", \"N/A\")\n",
    "        dislikeCount = statsItems[i][\"statistics\"].get(\"dislikeCount\", \"N/A\")\n",
    "        commentCount = statsItems[i][\"statistics\"].get(\"commentCount\", \"N/A\")\n",
    "\n",
    "        stats[\"viewCount\"] = viewCount\n",
    "        stats[\"likeCount\"] = likeCount\n",
    "        stats[\"dislikeCount\"] = dislikeCount\n",
    "        stats[\"commentCount\"] = commentCount\n",
    "\n",
    "        stats_list.append(stats)\n",
    "\n",
    "    assert len(stats_list) == len(data_list), \"stats and data are not of same length\"\n",
    "    \n",
    "    for i in range(len(stats_list)):\n",
    "        data = data_list[i]\n",
    "        stats = stats_list[i]\n",
    "        \n",
    "        total = {**data, **stats}\n",
    "        big_data_list.append(total)\n",
    "\n",
    "    local_start = local_end\n",
    "    local_end += quarter\n",
    "\n",
    "\n",
    "df = pd.DataFrame(big_data_list)\n",
    "json_name = KEYWORD+\".json\"\n",
    "df.to_json(json_name, orient=\"records\", indent=4)"
   ]
  }
 ],
 "metadata": {
  "kernelspec": {
   "display_name": "Python 3",
   "language": "python",
   "name": "python3"
  },
  "language_info": {
   "codemirror_mode": {
    "name": "ipython",
    "version": 3
   },
   "file_extension": ".py",
   "mimetype": "text/x-python",
   "name": "python",
   "nbconvert_exporter": "python",
   "pygments_lexer": "ipython3",
   "version": "3.8.8"
  }
 },
 "nbformat": 4,
 "nbformat_minor": 5
}

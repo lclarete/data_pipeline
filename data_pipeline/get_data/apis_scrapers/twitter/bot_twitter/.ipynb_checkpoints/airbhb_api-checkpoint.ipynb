{
 "cells": [
  {
   "cell_type": "code",
   "execution_count": 87,
   "metadata": {},
   "outputs": [],
   "source": [
    "import pandas as pd\n",
    "import airbnb"
   ]
  },
  {
   "cell_type": "code",
   "execution_count": 69,
   "metadata": {},
   "outputs": [
    {
     "name": "stdout",
     "output_type": "stream",
     "text": [
      "Your access token: 4ca2dpnbodijgsj1ht47skb7n\n"
     ]
    }
   ],
   "source": [
    "api = airbnb.Api('livia.clarete@gmail.com', 'livia20po!')"
   ]
  },
  {
   "cell_type": "code",
   "execution_count": 70,
   "metadata": {},
   "outputs": [],
   "source": [
    "api = airbnb.Api(access_token='4ca2dpnbodijgsj1ht47skb7n')"
   ]
  },
  {
   "cell_type": "code",
   "execution_count": 85,
   "metadata": {},
   "outputs": [],
   "source": [
    "profile = api.get_profile()"
   ]
  },
  {
   "cell_type": "code",
   "execution_count": 90,
   "metadata": {},
   "outputs": [],
   "source": [
    "df_profile = pd.DataFrame(profile)"
   ]
  },
  {
   "cell_type": "code",
   "execution_count": 105,
   "metadata": {},
   "outputs": [
    {
     "data": {
      "text/plain": [
       "'Livia was an amazing host! I stayed at her place with my girlfriend for the carnival dates and she took us to the \"blocos\" with her friends and she was always very available for us. Location is amazing and safe, you have a nice mall no further than 100 m, you\\'re located just in front of Botafogo beach, and a metro station at less than 5 min walking. Nothing to improve at the place, a very comfortable apartment with all the necessary things, laundry, kitchen, nice bathroom and even when she doesn\\'t have wi-fi as an option in her Airbnb offer, there\\'s a public hotspot and she can show you how to log in. You shouldn\\'t skip this option.'"
      ]
     },
     "execution_count": 105,
     "metadata": {},
     "output_type": "execute_result"
    }
   ],
   "source": [
    "df_profile.loc['account']['login']['user']['recent_review']['review']['comments']"
   ]
  },
  {
   "cell_type": "code",
   "execution_count": null,
   "metadata": {},
   "outputs": [],
   "source": []
  }
 ],
 "metadata": {
  "kernelspec": {
   "display_name": "maurizio",
   "language": "python",
   "name": "maurizio"
  },
  "language_info": {
   "codemirror_mode": {
    "name": "ipython",
    "version": 3
   },
   "file_extension": ".py",
   "mimetype": "text/x-python",
   "name": "python",
   "nbconvert_exporter": "python",
   "pygments_lexer": "ipython3",
   "version": "3.6.0"
  },
  "toc": {
   "base_numbering": 1,
   "nav_menu": {},
   "number_sections": true,
   "sideBar": true,
   "skip_h1_title": false,
   "title_cell": "Table of Contents",
   "title_sidebar": "Contents",
   "toc_cell": false,
   "toc_position": {},
   "toc_section_display": true,
   "toc_window_display": false
  }
 },
 "nbformat": 4,
 "nbformat_minor": 4
}

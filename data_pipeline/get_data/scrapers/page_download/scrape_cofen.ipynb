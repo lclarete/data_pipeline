{
 "cells": [
  {
   "cell_type": "code",
   "execution_count": 437,
   "metadata": {},
   "outputs": [],
   "source": [
    "import pandas as pd\n",
    "import numpy as np\n",
    "import requests\n",
    "from bs4 import BeautifulSoup as bs"
   ]
  },
  {
   "cell_type": "code",
   "execution_count": 384,
   "metadata": {},
   "outputs": [],
   "source": [
    "# download data from the website\n",
    "def download_page(url, method_bs=True):\n",
    "    res = requests.get(url)\n",
    "#     if method_bs == True:\n",
    "#         return bs(res.text, 'html.parser')\n",
    "    return res.content\n",
    "\n",
    "def download_pages(list_url, method_bs=True):\n",
    "    data = []\n",
    "    for link in links:\n",
    "        data.append(download_page(link, method_bs=True))\n",
    "    return data"
   ]
  },
  {
   "cell_type": "code",
   "execution_count": 385,
   "metadata": {},
   "outputs": [],
   "source": [
    "import re\n",
    "def scrape_df(data_page):\n",
    "    # get the email\n",
    "    css_email = '::attr(href)'\n",
    "    re_email = '[a-zA-Z0-9-_.]+@[a-zA-Z0-9-_.]+'\n",
    "\n",
    "    program_email = ''\n",
    "    for i in data_page:\n",
    "        print(i)\n",
    "        print('1 --------------')\n",
    "#         print(re.findall(re_email, i))\n",
    "#     return program_email"
   ]
  },
  {
   "cell_type": "code",
   "execution_count": 386,
   "metadata": {},
   "outputs": [],
   "source": [
    "from scrapy import Selector\n",
    "\n",
    "def get_selector(text, css_selector):\n",
    "    sel = Selector(text=text)\n",
    "    extraction = sel.css(css_selector).extract()\n",
    "    return extraction\n",
    "\n",
    "def get_name(text):\n",
    "    name = get_selector(text, '.title::text')\n",
    "    try:\n",
    "        return list(map(lambda x:x.split(':'), name))[0][0].strip()\n",
    "    except:\n",
    "        return name\n",
    "\n",
    "def get_phone(text):\n",
    "    phone = get_selector(text, 'p:nth-child(4)::text')\n",
    "    try:\n",
    "        return list(map(lambda x:x.split(':'), phone))[0][1].strip()\n",
    "    except:\n",
    "        return phone\n",
    "\n",
    "def get_email(text):\n",
    "    email = get_selector(text, 'p:nth-child(5)::text')\n",
    "    try:\n",
    "        return list(map(lambda x:x.split(':'), email))[0][2].strip()\n",
    "    except:\n",
    "        return email\n",
    "\n",
    "def get_site(text):\n",
    "    site = get_selector(text, 'p:nth-child(8)::text')\n",
    "    try:\n",
    "        return list(map(lambda x:x.split(':'), site))[0][1].strip()\n",
    "    except:\n",
    "        return site"
   ]
  },
  {
   "cell_type": "code",
   "execution_count": 401,
   "metadata": {},
   "outputs": [],
   "source": [
    "def extract_data(text, pattern):\n",
    "    emails = list(set(re.findall(pattern, str(text))))\n",
    "    return ', '.join(emails)\n",
    "\n",
    "def get_email(text):\n",
    "    return extract_data(text, '[a-zA-Z0-9-_.]+@[a-zA-Z0-9-_.]+')"
   ]
  },
  {
   "cell_type": "code",
   "execution_count": 380,
   "metadata": {},
   "outputs": [],
   "source": [
    "email_pattern = '[a-zA-Z0-9-_.]+@[a-zA-Z0-9-_.]+'\n",
    "website_pattern = r'Site:.(\\w+.)'"
   ]
  },
  {
   "cell_type": "code",
   "execution_count": 403,
   "metadata": {},
   "outputs": [
    {
     "data": {
      "text/plain": [
       "''"
      ]
     },
     "execution_count": 403,
     "metadata": {},
     "output_type": "execute_result"
    }
   ],
   "source": [
    "extract_data(sec, website_pattern)"
   ]
  },
  {
   "cell_type": "code",
   "execution_count": 347,
   "metadata": {},
   "outputs": [],
   "source": [
    "links = [\n",
    "    'http://www.cofen.gov.br/conselho-regional-de-enfermagem-do-rio-grande-do-sul_4431.html',\n",
    "    'http://www.cofen.gov.br/conselho-regional-de-enfermagem-do-amazonas_4411.html',\n",
    "    'http://www.cofen.gov.br/conselho-regional-de-enfermagem-do-distrito-federal_4415.html'\n",
    "       ]"
   ]
  },
  {
   "cell_type": "code",
   "execution_count": 298,
   "metadata": {},
   "outputs": [],
   "source": [
    "data = download_pages(links, method_bs=False)"
   ]
  },
  {
   "cell_type": "code",
   "execution_count": 348,
   "metadata": {},
   "outputs": [],
   "source": [
    "def get_all_entities(text):\n",
    "    # get data\n",
    "    name = get_name(text)\n",
    "    phone = get_phone(text)\n",
    "    email = get_email(text)\n",
    "    site = get_site(text)\n",
    "\n",
    "    # creating a dataframe\n",
    "    df = pd.DataFrame([name, phone, email, site]).T\n",
    "    df.columns = ['name', 'phone', 'email', 'website']\n",
    "    return df"
   ]
  },
  {
   "cell_type": "code",
   "execution_count": 349,
   "metadata": {},
   "outputs": [],
   "source": [
    "a = get_all_entities(data[1])"
   ]
  },
  {
   "cell_type": "code",
   "execution_count": 350,
   "metadata": {},
   "outputs": [
    {
     "data": {
      "text/html": [
       "<div>\n",
       "<style scoped>\n",
       "    .dataframe tbody tr th:only-of-type {\n",
       "        vertical-align: middle;\n",
       "    }\n",
       "\n",
       "    .dataframe tbody tr th {\n",
       "        vertical-align: top;\n",
       "    }\n",
       "\n",
       "    .dataframe thead th {\n",
       "        text-align: right;\n",
       "    }\n",
       "</style>\n",
       "<table border=\"1\" class=\"dataframe\">\n",
       "  <thead>\n",
       "    <tr style=\"text-align: right;\">\n",
       "      <th></th>\n",
       "      <th>name</th>\n",
       "      <th>phone</th>\n",
       "      <th>email</th>\n",
       "      <th>website</th>\n",
       "    </tr>\n",
       "  </thead>\n",
       "  <tbody>\n",
       "    <tr>\n",
       "      <th>0</th>\n",
       "      <td>Conselho Regional de Enfermagem do Amazonas</td>\n",
       "      <td>8h – 16h</td>\n",
       "      <td>secretariaexecutiva@corenam.gov.br</td>\n",
       "      <td>[]</td>\n",
       "    </tr>\n",
       "  </tbody>\n",
       "</table>\n",
       "</div>"
      ],
      "text/plain": [
       "                                          name     phone  \\\n",
       "0  Conselho Regional de Enfermagem do Amazonas  8h – 16h   \n",
       "\n",
       "                                email website  \n",
       "0  secretariaexecutiva@corenam.gov.br      []  "
      ]
     },
     "execution_count": 350,
     "metadata": {},
     "output_type": "execute_result"
    }
   ],
   "source": [
    "a"
   ]
  },
  {
   "cell_type": "code",
   "execution_count": 317,
   "metadata": {},
   "outputs": [],
   "source": [
    "l = []\n",
    "for i in range(len(data)):\n",
    "    entities = get_all_entities(data[i])\n",
    "    l.append(entities)"
   ]
  },
  {
   "cell_type": "code",
   "execution_count": 318,
   "metadata": {},
   "outputs": [
    {
     "data": {
      "text/html": [
       "<div>\n",
       "<style scoped>\n",
       "    .dataframe tbody tr th:only-of-type {\n",
       "        vertical-align: middle;\n",
       "    }\n",
       "\n",
       "    .dataframe tbody tr th {\n",
       "        vertical-align: top;\n",
       "    }\n",
       "\n",
       "    .dataframe thead th {\n",
       "        text-align: right;\n",
       "    }\n",
       "</style>\n",
       "<table border=\"1\" class=\"dataframe\">\n",
       "  <thead>\n",
       "    <tr style=\"text-align: right;\">\n",
       "      <th></th>\n",
       "      <th>name</th>\n",
       "      <th>phone</th>\n",
       "      <th>email</th>\n",
       "      <th>website</th>\n",
       "    </tr>\n",
       "  </thead>\n",
       "  <tbody>\n",
       "    <tr>\n",
       "      <th>0</th>\n",
       "      <td>Conselho Regional de Enfermagem do Rio Grande ...</td>\n",
       "      <td>(51) 3378-5500</td>\n",
       "      <td>sac@portalcoren-rs.gov.br, sic@portalcoren-rs....</td>\n",
       "      <td>www.portalcoren-rs.gov.br</td>\n",
       "    </tr>\n",
       "    <tr>\n",
       "      <th>0</th>\n",
       "      <td>Conselho Regional de Enfermagem do Amazonas</td>\n",
       "      <td>8h – 16h</td>\n",
       "      <td>secretariaexecutiva@corenam.gov.br</td>\n",
       "      <td>[]</td>\n",
       "    </tr>\n",
       "    <tr>\n",
       "      <th>0</th>\n",
       "      <td>Conselho Regional de Enfermagem do Distrito Fe...</td>\n",
       "      <td>[Segunda a sexta, das 7h às 18h – exclusivo pa...</td>\n",
       "      <td>secretariagabinete@coren-df.org.br</td>\n",
       "      <td>[]</td>\n",
       "    </tr>\n",
       "  </tbody>\n",
       "</table>\n",
       "</div>"
      ],
      "text/plain": [
       "                                                name  \\\n",
       "0  Conselho Regional de Enfermagem do Rio Grande ...   \n",
       "0        Conselho Regional de Enfermagem do Amazonas   \n",
       "0  Conselho Regional de Enfermagem do Distrito Fe...   \n",
       "\n",
       "                                               phone  \\\n",
       "0                                     (51) 3378-5500   \n",
       "0                                           8h – 16h   \n",
       "0  [Segunda a sexta, das 7h às 18h – exclusivo pa...   \n",
       "\n",
       "                                               email  \\\n",
       "0  sac@portalcoren-rs.gov.br, sic@portalcoren-rs....   \n",
       "0                 secretariaexecutiva@corenam.gov.br   \n",
       "0                 secretariagabinete@coren-df.org.br   \n",
       "\n",
       "                     website  \n",
       "0  www.portalcoren-rs.gov.br  \n",
       "0                         []  \n",
       "0                         []  "
      ]
     },
     "execution_count": 318,
     "metadata": {},
     "output_type": "execute_result"
    }
   ],
   "source": [
    "pd.concat(l)"
   ]
  },
  {
   "cell_type": "markdown",
   "metadata": {},
   "source": [
    "## Secretarias de Saúde"
   ]
  },
  {
   "cell_type": "code",
   "execution_count": 557,
   "metadata": {},
   "outputs": [],
   "source": [
    "link = 'https://www.conass.org.br/secretarios-estaduais-de-saude/'"
   ]
  },
  {
   "cell_type": "code",
   "execution_count": 558,
   "metadata": {},
   "outputs": [],
   "source": [
    "sec = download_page(link)"
   ]
  },
  {
   "cell_type": "code",
   "execution_count": 585,
   "metadata": {},
   "outputs": [
    {
     "name": "stdout",
     "output_type": "stream",
     "text": [
      "RELAÇÃO DAS SECRETARIAS ESTADUAIS DE SAÚDE\n",
      "Alexandre Ayres\n",
      "Juan Mendes da Silva\n",
      "Fábio Vilas Boas\n",
      "Carlos Roberto Martins Rodrigues Sobrinho\n",
      "Osney Okumoto\n",
      "Nésio Fernandes de Medeiros Junior\n",
      "Carlos Eduardo de Oliveira Lula\n",
      "Gilberto Figueiredo\n",
      "Geraldo Resende\n",
      "Rômulo Rodovalho\n",
      "Geraldo Antônio de Medeiros\n",
      "Carlos Alberto Gebrim Preto\n",
      "André Longo\n",
      "Alex da Silva Bousquet\n",
      "Cipriano Maia\n",
      "Arita Gilda Hübner Bergmann\n",
      "Marcelo Lima Lopes\n",
      "André Motta Ribeiro\n",
      "Mércia Feitosa\n",
      "Luiz Edgar Leão Tolini\n"
     ]
    }
   ],
   "source": [
    "for i in get_selector(sec, 'strong::text'):\n",
    "    if len(i) > 3:\n",
    "        print(i)"
   ]
  },
  {
   "cell_type": "code",
   "execution_count": 567,
   "metadata": {},
   "outputs": [],
   "source": [
    "data = get_selector(sec,'p::text')"
   ]
  },
  {
   "cell_type": "code",
   "execution_count": 568,
   "metadata": {},
   "outputs": [],
   "source": [
    "def get_data(word, list_strings):\n",
    "    l = []\n",
    "    for string in list_strings:\n",
    "        if word in string:\n",
    "            l.append(string)\n",
    "    return l"
   ]
  },
  {
   "cell_type": "code",
   "execution_count": 586,
   "metadata": {},
   "outputs": [],
   "source": [
    "phone = get_data('Facebook', data)\n",
    "clean_phones = list(map(lambda x:x.replace('Telefone: ', 'Phone: +55'), phone))"
   ]
  },
  {
   "cell_type": "code",
   "execution_count": 587,
   "metadata": {},
   "outputs": [],
   "source": [
    "for i in clean_phones:\n",
    "    print(i)"
   ]
  },
  {
   "cell_type": "code",
   "execution_count": null,
   "metadata": {},
   "outputs": [],
   "source": []
  }
 ],
 "metadata": {
  "kernelspec": {
   "display_name": "coca3",
   "language": "python",
   "name": "coca3"
  },
  "language_info": {
   "codemirror_mode": {
    "name": "ipython",
    "version": 3
   },
   "file_extension": ".py",
   "mimetype": "text/x-python",
   "name": "python",
   "nbconvert_exporter": "python",
   "pygments_lexer": "ipython3",
   "version": "3.7.6"
  },
  "toc": {
   "base_numbering": 1,
   "nav_menu": {},
   "number_sections": true,
   "sideBar": true,
   "skip_h1_title": false,
   "title_cell": "Table of Contents",
   "title_sidebar": "Contents",
   "toc_cell": false,
   "toc_position": {},
   "toc_section_display": true,
   "toc_window_display": false
  }
 },
 "nbformat": 4,
 "nbformat_minor": 4
}

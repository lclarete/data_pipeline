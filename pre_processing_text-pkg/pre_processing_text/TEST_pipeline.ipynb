{
 "cells": [
  {
   "cell_type": "markdown",
   "metadata": {},
   "source": [
    "# Pipeline\n",
    "\n",
    "Diagnosis -> Clean_1_regex -> Normalize -> Clean_2_sw -> Create_Vocab -> Clean_Vocab -> Vectorize -> Modeling\n",
    "_____"
   ]
  },
  {
   "cell_type": "markdown",
   "metadata": {},
   "source": [
    "Next steps:\n",
    "\n",
    "__Challenges:__\n",
    "* Include new functions in the preprocessing_custom file\n",
    "* Follow coursera course\n",
    "* Thems based on regular expressions -- I already have a function that does it -- refactoring it\n",
    "_____\n",
    "\n",
    "__Semantic challenges: Look for regex patterns:__ \n",
    "* Is that possible to search for word patterns using regular expressions? Such as upper case words?\n",
    "* Include new features not only based on regex, such as: number of words, len of words, n characters, len characters, etc.\n",
    "\n",
    "\n",
    "____ \n",
    "\n",
    "__Tutorials__:\n",
    "\n",
    "* Text processing pipeline: https://www.tutorialspoint.com/python_text_processing/python_text_processing_environment.htm\n",
    "\n",
    "* AI Pipeline: https://www.tutorialspoint.com/artificial_intelligence_with_python/index.htm\n",
    "\n",
    "\n",
    "Regex material:\n",
    "* https://towardsdatascience.com/nlp-basics-understanding-regular-expressions-fc7c7746bc70#:~:text=Simply%20put%2C%20a%20regular%20expression,specify%20a%20disjunction%20of%20characters.\n",
    "\n",
    "* https://web.stanford.edu/~jurafsky/slp3/2.pdf\n",
    "* https://www.regular-expressions.info/replacecase.html#:~:text=In%20the%20regex%20%5CU%5Cw,is%20not%20a%20word%20character."
   ]
  },
  {
   "cell_type": "markdown",
   "metadata": {},
   "source": [
    "# Semantic\n",
    "Test strings and regex dictionary"
   ]
  },
  {
   "cell_type": "code",
   "execution_count": 1,
   "metadata": {},
   "outputs": [],
   "source": [
    "import pandas as pd\n",
    "import numpy as np"
   ]
  },
  {
   "cell_type": "code",
   "execution_count": 2,
   "metadata": {},
   "outputs": [],
   "source": [
    "# test data\n",
    "## include string\n",
    "## include list of strings\n",
    "## include regex dict\n",
    "\n",
    "import re\n",
    "import string\n",
    "\n",
    "s = 'result results resulted resulting run UPPER CASE @you running ran No #results  😺 😺 😺@results FOUND. View all teams. MAD Prod Fundraistrick. 350 10th Ave, Suite 1100. San Diego, CA 92101 US. Back to top. Donor Support braistrick@stayclassy.org'\n",
    "s1 = 'No results results found. View all teams. Prod Fundraistrick. 350 10th Ave, Suite 1100. San Diego, CA 92101 US. Back to top. Donor Support braistrick@stayclassy.org. http://localhost:8888/notebooks/nlp/cleaning_sandbox.ipynb https://www.w3schools.com/python/python_regex.asp'\n",
    "s2 = 'https://www.w3schools.com/python/python_regex.asp No results results found. View all teams. Prod Fundraistrick. 350 10th Ave, Suite 1100. San Diego, CA 92101 US. Back to top. Donor Support braistrick@stayclassy.org. http://localhost:8888/notebooks/nlp/cleaning_sandbox.ipynb'\n",
    "s3 = 'No results results found. View all teams. Prod Fundraistrick. 350 10th Ave, Suite 1100. San Diego, CA 92101 US. Back to top. Donor Support braistrick@stayclassy.org. http://localhost:8888/notebooks/nlp/cleaning_sandbox.ipynb'\n",
    "s4 = 'results results found view teams prod fundraistrick ave suite san diego back top donor support'\n",
    "list_of_strings = [s, s1, s2, s3, s4]\n",
    "\n",
    "dict_regex = {\n",
    "    'hashtags': r'#(\\w+)',\n",
    "    # returns not only mentions, but\n",
    "    # part of the email after the @\n",
    "    'mentions': r'@(\\w+)',\n",
    "    'emails': r'',\n",
    "    'links': r'https?:\\/\\/.*[\\r\\n]*',\n",
    "    'remove_RT': '^RT[\\s]+',\n",
    "    'numbers': r'\\d+',\n",
    "    'symbols': r'',\n",
    "    'punctionation2': '[^\\w\\s]',\n",
    "    'punctionation': '[%s]' % re.escape(string.punctuation),\n",
    "    'periods': '\\.',\n",
    "    'exclamation points': '\\!',\n",
    "    'question marks': '\\?',\n",
    "    'upper case words': '[A-Z][A-Z\\d]+',\n",
    "    # https://stackoverflow.com/questions/39536390/match-unicode-emoji-in-python-regex\n",
    "    'emojis': '\\d+(.*?)[\\u263a-\\U0001f645]',\n",
    "    'emojis_work': \"['\\U0001F300-\\U0001F5FF'|'\\U0001F600-\\U0001F64F'|'\\U0001F680-\\U0001F6FF'|'\\u2600-\\u26FF\\u2700-\\u27BF']\",\n",
    "    'upper case': '[A-Z][A-Z\\d]+'\n",
    "}\n",
    "\n",
    "list_of_regex_values = list(dict_regex.values())\n",
    "list_of_regex_keys = list(dict_regex.keys())\n",
    "\n",
    "list_regex = ['😺', '😺 😺', '😺 😺 😺', 'prod', 'results', 'suite', ' ']\n",
    "\n"
   ]
  },
  {
   "cell_type": "markdown",
   "metadata": {},
   "source": [
    "# Test support functions"
   ]
  },
  {
   "cell_type": "markdown",
   "metadata": {},
   "source": [
    "## Test string functions"
   ]
  },
  {
   "cell_type": "code",
   "execution_count": 3,
   "metadata": {},
   "outputs": [],
   "source": [
    "from pre_processing_text.s_string_regex import re_match_string\n",
    "from pre_processing_text.s_string_regex import re_count_match_string\n",
    "from pre_processing_text.s_string_regex import re_sub_match_string"
   ]
  },
  {
   "cell_type": "code",
   "execution_count": 4,
   "metadata": {},
   "outputs": [
    {
     "data": {
      "text/plain": [
       "['you', 'results', 'stayclassy']"
      ]
     },
     "execution_count": 4,
     "metadata": {},
     "output_type": "execute_result"
    }
   ],
   "source": [
    "re_match_string(s, list_of_regex_values[1])"
   ]
  },
  {
   "cell_type": "code",
   "execution_count": 5,
   "metadata": {},
   "outputs": [
    {
     "data": {
      "text/plain": [
       "3"
      ]
     },
     "execution_count": 5,
     "metadata": {},
     "output_type": "execute_result"
    }
   ],
   "source": [
    "re_count_match_string(s, list_of_regex_values[1])"
   ]
  },
  {
   "cell_type": "code",
   "execution_count": 6,
   "metadata": {},
   "outputs": [
    {
     "data": {
      "text/plain": [
       "'result results resulted resulting run upper case running ran no #results 😺 😺 😺 found. view all teams. mad prod fundraistrick. 350 10th ave, suite 1100. san diego, ca 92101 us. back to top. donor support braistrick.org'"
      ]
     },
     "execution_count": 6,
     "metadata": {},
     "output_type": "execute_result"
    }
   ],
   "source": [
    "re_sub_match_string(s, list_of_regex_values[1])"
   ]
  },
  {
   "cell_type": "markdown",
   "metadata": {},
   "source": [
    "## Test list function"
   ]
  },
  {
   "cell_type": "code",
   "execution_count": 7,
   "metadata": {},
   "outputs": [],
   "source": [
    "from pre_processing_text.s_list_regex import func_re_list_strings\n",
    "from pre_processing_text.s_list_regex import n_re_matches_list_strings\n",
    "from pre_processing_text.s_list_format_pd import list_to_df"
   ]
  },
  {
   "cell_type": "code",
   "execution_count": 8,
   "metadata": {},
   "outputs": [
    {
     "data": {
      "text/plain": [
       "[1, 0, 0, 0, 0]"
      ]
     },
     "execution_count": 8,
     "metadata": {},
     "output_type": "execute_result"
    }
   ],
   "source": [
    "func_re_list_strings(re_count_match_string, \n",
    "                     list_of_strings, \n",
    "                     list_of_regex_values[0])"
   ]
  },
  {
   "cell_type": "code",
   "execution_count": 9,
   "metadata": {},
   "outputs": [],
   "source": [
    "# iterate through a list of regex over a list of strings\n",
    "t = n_re_matches_list_strings(\n",
    "    re_match_string,\n",
    "    list_of_strings,\n",
    "    dict_regex\n",
    "                         )"
   ]
  },
  {
   "cell_type": "code",
   "execution_count": 10,
   "metadata": {},
   "outputs": [
    {
     "data": {
      "text/html": [
       "<div>\n",
       "<style scoped>\n",
       "    .dataframe tbody tr th:only-of-type {\n",
       "        vertical-align: middle;\n",
       "    }\n",
       "\n",
       "    .dataframe tbody tr th {\n",
       "        vertical-align: top;\n",
       "    }\n",
       "\n",
       "    .dataframe thead th {\n",
       "        text-align: right;\n",
       "    }\n",
       "</style>\n",
       "<table border=\"1\" class=\"dataframe\">\n",
       "  <thead>\n",
       "    <tr style=\"text-align: right;\">\n",
       "      <th></th>\n",
       "      <th>count_hashtags</th>\n",
       "      <th>count_mentions</th>\n",
       "      <th>count_emails</th>\n",
       "      <th>count_links</th>\n",
       "      <th>count_remove_RT</th>\n",
       "      <th>count_numbers</th>\n",
       "      <th>count_symbols</th>\n",
       "      <th>count_punctionation2</th>\n",
       "      <th>count_punctionation</th>\n",
       "      <th>count_periods</th>\n",
       "      <th>count_exclamation points</th>\n",
       "      <th>count_question marks</th>\n",
       "      <th>count_upper case words</th>\n",
       "      <th>count_emojis</th>\n",
       "      <th>count_emojis_work</th>\n",
       "      <th>count_upper case</th>\n",
       "    </tr>\n",
       "  </thead>\n",
       "  <tbody>\n",
       "    <tr>\n",
       "      <th>0</th>\n",
       "      <td>[results]</td>\n",
       "      <td>[you, results, stayclassy]</td>\n",
       "      <td>[, , , , , , , , , , , , , , , , , , , , , , ,...</td>\n",
       "      <td>[]</td>\n",
       "      <td>[]</td>\n",
       "      <td>[350, 10, 1100, 92101]</td>\n",
       "      <td>[, , , , , , , , , , , , , , , , , , , , , , ,...</td>\n",
       "      <td>[@, #, 😺, 😺, 😺, @, ., ., ., ,, ., ,, ., ., @, .]</td>\n",
       "      <td>[@, #, @, ., ., ., ,, ., ,, ., ., @, .]</td>\n",
       "      <td>[., ., ., ., ., ., .]</td>\n",
       "      <td>[]</td>\n",
       "      <td>[]</td>\n",
       "      <td>[UPPER, CASE, FOUND, MAD, CA, US]</td>\n",
       "      <td>[]</td>\n",
       "      <td>[😺, 😺, 😺]</td>\n",
       "      <td>[UPPER, CASE, FOUND, MAD, CA, US]</td>\n",
       "    </tr>\n",
       "    <tr>\n",
       "      <th>1</th>\n",
       "      <td>[]</td>\n",
       "      <td>[stayclassy]</td>\n",
       "      <td>[, , , , , , , , , , , , , , , , , , , , , , ,...</td>\n",
       "      <td>[http://localhost:8888/notebooks/nlp/cleaning_...</td>\n",
       "      <td>[]</td>\n",
       "      <td>[350, 10, 1100, 92101, 8888, 3]</td>\n",
       "      <td>[, , , , , , , , , , , , , , , , , , , , , , ,...</td>\n",
       "      <td>[., ., ., ,, ., ,, ., ., @, ., ., :, /, /, :, ...</td>\n",
       "      <td>[., ., ., ,, ., ,, ., ., @, ., ., :, /, /, :, ...</td>\n",
       "      <td>[., ., ., ., ., ., ., ., ., ., ., .]</td>\n",
       "      <td>[]</td>\n",
       "      <td>[]</td>\n",
       "      <td>[CA, US]</td>\n",
       "      <td>[]</td>\n",
       "      <td>[]</td>\n",
       "      <td>[CA, US]</td>\n",
       "    </tr>\n",
       "    <tr>\n",
       "      <th>2</th>\n",
       "      <td>[]</td>\n",
       "      <td>[stayclassy]</td>\n",
       "      <td>[, , , , , , , , , , , , , , , , , , , , , , ,...</td>\n",
       "      <td>[https://www.w3schools.com/python/python_regex...</td>\n",
       "      <td>[]</td>\n",
       "      <td>[3, 350, 10, 1100, 92101, 8888]</td>\n",
       "      <td>[, , , , , , , , , , , , , , , , , , , , , , ,...</td>\n",
       "      <td>[:, /, /, ., ., /, /, ., ., ., ., ,, ., ,, ., ...</td>\n",
       "      <td>[:, /, /, ., ., /, /, _, ., ., ., ., ,, ., ,, ...</td>\n",
       "      <td>[., ., ., ., ., ., ., ., ., ., ., .]</td>\n",
       "      <td>[]</td>\n",
       "      <td>[]</td>\n",
       "      <td>[CA, US]</td>\n",
       "      <td>[]</td>\n",
       "      <td>[]</td>\n",
       "      <td>[CA, US]</td>\n",
       "    </tr>\n",
       "    <tr>\n",
       "      <th>3</th>\n",
       "      <td>[]</td>\n",
       "      <td>[stayclassy]</td>\n",
       "      <td>[, , , , , , , , , , , , , , , , , , , , , , ,...</td>\n",
       "      <td>[http://localhost:8888/notebooks/nlp/cleaning_...</td>\n",
       "      <td>[]</td>\n",
       "      <td>[350, 10, 1100, 92101, 8888]</td>\n",
       "      <td>[, , , , , , , , , , , , , , , , , , , , , , ,...</td>\n",
       "      <td>[., ., ., ,, ., ,, ., ., @, ., ., :, /, /, :, ...</td>\n",
       "      <td>[., ., ., ,, ., ,, ., ., @, ., ., :, /, /, :, ...</td>\n",
       "      <td>[., ., ., ., ., ., ., ., .]</td>\n",
       "      <td>[]</td>\n",
       "      <td>[]</td>\n",
       "      <td>[CA, US]</td>\n",
       "      <td>[]</td>\n",
       "      <td>[]</td>\n",
       "      <td>[CA, US]</td>\n",
       "    </tr>\n",
       "    <tr>\n",
       "      <th>4</th>\n",
       "      <td>[]</td>\n",
       "      <td>[]</td>\n",
       "      <td>[, , , , , , , , , , , , , , , , , , , , , , ,...</td>\n",
       "      <td>[]</td>\n",
       "      <td>[]</td>\n",
       "      <td>[]</td>\n",
       "      <td>[, , , , , , , , , , , , , , , , , , , , , , ,...</td>\n",
       "      <td>[]</td>\n",
       "      <td>[]</td>\n",
       "      <td>[]</td>\n",
       "      <td>[]</td>\n",
       "      <td>[]</td>\n",
       "      <td>[]</td>\n",
       "      <td>[]</td>\n",
       "      <td>[]</td>\n",
       "      <td>[]</td>\n",
       "    </tr>\n",
       "  </tbody>\n",
       "</table>\n",
       "</div>"
      ],
      "text/plain": [
       "  count_hashtags              count_mentions  \\\n",
       "0      [results]  [you, results, stayclassy]   \n",
       "1             []                [stayclassy]   \n",
       "2             []                [stayclassy]   \n",
       "3             []                [stayclassy]   \n",
       "4             []                          []   \n",
       "\n",
       "                                        count_emails  \\\n",
       "0  [, , , , , , , , , , , , , , , , , , , , , , ,...   \n",
       "1  [, , , , , , , , , , , , , , , , , , , , , , ,...   \n",
       "2  [, , , , , , , , , , , , , , , , , , , , , , ,...   \n",
       "3  [, , , , , , , , , , , , , , , , , , , , , , ,...   \n",
       "4  [, , , , , , , , , , , , , , , , , , , , , , ,...   \n",
       "\n",
       "                                         count_links count_remove_RT  \\\n",
       "0                                                 []              []   \n",
       "1  [http://localhost:8888/notebooks/nlp/cleaning_...              []   \n",
       "2  [https://www.w3schools.com/python/python_regex...              []   \n",
       "3  [http://localhost:8888/notebooks/nlp/cleaning_...              []   \n",
       "4                                                 []              []   \n",
       "\n",
       "                     count_numbers  \\\n",
       "0           [350, 10, 1100, 92101]   \n",
       "1  [350, 10, 1100, 92101, 8888, 3]   \n",
       "2  [3, 350, 10, 1100, 92101, 8888]   \n",
       "3     [350, 10, 1100, 92101, 8888]   \n",
       "4                               []   \n",
       "\n",
       "                                       count_symbols  \\\n",
       "0  [, , , , , , , , , , , , , , , , , , , , , , ,...   \n",
       "1  [, , , , , , , , , , , , , , , , , , , , , , ,...   \n",
       "2  [, , , , , , , , , , , , , , , , , , , , , , ,...   \n",
       "3  [, , , , , , , , , , , , , , , , , , , , , , ,...   \n",
       "4  [, , , , , , , , , , , , , , , , , , , , , , ,...   \n",
       "\n",
       "                                count_punctionation2  \\\n",
       "0   [@, #, 😺, 😺, 😺, @, ., ., ., ,, ., ,, ., ., @, .]   \n",
       "1  [., ., ., ,, ., ,, ., ., @, ., ., :, /, /, :, ...   \n",
       "2  [:, /, /, ., ., /, /, ., ., ., ., ,, ., ,, ., ...   \n",
       "3  [., ., ., ,, ., ,, ., ., @, ., ., :, /, /, :, ...   \n",
       "4                                                 []   \n",
       "\n",
       "                                 count_punctionation  \\\n",
       "0            [@, #, @, ., ., ., ,, ., ,, ., ., @, .]   \n",
       "1  [., ., ., ,, ., ,, ., ., @, ., ., :, /, /, :, ...   \n",
       "2  [:, /, /, ., ., /, /, _, ., ., ., ., ,, ., ,, ...   \n",
       "3  [., ., ., ,, ., ,, ., ., @, ., ., :, /, /, :, ...   \n",
       "4                                                 []   \n",
       "\n",
       "                          count_periods count_exclamation points  \\\n",
       "0                 [., ., ., ., ., ., .]                       []   \n",
       "1  [., ., ., ., ., ., ., ., ., ., ., .]                       []   \n",
       "2  [., ., ., ., ., ., ., ., ., ., ., .]                       []   \n",
       "3           [., ., ., ., ., ., ., ., .]                       []   \n",
       "4                                    []                       []   \n",
       "\n",
       "  count_question marks             count_upper case words count_emojis  \\\n",
       "0                   []  [UPPER, CASE, FOUND, MAD, CA, US]           []   \n",
       "1                   []                           [CA, US]           []   \n",
       "2                   []                           [CA, US]           []   \n",
       "3                   []                           [CA, US]           []   \n",
       "4                   []                                 []           []   \n",
       "\n",
       "  count_emojis_work                   count_upper case  \n",
       "0         [😺, 😺, 😺]  [UPPER, CASE, FOUND, MAD, CA, US]  \n",
       "1                []                           [CA, US]  \n",
       "2                []                           [CA, US]  \n",
       "3                []                           [CA, US]  \n",
       "4                []                                 []  "
      ]
     },
     "execution_count": 10,
     "metadata": {},
     "output_type": "execute_result"
    }
   ],
   "source": [
    "list_to_df(t, list_of_regex_keys)"
   ]
  },
  {
   "cell_type": "markdown",
   "metadata": {},
   "source": [
    "# Diagnoses: count and return the occurrences"
   ]
  },
  {
   "cell_type": "code",
   "execution_count": 11,
   "metadata": {},
   "outputs": [],
   "source": [
    "from pre_processing_text.view_list_count_regex import df_count_regex_matches\n",
    "from pre_processing_text.view_list_count_regex import df_matches\n",
    "\n",
    "from pre_processing_text.clean_list_regex import sub_list_strings_list_regex"
   ]
  },
  {
   "cell_type": "code",
   "execution_count": 12,
   "metadata": {},
   "outputs": [
    {
     "data": {
      "text/html": [
       "<div>\n",
       "<style scoped>\n",
       "    .dataframe tbody tr th:only-of-type {\n",
       "        vertical-align: middle;\n",
       "    }\n",
       "\n",
       "    .dataframe tbody tr th {\n",
       "        vertical-align: top;\n",
       "    }\n",
       "\n",
       "    .dataframe thead th {\n",
       "        text-align: right;\n",
       "    }\n",
       "</style>\n",
       "<table border=\"1\" class=\"dataframe\">\n",
       "  <thead>\n",
       "    <tr style=\"text-align: right;\">\n",
       "      <th></th>\n",
       "      <th>count_hashtags</th>\n",
       "      <th>count_mentions</th>\n",
       "      <th>count_emails</th>\n",
       "      <th>count_links</th>\n",
       "      <th>count_remove_RT</th>\n",
       "      <th>count_numbers</th>\n",
       "      <th>count_symbols</th>\n",
       "      <th>count_punctionation2</th>\n",
       "      <th>count_punctionation</th>\n",
       "      <th>count_periods</th>\n",
       "      <th>count_exclamation points</th>\n",
       "      <th>count_question marks</th>\n",
       "      <th>count_upper case words</th>\n",
       "      <th>count_emojis</th>\n",
       "      <th>count_emojis_work</th>\n",
       "      <th>count_upper case</th>\n",
       "    </tr>\n",
       "  </thead>\n",
       "  <tbody>\n",
       "    <tr>\n",
       "      <th>0</th>\n",
       "      <td>1</td>\n",
       "      <td>3</td>\n",
       "      <td>243</td>\n",
       "      <td>0</td>\n",
       "      <td>0</td>\n",
       "      <td>4</td>\n",
       "      <td>243</td>\n",
       "      <td>16</td>\n",
       "      <td>13</td>\n",
       "      <td>7</td>\n",
       "      <td>0</td>\n",
       "      <td>0</td>\n",
       "      <td>6</td>\n",
       "      <td>0</td>\n",
       "      <td>3</td>\n",
       "      <td>6</td>\n",
       "    </tr>\n",
       "    <tr>\n",
       "      <th>1</th>\n",
       "      <td>0</td>\n",
       "      <td>1</td>\n",
       "      <td>275</td>\n",
       "      <td>1</td>\n",
       "      <td>0</td>\n",
       "      <td>6</td>\n",
       "      <td>275</td>\n",
       "      <td>27</td>\n",
       "      <td>29</td>\n",
       "      <td>12</td>\n",
       "      <td>0</td>\n",
       "      <td>0</td>\n",
       "      <td>2</td>\n",
       "      <td>0</td>\n",
       "      <td>0</td>\n",
       "      <td>2</td>\n",
       "    </tr>\n",
       "    <tr>\n",
       "      <th>2</th>\n",
       "      <td>0</td>\n",
       "      <td>1</td>\n",
       "      <td>275</td>\n",
       "      <td>1</td>\n",
       "      <td>0</td>\n",
       "      <td>6</td>\n",
       "      <td>275</td>\n",
       "      <td>27</td>\n",
       "      <td>29</td>\n",
       "      <td>12</td>\n",
       "      <td>0</td>\n",
       "      <td>0</td>\n",
       "      <td>2</td>\n",
       "      <td>0</td>\n",
       "      <td>0</td>\n",
       "      <td>2</td>\n",
       "    </tr>\n",
       "    <tr>\n",
       "      <th>3</th>\n",
       "      <td>0</td>\n",
       "      <td>1</td>\n",
       "      <td>225</td>\n",
       "      <td>1</td>\n",
       "      <td>0</td>\n",
       "      <td>5</td>\n",
       "      <td>225</td>\n",
       "      <td>19</td>\n",
       "      <td>20</td>\n",
       "      <td>9</td>\n",
       "      <td>0</td>\n",
       "      <td>0</td>\n",
       "      <td>2</td>\n",
       "      <td>0</td>\n",
       "      <td>0</td>\n",
       "      <td>2</td>\n",
       "    </tr>\n",
       "    <tr>\n",
       "      <th>4</th>\n",
       "      <td>0</td>\n",
       "      <td>0</td>\n",
       "      <td>95</td>\n",
       "      <td>0</td>\n",
       "      <td>0</td>\n",
       "      <td>0</td>\n",
       "      <td>95</td>\n",
       "      <td>0</td>\n",
       "      <td>0</td>\n",
       "      <td>0</td>\n",
       "      <td>0</td>\n",
       "      <td>0</td>\n",
       "      <td>0</td>\n",
       "      <td>0</td>\n",
       "      <td>0</td>\n",
       "      <td>0</td>\n",
       "    </tr>\n",
       "  </tbody>\n",
       "</table>\n",
       "</div>"
      ],
      "text/plain": [
       "   count_hashtags  count_mentions  count_emails  count_links  count_remove_RT  \\\n",
       "0               1               3           243            0                0   \n",
       "1               0               1           275            1                0   \n",
       "2               0               1           275            1                0   \n",
       "3               0               1           225            1                0   \n",
       "4               0               0            95            0                0   \n",
       "\n",
       "   count_numbers  count_symbols  count_punctionation2  count_punctionation  \\\n",
       "0              4            243                    16                   13   \n",
       "1              6            275                    27                   29   \n",
       "2              6            275                    27                   29   \n",
       "3              5            225                    19                   20   \n",
       "4              0             95                     0                    0   \n",
       "\n",
       "   count_periods  count_exclamation points  count_question marks  \\\n",
       "0              7                         0                     0   \n",
       "1             12                         0                     0   \n",
       "2             12                         0                     0   \n",
       "3              9                         0                     0   \n",
       "4              0                         0                     0   \n",
       "\n",
       "   count_upper case words  count_emojis  count_emojis_work  count_upper case  \n",
       "0                       6             0                  3                 6  \n",
       "1                       2             0                  0                 2  \n",
       "2                       2             0                  0                 2  \n",
       "3                       2             0                  0                 2  \n",
       "4                       0             0                  0                 0  "
      ]
     },
     "execution_count": 12,
     "metadata": {},
     "output_type": "execute_result"
    }
   ],
   "source": [
    "# count the number of regex\n",
    "df_count_regex_matches(list_of_strings, dict_regex)"
   ]
  },
  {
   "cell_type": "code",
   "execution_count": 13,
   "metadata": {},
   "outputs": [
    {
     "data": {
      "text/html": [
       "<div>\n",
       "<style scoped>\n",
       "    .dataframe tbody tr th:only-of-type {\n",
       "        vertical-align: middle;\n",
       "    }\n",
       "\n",
       "    .dataframe tbody tr th {\n",
       "        vertical-align: top;\n",
       "    }\n",
       "\n",
       "    .dataframe thead th {\n",
       "        text-align: right;\n",
       "    }\n",
       "</style>\n",
       "<table border=\"1\" class=\"dataframe\">\n",
       "  <thead>\n",
       "    <tr style=\"text-align: right;\">\n",
       "      <th></th>\n",
       "      <th>count_hashtags</th>\n",
       "      <th>count_mentions</th>\n",
       "      <th>count_links</th>\n",
       "      <th>count_emails</th>\n",
       "      <th>count_emojis</th>\n",
       "    </tr>\n",
       "  </thead>\n",
       "  <tbody>\n",
       "    <tr>\n",
       "      <th>0</th>\n",
       "      <td>[results]</td>\n",
       "      <td>[you, results, stayclassy]</td>\n",
       "      <td>[]</td>\n",
       "      <td>[, , , , , , , , , , , , , , , , , , , , , , ,...</td>\n",
       "      <td>[]</td>\n",
       "    </tr>\n",
       "    <tr>\n",
       "      <th>1</th>\n",
       "      <td>[]</td>\n",
       "      <td>[stayclassy]</td>\n",
       "      <td>[http://localhost:8888/notebooks/nlp/cleaning_...</td>\n",
       "      <td>[, , , , , , , , , , , , , , , , , , , , , , ,...</td>\n",
       "      <td>[]</td>\n",
       "    </tr>\n",
       "    <tr>\n",
       "      <th>2</th>\n",
       "      <td>[]</td>\n",
       "      <td>[stayclassy]</td>\n",
       "      <td>[https://www.w3schools.com/python/python_regex...</td>\n",
       "      <td>[, , , , , , , , , , , , , , , , , , , , , , ,...</td>\n",
       "      <td>[]</td>\n",
       "    </tr>\n",
       "    <tr>\n",
       "      <th>3</th>\n",
       "      <td>[]</td>\n",
       "      <td>[stayclassy]</td>\n",
       "      <td>[http://localhost:8888/notebooks/nlp/cleaning_...</td>\n",
       "      <td>[, , , , , , , , , , , , , , , , , , , , , , ,...</td>\n",
       "      <td>[]</td>\n",
       "    </tr>\n",
       "    <tr>\n",
       "      <th>4</th>\n",
       "      <td>[]</td>\n",
       "      <td>[]</td>\n",
       "      <td>[]</td>\n",
       "      <td>[, , , , , , , , , , , , , , , , , , , , , , ,...</td>\n",
       "      <td>[]</td>\n",
       "    </tr>\n",
       "  </tbody>\n",
       "</table>\n",
       "</div>"
      ],
      "text/plain": [
       "  count_hashtags              count_mentions  \\\n",
       "0      [results]  [you, results, stayclassy]   \n",
       "1             []                [stayclassy]   \n",
       "2             []                [stayclassy]   \n",
       "3             []                [stayclassy]   \n",
       "4             []                          []   \n",
       "\n",
       "                                         count_links  \\\n",
       "0                                                 []   \n",
       "1  [http://localhost:8888/notebooks/nlp/cleaning_...   \n",
       "2  [https://www.w3schools.com/python/python_regex...   \n",
       "3  [http://localhost:8888/notebooks/nlp/cleaning_...   \n",
       "4                                                 []   \n",
       "\n",
       "                                        count_emails count_emojis  \n",
       "0  [, , , , , , , , , , , , , , , , , , , , , , ,...           []  \n",
       "1  [, , , , , , , , , , , , , , , , , , , , , , ,...           []  \n",
       "2  [, , , , , , , , , , , , , , , , , , , , , , ,...           []  \n",
       "3  [, , , , , , , , , , , , , , , , , , , , , , ,...           []  \n",
       "4  [, , , , , , , , , , , , , , , , , , , , , , ,...           []  "
      ]
     },
     "execution_count": 13,
     "metadata": {},
     "output_type": "execute_result"
    }
   ],
   "source": [
    "# return the identified patterns\n",
    "df_matches(list_of_strings, dict_regex)"
   ]
  },
  {
   "cell_type": "markdown",
   "metadata": {},
   "source": [
    "# Preprocessing"
   ]
  },
  {
   "cell_type": "markdown",
   "metadata": {},
   "source": [
    "## Step by step"
   ]
  },
  {
   "cell_type": "markdown",
   "metadata": {},
   "source": [
    "### Cleaning regex"
   ]
  },
  {
   "cell_type": "code",
   "execution_count": 14,
   "metadata": {},
   "outputs": [
    {
     "data": {
      "text/plain": [
       "['result results resulted resulting run upper case running ran no found view all teams mad prod fundraistrick th ave suite san diego ca us back to top donor support braistrickorg',\n",
       " 'no results results found view all teams prod fundraistrick th ave suite san diego ca us back to top donor support braistrickorg',\n",
       " '',\n",
       " 'no results results found view all teams prod fundraistrick th ave suite san diego ca us back to top donor support braistrickorg',\n",
       " 'results results found view teams prod fundraistrick ave suite san diego back top donor support']"
      ]
     },
     "execution_count": 14,
     "metadata": {},
     "output_type": "execute_result"
    }
   ],
   "source": [
    "# clean a list of strings, based on a list of regex\n",
    "list_cleaned = sub_list_strings_list_regex(list_of_strings, list_of_regex_values)\n",
    "list_cleaned"
   ]
  },
  {
   "cell_type": "code",
   "execution_count": 15,
   "metadata": {},
   "outputs": [],
   "source": [
    "serie = pd.Series(list_cleaned)"
   ]
  },
  {
   "cell_type": "code",
   "execution_count": 16,
   "metadata": {},
   "outputs": [],
   "source": [
    "s_clean = list_cleaned[0]"
   ]
  },
  {
   "cell_type": "markdown",
   "metadata": {},
   "source": [
    "### Lemmatization (normalization)"
   ]
  },
  {
   "cell_type": "code",
   "execution_count": 17,
   "metadata": {},
   "outputs": [],
   "source": [
    "from pre_processing_text.norm_lemmatize import lemmatize_list, lemmatize_string"
   ]
  },
  {
   "cell_type": "code",
   "execution_count": 18,
   "metadata": {},
   "outputs": [
    {
     "data": {
      "text/plain": [
       "'result result result result run upper case run run no find view all team mad prod fundraistrick th ave suite san diego ca us back to top donor support braistrickorg '"
      ]
     },
     "execution_count": 18,
     "metadata": {},
     "output_type": "execute_result"
    }
   ],
   "source": [
    "s_lemma = lemmatize_string(s_clean)\n",
    "s_lemma"
   ]
  },
  {
   "cell_type": "code",
   "execution_count": 19,
   "metadata": {},
   "outputs": [
    {
     "data": {
      "text/plain": [
       "['result result result result run upper case run run no find view all team mad prod fundraistrick th ave suite san diego ca us back to top donor support braistrickorg ',\n",
       " 'no result result find view all team prod fundraistrick th ave suite san diego ca us back to top donor support braistrickorg ',\n",
       " '',\n",
       " 'no result result find view all team prod fundraistrick th ave suite san diego ca us back to top donor support braistrickorg ',\n",
       " 'result result find view team prod fundraistrick ave suite san diego back top donor support ']"
      ]
     },
     "execution_count": 19,
     "metadata": {},
     "output_type": "execute_result"
    }
   ],
   "source": [
    "list_lemmatized = list(map(lemmatize_string, list_cleaned))\n",
    "list_lemmatized"
   ]
  },
  {
   "cell_type": "code",
   "execution_count": 20,
   "metadata": {},
   "outputs": [
    {
     "data": {
      "text/plain": [
       "['result result result result run upper case run run no find view all team mad prod fundraistrick th ave suite san diego ca us back to top donor support braistrickorg ',\n",
       " 'no result result find view all team prod fundraistrick th ave suite san diego ca us back to top donor support braistrickorg ',\n",
       " '',\n",
       " 'no result result find view all team prod fundraistrick th ave suite san diego ca us back to top donor support braistrickorg ',\n",
       " 'result result find view team prod fundraistrick ave suite san diego back top donor support ']"
      ]
     },
     "execution_count": 20,
     "metadata": {},
     "output_type": "execute_result"
    }
   ],
   "source": [
    "list_of_lemmas = lemmatize_list(list_cleaned)\n",
    "list_of_lemmas"
   ]
  },
  {
   "cell_type": "code",
   "execution_count": 21,
   "metadata": {},
   "outputs": [
    {
     "data": {
      "text/plain": [
       "0    result result result result run upper case run...\n",
       "1    no result result find view all team prod fundr...\n",
       "2                                                     \n",
       "3    no result result find view all team prod fundr...\n",
       "4    result result find view team prod fundraistric...\n",
       "dtype: object"
      ]
     },
     "execution_count": 21,
     "metadata": {},
     "output_type": "execute_result"
    }
   ],
   "source": [
    "serie.apply(lemmatize_string)"
   ]
  },
  {
   "cell_type": "markdown",
   "metadata": {},
   "source": [
    "### Cleaning stopwords"
   ]
  },
  {
   "cell_type": "code",
   "execution_count": 22,
   "metadata": {},
   "outputs": [],
   "source": [
    "from pre_processing_text.clean_list_stopwords import remove_stopwords_list, remove_stopwords_string"
   ]
  },
  {
   "cell_type": "code",
   "execution_count": 23,
   "metadata": {},
   "outputs": [],
   "source": [
    "stopwords = ['fundraistrick', 'all', 'to', 'th']"
   ]
  },
  {
   "cell_type": "code",
   "execution_count": 24,
   "metadata": {},
   "outputs": [
    {
     "data": {
      "text/plain": [
       "'result result result result run upper case run run no find view team mad prod ave suite san diego ca us back top donor support braistrickorg'"
      ]
     },
     "execution_count": 24,
     "metadata": {},
     "output_type": "execute_result"
    }
   ],
   "source": [
    "remove_stopwords_string(s_lemma, stopwords)"
   ]
  },
  {
   "cell_type": "code",
   "execution_count": 25,
   "metadata": {},
   "outputs": [
    {
     "data": {
      "text/plain": [
       "['result result result result run upper case run run no find view team mad prod ave suite san diego ca us back top donor support braistrickorg',\n",
       " 'no result result find view team prod ave suite san diego ca us back top donor support braistrickorg',\n",
       " '',\n",
       " 'no result result find view team prod ave suite san diego ca us back top donor support braistrickorg',\n",
       " 'result result find view team prod ave suite san diego back top donor support']"
      ]
     },
     "execution_count": 25,
     "metadata": {},
     "output_type": "execute_result"
    }
   ],
   "source": [
    "clean_lists_sw = remove_stopwords_list(list_of_lemmas, stopwords)\n",
    "clean_lists_sw"
   ]
  },
  {
   "cell_type": "markdown",
   "metadata": {},
   "source": [
    "## Preprocessing unified"
   ]
  },
  {
   "cell_type": "code",
   "execution_count": 26,
   "metadata": {},
   "outputs": [],
   "source": [
    "from pre_processing_text.preprocess_string_list import preprocessing_list"
   ]
  },
  {
   "cell_type": "code",
   "execution_count": 27,
   "metadata": {},
   "outputs": [
    {
     "data": {
      "text/plain": [
       "['result result result result upper case view team mad prod fundraistrick ave suite san diego donor support braistrickorg',\n",
       " 'result result view team prod fundraistrick ave suite san diego donor support braistrickorg',\n",
       " '',\n",
       " 'result result view team prod fundraistrick ave suite san diego donor support braistrickorg',\n",
       " 'result result view team prod fundraistrick ave suite san diego donor support']"
      ]
     },
     "execution_count": 27,
     "metadata": {},
     "output_type": "execute_result"
    }
   ],
   "source": [
    "preprocessed_list = preprocessing_list(list_of_strings, list_of_regex_values, stopwords)\n",
    "preprocessed_list"
   ]
  },
  {
   "cell_type": "markdown",
   "metadata": {},
   "source": [
    "## Preprocessing spacy"
   ]
  },
  {
   "cell_type": "code",
   "execution_count": 28,
   "metadata": {},
   "outputs": [],
   "source": [
    "from pre_processing_text.spacy_preprocessing import get_hotwords_list\n",
    "from pre_processing_text.spacy_preprocessing import spacy_tokenize_list"
   ]
  },
  {
   "cell_type": "code",
   "execution_count": 29,
   "metadata": {},
   "outputs": [
    {
     "data": {
      "text/plain": [
       "['result results upper case results 😺 😺 😺 @results teams mad prod fundraistrick 10th ave suite san diego donor support braistrick@stayclassy.org',\n",
       " 'results results teams prod fundraistrick 10th ave suite san diego donor support braistrick@stayclassy.org http://localhost:8888 notebooks nlp cleaning_sandbox.ipynb https://www.w3schools.com/python/python_regex.asp',\n",
       " 'results results teams prod fundraistrick 10th ave suite san diego donor support braistrick@stayclassy.org http://localhost:8888 notebooks nlp cleaning_sandbox.ipynb',\n",
       " 'results results teams prod fundraistrick 10th ave suite san diego donor support braistrick@stayclassy.org http://localhost:8888 notebooks nlp cleaning_sandbox.ipynb',\n",
       " 'results results view teams prod fundraistrick ave suite san diego donor support']"
      ]
     },
     "execution_count": 29,
     "metadata": {},
     "output_type": "execute_result"
    }
   ],
   "source": [
    "# temptative 1\n",
    "cleaned_spacy_list = get_hotwords_list(list_of_strings)\n",
    "cleaned_spacy_list"
   ]
  },
  {
   "cell_type": "code",
   "execution_count": 30,
   "metadata": {},
   "outputs": [
    {
     "data": {
      "text/plain": [
       "['result result result result upper run result @results find team fundraistrick suite 1100 diego 92101 back donor support braistrick@stayclassy.org',\n",
       " 'result result find team fundraistrick suite 1100 diego 92101 back donor support braistrick@stayclassy.org http://localhost:8888 notebook cleaning_sandbox.ipynb https://www.w3schools.com/python/python_regex.asp',\n",
       " 'https://www.w3schools.com/python/python_regex.asp result result find team fundraistrick suite 1100 diego 92101 back donor support braistrick@stayclassy.org http://localhost:8888 notebook cleaning_sandbox.ipynb',\n",
       " 'result result find team fundraistrick suite 1100 diego 92101 back donor support braistrick@stayclassy.org http://localhost:8888 notebook cleaning_sandbox.ipynb',\n",
       " 'result result find team fundraistrick suite diego back donor support']"
      ]
     },
     "execution_count": 30,
     "metadata": {},
     "output_type": "execute_result"
    }
   ],
   "source": [
    "# temptative 2\n",
    "hot_words_spacy_list = spacy_tokenize_list(list_of_strings)\n",
    "hot_words_spacy_list"
   ]
  },
  {
   "cell_type": "markdown",
   "metadata": {},
   "source": [
    "# Create a vocab"
   ]
  },
  {
   "cell_type": "code",
   "execution_count": 31,
   "metadata": {},
   "outputs": [],
   "source": [
    "from pre_processing_text.preprocess_string_list import preprocessing_list"
   ]
  },
  {
   "cell_type": "code",
   "execution_count": 32,
   "metadata": {},
   "outputs": [
    {
     "data": {
      "text/plain": [
       "['result result result result upper case view team mad prod fundraistrick ave suite san diego donor support braistrickorg',\n",
       " 'result result view team prod fundraistrick ave suite san diego donor support braistrickorg',\n",
       " '',\n",
       " 'result result view team prod fundraistrick ave suite san diego donor support braistrickorg',\n",
       " 'result result view team prod fundraistrick ave suite san diego donor support']"
      ]
     },
     "execution_count": 32,
     "metadata": {},
     "output_type": "execute_result"
    }
   ],
   "source": [
    "preprocessing_list(list_of_strings, list_of_regex_values, stopwords)"
   ]
  },
  {
   "cell_type": "code",
   "execution_count": 33,
   "metadata": {},
   "outputs": [],
   "source": [
    "from pre_processing_text.vocab_create_clean import create_vocab\n",
    "from pre_processing_text.vocab_create_clean import drop_rare_words\n",
    "from pre_processing_text.vocab_create_clean import drop_common_words\n",
    "from pre_processing_text.vocab_create_clean import count_words_list_of_strings"
   ]
  },
  {
   "cell_type": "code",
   "execution_count": 34,
   "metadata": {},
   "outputs": [
    {
     "data": {
      "text/plain": [
       "'result result result result run upper case run run no find view team mad prod ave suite san diego ca us back top donor support braistrickorgno result result find view team prod ave suite san diego ca us back top donor support braistrickorgno result result find view team prod ave suite san diego ca us back top donor support braistrickorgresult result find view team prod ave suite san diego back top donor support'"
      ]
     },
     "execution_count": 34,
     "metadata": {},
     "output_type": "execute_result"
    }
   ],
   "source": [
    "vocab = create_vocab(clean_lists_sw)\n",
    "vocab"
   ]
  },
  {
   "cell_type": "code",
   "execution_count": 35,
   "metadata": {},
   "outputs": [
    {
     "data": {
      "text/plain": [
       "{'result': 10,\n",
       " 'run': 3,\n",
       " 'upper': 1,\n",
       " 'case': 1,\n",
       " 'no': 3,\n",
       " 'find': 4,\n",
       " 'view': 4,\n",
       " 'team': 4,\n",
       " 'mad': 1,\n",
       " 'prod': 4,\n",
       " 'ave': 4,\n",
       " 'suite': 4,\n",
       " 'san': 4,\n",
       " 'diego': 4,\n",
       " 'ca': 3,\n",
       " 'us': 3,\n",
       " 'back': 4,\n",
       " 'top': 4,\n",
       " 'donor': 4,\n",
       " 'support': 4,\n",
       " 'braistrickorg': 3}"
      ]
     },
     "execution_count": 35,
     "metadata": {},
     "output_type": "execute_result"
    }
   ],
   "source": [
    "count_words_list_of_strings(clean_lists_sw)"
   ]
  },
  {
   "cell_type": "code",
   "execution_count": 36,
   "metadata": {},
   "outputs": [
    {
     "data": {
      "text/plain": [
       "'result find view team prod ave suite san diego back top donor support'"
      ]
     },
     "execution_count": 36,
     "metadata": {},
     "output_type": "execute_result"
    }
   ],
   "source": [
    "drop_rare_words(clean_lists_sw, n_count_words=3)"
   ]
  },
  {
   "cell_type": "code",
   "execution_count": 37,
   "metadata": {},
   "outputs": [
    {
     "data": {
      "text/plain": [
       "'team view find run ca us no braistrickorg mad case upper'"
      ]
     },
     "execution_count": 37,
     "metadata": {},
     "output_type": "execute_result"
    }
   ],
   "source": [
    "drop_common_words(clean_lists_sw, n_top_words=10)"
   ]
  },
  {
   "cell_type": "markdown",
   "metadata": {},
   "source": [
    "# Wordcloud"
   ]
  },
  {
   "cell_type": "code",
   "execution_count": 38,
   "metadata": {},
   "outputs": [],
   "source": [
    "from plot_viz.my_wordcloud import wordcloud_figure"
   ]
  },
  {
   "cell_type": "code",
   "execution_count": 39,
   "metadata": {},
   "outputs": [
    {
     "data": {
      "image/png": "[encoded data removed]",
      "text/plain": [
       "<Figure size 720x504 with 1 Axes>"
      ]
     },
     "metadata": {
      "needs_background": "light"
     },
     "output_type": "display_data"
    }
   ],
   "source": [
    "wordcloud_figure(vocab)"
   ]
  },
  {
   "cell_type": "markdown",
   "metadata": {},
   "source": [
    "# Topic modeling"
   ]
  },
  {
   "cell_type": "code",
   "execution_count": 40,
   "metadata": {},
   "outputs": [],
   "source": [
    "from modeling.my_topicmodeling import lda_topic_model"
   ]
  },
  {
   "cell_type": "code",
   "execution_count": 41,
   "metadata": {},
   "outputs": [
    {
     "name": "stdout",
     "output_type": "stream",
     "text": [
      "[(0, '0.110*\"result\" + 0.045*\"find\" + 0.045*\"prod\" + 0.045*\"ave\" + 0.045*\"fundraistrick\" + 0.045*\"view\" + 0.045*\"back\" + 0.045*\"san\" + 0.045*\"suite\" + 0.045*\"donor\"'), (1, '0.040*\"fundraistrick\" + 0.040*\"prod\" + 0.040*\"top\" + 0.040*\"team\" + 0.040*\"support\" + 0.040*\"suite\" + 0.040*\"san\" + 0.040*\"ave\" + 0.040*\"view\" + 0.040*\"diego\"'), (2, '0.040*\"fundraistrick\" + 0.040*\"prod\" + 0.040*\"top\" + 0.040*\"team\" + 0.040*\"support\" + 0.040*\"suite\" + 0.040*\"san\" + 0.040*\"ave\" + 0.040*\"view\" + 0.040*\"diego\"'), (3, '0.040*\"result\" + 0.040*\"fundraistrick\" + 0.040*\"view\" + 0.040*\"suite\" + 0.040*\"support\" + 0.040*\"top\" + 0.040*\"san\" + 0.040*\"diego\" + 0.040*\"back\" + 0.040*\"find\"'), (4, '0.040*\"fundraistrick\" + 0.040*\"prod\" + 0.040*\"top\" + 0.040*\"team\" + 0.040*\"support\" + 0.040*\"suite\" + 0.040*\"san\" + 0.040*\"ave\" + 0.040*\"view\" + 0.040*\"diego\"'), (5, '0.040*\"result\" + 0.040*\"run\" + 0.040*\"all\" + 0.040*\"us\" + 0.040*\"th\" + 0.040*\"top\" + 0.040*\"no\" + 0.040*\"braistrickorg\" + 0.040*\"support\" + 0.040*\"team\"'), (6, '0.040*\"result\" + 0.040*\"team\" + 0.040*\"top\" + 0.040*\"th\" + 0.040*\"find\" + 0.040*\"prod\" + 0.040*\"no\" + 0.040*\"donor\" + 0.040*\"all\" + 0.040*\"fundraistrick\"')] \n",
      "\n",
      "\n",
      "--------------------------------\n",
      "Visualizing the model: import pyLDAvis; pyLDAvis.enable_notebook(); vis = pyLDAvis.gensim.prepare(lda_model, doc_term_matrix, dictionary); vis\n"
     ]
    }
   ],
   "source": [
    "lda_model, doc_term_matrix, dictionary = lda_topic_model(list_lemmatized)"
   ]
  },
  {
   "cell_type": "code",
   "execution_count": null,
   "metadata": {},
   "outputs": [],
   "source": [
    "import pyLDAvis\n",
    "pyLDAvis.enable_notebook()\n",
    "vis = pyLDAvis.gensim.prepare(lda_model, doc_term_matrix, dictionary)"
   ]
  },
  {
   "cell_type": "code",
   "execution_count": null,
   "metadata": {},
   "outputs": [],
   "source": [
    "vis"
   ]
  },
  {
   "cell_type": "markdown",
   "metadata": {},
   "source": [
    "# Other models"
   ]
  },
  {
   "cell_type": "code",
   "execution_count": null,
   "metadata": {},
   "outputs": [],
   "source": []
  }
 ],
 "metadata": {
  "kernelspec": {
   "display_name": "coca3",
   "language": "python",
   "name": "coca3"
  },
  "language_info": {
   "codemirror_mode": {
    "name": "ipython",
    "version": 3
   },
   "file_extension": ".py",
   "mimetype": "text/x-python",
   "name": "python",
   "nbconvert_exporter": "python",
   "pygments_lexer": "ipython3",
   "version": "3.7.6"
  },
  "toc": {
   "base_numbering": 1,
   "nav_menu": {},
   "number_sections": true,
   "sideBar": true,
   "skip_h1_title": false,
   "title_cell": "Table of Contents",
   "title_sidebar": "Contents",
   "toc_cell": false,
   "toc_position": {},
   "toc_section_display": true,
   "toc_window_display": false
  }
 },
 "nbformat": 4,
 "nbformat_minor": 4
}

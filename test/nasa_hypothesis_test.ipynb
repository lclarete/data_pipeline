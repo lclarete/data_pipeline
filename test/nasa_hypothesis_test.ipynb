{
 "cells": [
  {
   "cell_type": "code",
   "execution_count": 1,
   "metadata": {},
   "outputs": [],
   "source": [
    "import pandas as pd\n",
    "import numpy as np"
   ]
  },
  {
   "cell_type": "code",
   "execution_count": 2,
   "metadata": {},
   "outputs": [],
   "source": [
    "# api\n",
    "# register for api: https://api.nasa.gov/\n",
    "\n",
    "\"\"\"\n",
    "Account Email: livia.clarete@gmail.com\n",
    "Account ID: 4bdfda5d-16c8-43b3-9ffa-a938e867cd5a\n",
    "\"\"\"\n",
    "\n",
    "\n",
    "key = 'Od10Yf1NsUxvFfvJhp60WUhhiGkdLruWzUEbFn5N'\n",
    "api = 'https://api.nasa.gov/planetary/apod?api_key=CeEeHvVdfEW0ruGT5sDsLKvUmyktI1dwrwIVfphx'"
   ]
  },
  {
   "cell_type": "code",
   "execution_count": 3,
   "metadata": {},
   "outputs": [],
   "source": [
    "file = '/Users/liviaclarete/Downloads/exportAwards-2019.csv'"
   ]
  },
  {
   "cell_type": "code",
   "execution_count": 10,
   "metadata": {},
   "outputs": [
    {
     "name": "stdout",
     "output_type": "stream",
     "text": [
      "(12104, 45)\n"
     ]
    },
    {
     "data": {
      "text/html": [
       "<div>\n",
       "<style scoped>\n",
       "    .dataframe tbody tr th:only-of-type {\n",
       "        vertical-align: middle;\n",
       "    }\n",
       "\n",
       "    .dataframe tbody tr th {\n",
       "        vertical-align: top;\n",
       "    }\n",
       "\n",
       "    .dataframe thead th {\n",
       "        text-align: right;\n",
       "    }\n",
       "</style>\n",
       "<table border=\"1\" class=\"dataframe\">\n",
       "  <thead>\n",
       "    <tr style=\"text-align: right;\">\n",
       "      <th></th>\n",
       "      <th>Awardee</th>\n",
       "      <th>Doing Business As Name</th>\n",
       "      <th>PD/PI Name</th>\n",
       "      <th>PD/PI Phone</th>\n",
       "      <th>PD/PI Email</th>\n",
       "      <th>Co-PD(s)/co-PI(s)</th>\n",
       "      <th>Award Date</th>\n",
       "      <th>Estimated Total Award Amount</th>\n",
       "      <th>Funds Obligated to Date</th>\n",
       "      <th>Start Date</th>\n",
       "      <th>...</th>\n",
       "      <th>Primary State</th>\n",
       "      <th>Primary ZIP</th>\n",
       "      <th>Primary County</th>\n",
       "      <th>Primary Country</th>\n",
       "      <th>Primary Cong. District</th>\n",
       "      <th>Abstract at Time of Award</th>\n",
       "      <th>Publications Produced as a Result of this Research</th>\n",
       "      <th>Publications Produced as Conference Proceedings</th>\n",
       "      <th>ProjectOutcomesReport</th>\n",
       "      <th>Unnamed: 44</th>\n",
       "    </tr>\n",
       "  </thead>\n",
       "  <tbody>\n",
       "    <tr>\n",
       "      <th>0</th>\n",
       "      <td>CONCORD UNIVERSITY</td>\n",
       "      <td>Concord University</td>\n",
       "      <td>Stephen C Kuehn</td>\n",
       "      <td>(304) 384-6322</td>\n",
       "      <td>sckuehn@concord.edu</td>\n",
       "      <td>NaN</td>\n",
       "      <td>=\"09/23/2019\"</td>\n",
       "      <td>=\"$149,437\"</td>\n",
       "      <td>=\"$149,437\"</td>\n",
       "      <td>=\"09/15/2019\"</td>\n",
       "      <td>...</td>\n",
       "      <td>WV</td>\n",
       "      <td>24712-1000</td>\n",
       "      <td>Athens</td>\n",
       "      <td>US</td>\n",
       "      <td>=\"03\"</td>\n",
       "      <td>The long term sustainability of federally fund...</td>\n",
       "      <td>NaN</td>\n",
       "      <td>NaN</td>\n",
       "      <td>NaN</td>\n",
       "      <td>NaN</td>\n",
       "    </tr>\n",
       "    <tr>\n",
       "      <th>1</th>\n",
       "      <td>UNIVERSITY OF CHICAGO, THE</td>\n",
       "      <td>University of Chicago</td>\n",
       "      <td>Nicholas G Feamster</td>\n",
       "      <td>(609) 258-2203</td>\n",
       "      <td>feamster@uchicago.edu</td>\n",
       "      <td>NaN</td>\n",
       "      <td>=\"09/23/2019\"</td>\n",
       "      <td>=\"$19,921\"</td>\n",
       "      <td>=\"$19,921\"</td>\n",
       "      <td>=\"07/01/2019\"</td>\n",
       "      <td>...</td>\n",
       "      <td>IL</td>\n",
       "      <td>60637-2612</td>\n",
       "      <td>Chicago</td>\n",
       "      <td>US</td>\n",
       "      <td>=\"01\"</td>\n",
       "      <td>This workshop brings together leading research...</td>\n",
       "      <td>NaN</td>\n",
       "      <td>NaN</td>\n",
       "      <td>NaN</td>\n",
       "      <td>NaN</td>\n",
       "    </tr>\n",
       "  </tbody>\n",
       "</table>\n",
       "<p>2 rows × 45 columns</p>\n",
       "</div>"
      ],
      "text/plain": [
       "                      Awardee Doing Business As Name           PD/PI Name  \\\n",
       "0          CONCORD UNIVERSITY     Concord University      Stephen C Kuehn   \n",
       "1  UNIVERSITY OF CHICAGO, THE  University of Chicago  Nicholas G Feamster   \n",
       "\n",
       "      PD/PI Phone            PD/PI Email Co-PD(s)/co-PI(s)     Award Date  \\\n",
       "0  (304) 384-6322    sckuehn@concord.edu               NaN  =\"09/23/2019\"   \n",
       "1  (609) 258-2203  feamster@uchicago.edu               NaN  =\"09/23/2019\"   \n",
       "\n",
       "  Estimated Total Award Amount Funds Obligated to Date     Start Date  ...  \\\n",
       "0                  =\"$149,437\"             =\"$149,437\"  =\"09/15/2019\"  ...   \n",
       "1                   =\"$19,921\"              =\"$19,921\"  =\"07/01/2019\"  ...   \n",
       "\n",
       "  Primary State Primary ZIP Primary County Primary Country  \\\n",
       "0            WV  24712-1000         Athens              US   \n",
       "1            IL  60637-2612        Chicago              US   \n",
       "\n",
       "  Primary Cong. District                          Abstract at Time of Award  \\\n",
       "0                  =\"03\"  The long term sustainability of federally fund...   \n",
       "1                  =\"01\"  This workshop brings together leading research...   \n",
       "\n",
       "  Publications Produced as a Result of this Research  \\\n",
       "0                                                NaN   \n",
       "1                                                NaN   \n",
       "\n",
       "  Publications Produced as Conference Proceedings ProjectOutcomesReport  \\\n",
       "0                                             NaN                   NaN   \n",
       "1                                             NaN                   NaN   \n",
       "\n",
       "  Unnamed: 44  \n",
       "0         NaN  \n",
       "1         NaN  \n",
       "\n",
       "[2 rows x 45 columns]"
      ]
     },
     "execution_count": 10,
     "metadata": {},
     "output_type": "execute_result"
    }
   ],
   "source": [
    "df = pd.read_csv(file)\n",
    "print(df.shape)\n",
    "df.head(2)"
   ]
  },
  {
   "cell_type": "code",
   "execution_count": 22,
   "metadata": {},
   "outputs": [],
   "source": [
    "# clean price"
   ]
  },
  {
   "cell_type": "code",
   "execution_count": 48,
   "metadata": {},
   "outputs": [
    {
     "data": {
      "text/plain": [
       "0        =\"$149,437\"\n",
       "1         =\"$19,921\"\n",
       "2        =\"$209,116\"\n",
       "3        =\"$750,000\"\n",
       "4        =\"$137,942\"\n",
       "            ...     \n",
       "12099     =\"$43,831\"\n",
       "12100    =\"$129,073\"\n",
       "12101      =\"$2,944\"\n",
       "12102    =\"$510,081\"\n",
       "12103    =\"$672,379\"\n",
       "Name: Estimated Total Award Amount, Length: 12104, dtype: object"
      ]
     },
     "execution_count": 48,
     "metadata": {},
     "output_type": "execute_result"
    }
   ],
   "source": [
    "df['Estimated Total Award Amount']"
   ]
  },
  {
   "cell_type": "code",
   "execution_count": 75,
   "metadata": {},
   "outputs": [],
   "source": [
    "def extract_number(col):\n",
    "    return ''.join(re.findall(r'\\d+', col))"
   ]
  },
  {
   "cell_type": "code",
   "execution_count": 72,
   "metadata": {},
   "outputs": [],
   "source": [
    "def extract_number(col):\n",
    "    col = re.sub('$', '', col)\n",
    "    col = re.sub('\"', '', col)\n",
    "    return col"
   ]
  },
  {
   "cell_type": "code",
   "execution_count": 76,
   "metadata": {},
   "outputs": [],
   "source": [
    "# extract numbers from the 'Estimated Total Award Amount' variable\n",
    "df['award_amount'] = df['Estimated Total Award Amount'].apply(extract_number)"
   ]
  },
  {
   "cell_type": "code",
   "execution_count": 77,
   "metadata": {},
   "outputs": [
    {
     "data": {
      "text/plain": [
       "0     149437\n",
       "1      19921\n",
       "2     209116\n",
       "3     750000\n",
       "4     137942\n",
       "5     177287\n",
       "6    2170000\n",
       "7     489465\n",
       "8     633744\n",
       "9     589294\n",
       "Name: award_amount, dtype: object"
      ]
     },
     "execution_count": 77,
     "metadata": {},
     "output_type": "execute_result"
    }
   ],
   "source": [
    "df['award_amount'].head(10)"
   ]
  },
  {
   "cell_type": "code",
   "execution_count": 83,
   "metadata": {},
   "outputs": [
    {
     "data": {
      "text/plain": [
       "0    149437\n",
       "1     19921\n",
       "2    209116\n",
       "3    750000\n",
       "4    137942\n",
       "Name: award_amount, dtype: int64"
      ]
     },
     "execution_count": 83,
     "metadata": {},
     "output_type": "execute_result"
    }
   ],
   "source": [
    "df['award_amount'] = pd.to_numeric(df.award_amount)\n",
    "df.award_amount.head()"
   ]
  },
  {
   "cell_type": "code",
   "execution_count": 84,
   "metadata": {},
   "outputs": [
    {
     "data": {
      "text/plain": [
       "UNIVERSITY OF ILLINOIS                                           230\n",
       "RESEARCH FOUNDATION FOR THE STATE UNIVERSITY OF NEW YORK, THE    211\n",
       "REGENTS OF THE UNIVERSITY OF MICHIGAN                            194\n",
       "UNIVERSITY OF WASHINGTON                                         166\n",
       "PENNSYLVANIA STATE UNIVERSITY, THE                               161\n",
       "                                                                ... \n",
       "STATE OF SOUTH DAKOTA-DIVISION OF OASI                             1\n",
       "DIGITOUCH HEALTH LLC                                               1\n",
       "EXPERCOIN LLC                                                      1\n",
       "SAGEFOX CONSULTING GROUP, LLC                                      1\n",
       "ANTITHESIS LLC                                                     1\n",
       "Name: Awardee, Length: 1378, dtype: int64"
      ]
     },
     "execution_count": 84,
     "metadata": {},
     "output_type": "execute_result"
    }
   ],
   "source": [
    "df.Awardee.value_counts()"
   ]
  },
  {
   "cell_type": "code",
   "execution_count": 86,
   "metadata": {},
   "outputs": [
    {
     "data": {
      "text/html": [
       "<div>\n",
       "<style scoped>\n",
       "    .dataframe tbody tr th:only-of-type {\n",
       "        vertical-align: middle;\n",
       "    }\n",
       "\n",
       "    .dataframe tbody tr th {\n",
       "        vertical-align: top;\n",
       "    }\n",
       "\n",
       "    .dataframe thead th {\n",
       "        text-align: right;\n",
       "    }\n",
       "</style>\n",
       "<table border=\"1\" class=\"dataframe\">\n",
       "  <thead>\n",
       "    <tr style=\"text-align: right;\">\n",
       "      <th></th>\n",
       "      <th>Publications Produced as Conference Proceedings</th>\n",
       "      <th>Unnamed: 44</th>\n",
       "      <th>award_amount</th>\n",
       "    </tr>\n",
       "    <tr>\n",
       "      <th>Awardee</th>\n",
       "      <th></th>\n",
       "      <th></th>\n",
       "      <th></th>\n",
       "    </tr>\n",
       "  </thead>\n",
       "  <tbody>\n",
       "    <tr>\n",
       "      <th>3D HEALTH SOLUTIONS, INC.</th>\n",
       "      <td>0.0</td>\n",
       "      <td>0.0</td>\n",
       "      <td>225000</td>\n",
       "    </tr>\n",
       "    <tr>\n",
       "      <th>3DERM SYSTEMS, INC.</th>\n",
       "      <td>0.0</td>\n",
       "      <td>0.0</td>\n",
       "      <td>225000</td>\n",
       "    </tr>\n",
       "    <tr>\n",
       "      <th>3DFORTIFY INC.</th>\n",
       "      <td>0.0</td>\n",
       "      <td>0.0</td>\n",
       "      <td>225000</td>\n",
       "    </tr>\n",
       "    <tr>\n",
       "      <th>3I NANOTECH, INC.</th>\n",
       "      <td>0.0</td>\n",
       "      <td>0.0</td>\n",
       "      <td>224491</td>\n",
       "    </tr>\n",
       "    <tr>\n",
       "      <th>6CRICKETS INC.</th>\n",
       "      <td>0.0</td>\n",
       "      <td>0.0</td>\n",
       "      <td>225000</td>\n",
       "    </tr>\n",
       "    <tr>\n",
       "      <th>...</th>\n",
       "      <td>...</td>\n",
       "      <td>...</td>\n",
       "      <td>...</td>\n",
       "    </tr>\n",
       "    <tr>\n",
       "      <th>ZEBRA ANALYTIX, INC.</th>\n",
       "      <td>0.0</td>\n",
       "      <td>0.0</td>\n",
       "      <td>225000</td>\n",
       "    </tr>\n",
       "    <tr>\n",
       "      <th>ZENOBIA THERAPEUTICS, INC.</th>\n",
       "      <td>0.0</td>\n",
       "      <td>0.0</td>\n",
       "      <td>225000</td>\n",
       "    </tr>\n",
       "    <tr>\n",
       "      <th>ZEOVATION, INC.</th>\n",
       "      <td>0.0</td>\n",
       "      <td>0.0</td>\n",
       "      <td>224985</td>\n",
       "    </tr>\n",
       "    <tr>\n",
       "      <th>ZOO MIAMI FOUNDATION, INC.</th>\n",
       "      <td>0.0</td>\n",
       "      <td>0.0</td>\n",
       "      <td>378836</td>\n",
       "    </tr>\n",
       "    <tr>\n",
       "      <th>ZWITTERCO, INC</th>\n",
       "      <td>0.0</td>\n",
       "      <td>0.0</td>\n",
       "      <td>225000</td>\n",
       "    </tr>\n",
       "  </tbody>\n",
       "</table>\n",
       "<p>1378 rows × 3 columns</p>\n",
       "</div>"
      ],
      "text/plain": [
       "                            Publications Produced as Conference Proceedings  \\\n",
       "Awardee                                                                       \n",
       "3D HEALTH SOLUTIONS, INC.                                               0.0   \n",
       "3DERM SYSTEMS, INC.                                                     0.0   \n",
       "3DFORTIFY INC.                                                          0.0   \n",
       "3I NANOTECH, INC.                                                       0.0   \n",
       "6CRICKETS INC.                                                          0.0   \n",
       "...                                                                     ...   \n",
       "ZEBRA ANALYTIX, INC.                                                    0.0   \n",
       "ZENOBIA THERAPEUTICS, INC.                                              0.0   \n",
       "ZEOVATION, INC.                                                         0.0   \n",
       "ZOO MIAMI FOUNDATION, INC.                                              0.0   \n",
       "ZWITTERCO, INC                                                          0.0   \n",
       "\n",
       "                            Unnamed: 44  award_amount  \n",
       "Awardee                                                \n",
       "3D HEALTH SOLUTIONS, INC.           0.0        225000  \n",
       "3DERM SYSTEMS, INC.                 0.0        225000  \n",
       "3DFORTIFY INC.                      0.0        225000  \n",
       "3I NANOTECH, INC.                   0.0        224491  \n",
       "6CRICKETS INC.                      0.0        225000  \n",
       "...                                 ...           ...  \n",
       "ZEBRA ANALYTIX, INC.                0.0        225000  \n",
       "ZENOBIA THERAPEUTICS, INC.          0.0        225000  \n",
       "ZEOVATION, INC.                     0.0        224985  \n",
       "ZOO MIAMI FOUNDATION, INC.          0.0        378836  \n",
       "ZWITTERCO, INC                      0.0        225000  \n",
       "\n",
       "[1378 rows x 3 columns]"
      ]
     },
     "execution_count": 86,
     "metadata": {},
     "output_type": "execute_result"
    }
   ],
   "source": [
    "df.groupby('Awardee').sum()"
   ]
  },
  {
   "cell_type": "code",
   "execution_count": 87,
   "metadata": {},
   "outputs": [],
   "source": [
    "# budget history\n",
    "site = 'https://aerospace.csis.org/data/history-nasa-budget/'"
   ]
  },
  {
   "cell_type": "code",
   "execution_count": null,
   "metadata": {},
   "outputs": [],
   "source": []
  }
 ],
 "metadata": {
  "kernelspec": {
   "display_name": "coca3",
   "language": "python",
   "name": "coca3"
  },
  "language_info": {
   "codemirror_mode": {
    "name": "ipython",
    "version": 3
   },
   "file_extension": ".py",
   "mimetype": "text/x-python",
   "name": "python",
   "nbconvert_exporter": "python",
   "pygments_lexer": "ipython3",
   "version": "3.7.6"
  },
  "toc": {
   "base_numbering": 1,
   "nav_menu": {},
   "number_sections": true,
   "sideBar": true,
   "skip_h1_title": false,
   "title_cell": "Table of Contents",
   "title_sidebar": "Contents",
   "toc_cell": false,
   "toc_position": {},
   "toc_section_display": true,
   "toc_window_display": false
  }
 },
 "nbformat": 4,
 "nbformat_minor": 4
}

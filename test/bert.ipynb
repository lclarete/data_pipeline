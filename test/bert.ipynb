{
 "cells": [
  {
   "cell_type": "markdown",
   "metadata": {},
   "source": [
    "# First iniciative to understand general-purpose \n",
    "architectures: BERT, GPT-2, RoBERTa, XLM, DistilBert,\n",
    "XLNet for Natural Language Understanding (NLP),\n",
    "and Natural Language Generation (NLG).\n",
    "\n",
    "BERT: Bidirectional Encoder Representations from Transformers\n",
    "\n",
    "### pretrained models:\n",
    "https://huggingface.co/transformers/\n",
    "https://github.com/huggingface/transformers\n",
    "\n",
    "\n",
    "Tutorial: https://towardsdatascience.com/multi-class-text-classification-with-deep-learning-using-bert-b59ca2f5c613\n",
    "\n",
    "\n",
    "# Pipeline:\n",
    "1. __Preprocessing__: encode labels, tokenize using BertTokenizer, split into train and test set\n",
    "2. __Modeling__: \n",
    "3. __Optimizing__:\n",
    "4. __Evaluating__: using F1 score"
   ]
  },
  {
   "cell_type": "markdown",
   "metadata": {},
   "source": [
    "NEXT STEPS\n",
    "\n",
    "* I could not complete the tutorial because there is a 'device' variable that is not defined on it.\n",
    "\n",
    "* Trying to come up with what it was supposed to be, but it is not working"
   ]
  },
  {
   "cell_type": "code",
   "execution_count": 1,
   "metadata": {},
   "outputs": [
    {
     "ename": "NameError",
     "evalue": "name 'BertModel' is not defined",
     "output_type": "error",
     "traceback": [
      "\u001b[0;31m---------------------------------------------------------------------------\u001b[0m",
      "\u001b[0;31mNameError\u001b[0m                                 Traceback (most recent call last)",
      "\u001b[0;32m<ipython-input-1-c13e156e4849>\u001b[0m in \u001b[0;36m<module>\u001b[0;34m\u001b[0m\n\u001b[0;32m----> 1\u001b[0;31m MODELS = [(BertModel,       BertTokenizer,       'bert-base-uncased'),\n\u001b[0m\u001b[1;32m      2\u001b[0m           \u001b[0;34m(\u001b[0m\u001b[0mOpenAIGPTModel\u001b[0m\u001b[0;34m,\u001b[0m  \u001b[0mOpenAIGPTTokenizer\u001b[0m\u001b[0;34m,\u001b[0m  \u001b[0;34m'openai-gpt'\u001b[0m\u001b[0;34m)\u001b[0m\u001b[0;34m,\u001b[0m\u001b[0;34m\u001b[0m\u001b[0;34m\u001b[0m\u001b[0m\n\u001b[1;32m      3\u001b[0m           \u001b[0;34m(\u001b[0m\u001b[0mGPT2Model\u001b[0m\u001b[0;34m,\u001b[0m       \u001b[0mGPT2Tokenizer\u001b[0m\u001b[0;34m,\u001b[0m       \u001b[0;34m'gpt2'\u001b[0m\u001b[0;34m)\u001b[0m\u001b[0;34m,\u001b[0m\u001b[0;34m\u001b[0m\u001b[0;34m\u001b[0m\u001b[0m\n\u001b[1;32m      4\u001b[0m           \u001b[0;34m(\u001b[0m\u001b[0mCTRLModel\u001b[0m\u001b[0;34m,\u001b[0m       \u001b[0mCTRLTokenizer\u001b[0m\u001b[0;34m,\u001b[0m       \u001b[0;34m'ctrl'\u001b[0m\u001b[0;34m)\u001b[0m\u001b[0;34m,\u001b[0m\u001b[0;34m\u001b[0m\u001b[0;34m\u001b[0m\u001b[0m\n\u001b[1;32m      5\u001b[0m           \u001b[0;34m(\u001b[0m\u001b[0mTransfoXLModel\u001b[0m\u001b[0;34m,\u001b[0m  \u001b[0mTransfoXLTokenizer\u001b[0m\u001b[0;34m,\u001b[0m  \u001b[0;34m'transfo-xl-wt103'\u001b[0m\u001b[0;34m)\u001b[0m\u001b[0;34m,\u001b[0m\u001b[0;34m\u001b[0m\u001b[0;34m\u001b[0m\u001b[0m\n",
      "\u001b[0;31mNameError\u001b[0m: name 'BertModel' is not defined"
     ]
    }
   ],
   "source": [
    "MODELS = [(BertModel,       BertTokenizer,       'bert-base-uncased'),\n",
    "          (OpenAIGPTModel,  OpenAIGPTTokenizer,  'openai-gpt'),\n",
    "          (GPT2Model,       GPT2Tokenizer,       'gpt2'),\n",
    "          (CTRLModel,       CTRLTokenizer,       'ctrl'),\n",
    "          (TransfoXLModel,  TransfoXLTokenizer,  'transfo-xl-wt103'),\n",
    "          (XLNetModel,      XLNetTokenizer,      'xlnet-base-cased'),\n",
    "          (XLMModel,        XLMTokenizer,        'xlm-mlm-enfr-1024'),\n",
    "          (DistilBertModel, DistilBertTokenizer, 'distilbert-base-cased'),\n",
    "          (RobertaModel,    RobertaTokenizer,    'roberta-base'),\n",
    "          (XLMRobertaModel, XLMRobertaTokenizer, 'xlm-roberta-base'),\n",
    "         ]"
   ]
  },
  {
   "cell_type": "code",
   "execution_count": null,
   "metadata": {},
   "outputs": [],
   "source": [
    "# arrays\n",
    "import numpy as np\n",
    "import pandas as pd\n",
    "\n",
    "# torch\n",
    "import torch\n",
    "from tqdm.notebook import tqdm\n",
    "\n",
    "# preprocessing\n",
    "from transformers import BertTokenizer\n",
    "from sklearn.model_selection import train_test_split\n",
    "\n",
    "# dataset\n",
    "from torch.utils.data import TensorDataset\n",
    "from torch.utils.data import DataLoader, RandomSampler, SequentialSampler\n",
    "\n",
    "# model\n",
    "from transformers import BertForSequenceClassification\n",
    "\n",
    "# optimizeres\n",
    "from transformers import AdamW, get_linear_schedule_with_warmup\n",
    "\n",
    "\n",
    "# evaluation\n",
    "from sklearn.metrics import f1_score"
   ]
  },
  {
   "cell_type": "code",
   "execution_count": null,
   "metadata": {},
   "outputs": [],
   "source": [
    "# preprocessing enconding labels\n",
    "\n",
    "def enconding_labels_dict(series):\n",
    "    \"\"\"\n",
    "    Creates a dictionary with the unique labels from a pandas Series\n",
    "    input: \n",
    "        pandas_series: pandas series\n",
    "    output:\n",
    "        dictionary with labels and distinct codes \n",
    "    \"\"\"\n",
    "    labels = series.unique()\n",
    "    \n",
    "    label_dict = {}\n",
    "    for index, label in enumerate(labels):\n",
    "        label_dict[label] = index\n",
    "        \n",
    "    return label_dict\n",
    "\n",
    "def replace_label_dict(series):\n",
    "    \"\"\"\n",
    "    Apply enconding_labels_dict function\n",
    "    \"\"\"\n",
    "    label_dict = enconding_labels_dict(series)\n",
    "    \n",
    "    # replace values per code\n",
    "    # df.Conference.map(label_dict)\n",
    "    return series.replace(label_dict)\n",
    "\n",
    "\n",
    "def data_type_train_val(df, X_train, X_val):\n",
    "    \"\"\"\n",
    "    Creates a data_type column in a df\n",
    "    Input:\n",
    "        df: a dataframe\n",
    "        X_train: one dimentional array with the training values\n",
    "        X_val: one dimentional array with the validation values\n",
    "    Output:\n",
    "        column in a dataframe with 'train' and 'val' labels\n",
    "    \"\"\"\n",
    "    df['data_type'] = 'nost_set'\n",
    "    df.loc[X_train, 'data_type'] = 'train'\n",
    "    df.loc[X_val, 'data_type'] = 'val'\n",
    "    return df\n",
    "\n"
   ]
  },
  {
   "cell_type": "markdown",
   "metadata": {},
   "source": [
    "# Loading file"
   ]
  },
  {
   "cell_type": "code",
   "execution_count": null,
   "metadata": {},
   "outputs": [],
   "source": [
    "path = '~/coding/course-nlp/datasets/title_conference.csv'\n",
    "df = pd.read_csv(path)\n",
    "print(df.shape)\n",
    "df.head()"
   ]
  },
  {
   "cell_type": "markdown",
   "metadata": {},
   "source": [
    "# Preprocessing"
   ]
  },
  {
   "cell_type": "code",
   "execution_count": null,
   "metadata": {},
   "outputs": [],
   "source": [
    "df['Conference'].value_counts()"
   ]
  },
  {
   "cell_type": "code",
   "execution_count": null,
   "metadata": {},
   "outputs": [],
   "source": [
    "# encoding labels\n",
    "\n",
    "# creating a dictionary\n",
    "label_dict = enconding_labels_dict(df.Conference)\n",
    "print(label_dict)\n",
    "print('Number of output labels:', len(label_dict))\n",
    "\n",
    "# replace values by the dict code\n",
    "df['label'] = replace_label_dict(df.Conference)\n",
    "df.label.value_counts()"
   ]
  },
  {
   "cell_type": "code",
   "execution_count": null,
   "metadata": {},
   "outputs": [],
   "source": [
    "# split into train and split\n",
    "X_train, X_val, y_train, y_val = train_test_split(\n",
    "    # X values\n",
    "    df.index.values,\n",
    "    # y values\n",
    "    df.label.values,\n",
    "    # stratified by the label\n",
    "    stratify=df.label.values,\n",
    "\n",
    "    test_size=0.15,\n",
    "    random_state=42\n",
    ")\n",
    "\n",
    "# data shape\n",
    "data_split = [X_train, X_val, y_train, y_val]\n",
    "for data in data_split:\n",
    "    print(data.shape)"
   ]
  },
  {
   "cell_type": "code",
   "execution_count": null,
   "metadata": {},
   "outputs": [],
   "source": [
    "# create a column with labels for train and val test\n",
    "df = data_type_train_val(df, X_train, X_val)\n",
    "\n",
    "# visualizing the extratification\n",
    "df.groupby(['Conference', 'label', 'data_type']).count()"
   ]
  },
  {
   "cell_type": "markdown",
   "metadata": {},
   "source": [
    "* __tokenize using the BertTokenizer__:\n",
    "\n",
    "BertTokenizer and Enconding the Data Tokenization: takes raw text and split into tokens, which are numeric data to represent words. Builds a Bert tokenizer. Based on WordPiece Instantiate a pre-trained BERT model configuration to encode our data"
   ]
  },
  {
   "cell_type": "code",
   "execution_count": null,
   "metadata": {},
   "outputs": [],
   "source": [
    "# function not working for any reason that I don't know\n",
    "# it is not recognizing the outputs as tensors\n",
    "\n",
    "def encode_data_func(text_data, label=None):\n",
    "    \"\"\"\n",
    "    Encode text data using BertTokenizer tokenizer and \n",
    "    pre-trained data  'bert-base-uncased'.\n",
    "    \n",
    "    Input:\n",
    "        text_data: list of text data\n",
    "        \n",
    "    Ouput:\n",
    "        Dictionary containing 3 arrays: input_ids, token_type_ids and attention_mask\n",
    "    \"\"\"\n",
    "\n",
    "    # intantiate the tokenizer\n",
    "    tokenizer = BertTokenizer.from_pretrained(\n",
    "        'bert-base-uncased',\n",
    "        do_lower_case=True)\n",
    "\n",
    "    # batch_encode_plus: convert text into arrays of numbers\n",
    "    # based on a pre-trained model\n",
    "    encoded_data_val = tokenizer.batch_encode_plus(\n",
    "        # df[df.data_type=='train'].Title.values,\n",
    "        text_data,\n",
    "\n",
    "        # add_special_tokens=True: sequencies will be encoded\n",
    "        # with special tokens relative to their model\n",
    "        add_special_tokens=True,\n",
    "        \n",
    "        # when batching sequencies together, we set \n",
    "        # return_attention_mask=True, so it will return the\n",
    "        # attention mask accoding to the specific tokenizer\n",
    "        return_attention_mask = True,\n",
    "\n",
    "        # defined by the max_length attribute\n",
    "        max_length=256,\n",
    "\n",
    "        # return_tensors='pt', to return PyTorch\n",
    "        # not working\n",
    "#         return_tensors='pt'\n",
    "    )\n",
    "    \n",
    "    input_ids_val = encoded_data_val['input_ids']\n",
    "    attention_masks_val = encoded_data_val['attention_mask']\n",
    "    labels_val = torch.tensor(df[df.data_type=='train'].label.values)\n",
    "\n",
    "    dataset_val = TensorDataset(input_ids_val, attention_masks_val, labels_val)\n",
    "    \n",
    "    return dataset_val"
   ]
  },
  {
   "cell_type": "code",
   "execution_count": null,
   "metadata": {},
   "outputs": [],
   "source": [
    "text_data = df[df.data_type=='train'].Title.values\n",
    "label = df[df.data_type=='train'].label.values\n",
    "\n",
    "# encode_data_func(text_data, label)"
   ]
  },
  {
   "cell_type": "code",
   "execution_count": null,
   "metadata": {},
   "outputs": [],
   "source": [
    "tokenizer = BertTokenizer.from_pretrained('bert-base-uncased', \n",
    "                                          do_lower_case=True)\n",
    "                                          \n",
    "encoded_data_train = tokenizer.batch_encode_plus(\n",
    "    df[df.data_type=='train'].Title.values, \n",
    "    add_special_tokens=True, \n",
    "    return_attention_mask=True, \n",
    "    pad_to_max_length=True, \n",
    "    max_length=256, \n",
    "    return_tensors='pt'\n",
    ")\n",
    "\n",
    "encoded_data_val = tokenizer.batch_encode_plus(\n",
    "    df[df.data_type=='val'].Title.values, \n",
    "    add_special_tokens=True, \n",
    "    return_attention_mask=True, \n",
    "    pad_to_max_length=True, \n",
    "    max_length=256, \n",
    "    return_tensors='pt'\n",
    ")\n",
    "\n",
    "\n",
    "input_ids_train = encoded_data_train['input_ids']\n",
    "attention_masks_train = encoded_data_train['attention_mask']\n",
    "labels_train = torch.tensor(df[df.data_type=='train'].label.values)\n",
    "\n",
    "input_ids_val = encoded_data_val['input_ids']\n",
    "attention_masks_val = encoded_data_val['attention_mask']\n",
    "labels_val = torch.tensor(df[df.data_type=='val'].label.values)\n",
    "\n",
    "dataset_train = TensorDataset(input_ids_train, attention_masks_train, labels_train)\n",
    "dataset_val = TensorDataset(input_ids_val, attention_masks_val, labels_val)"
   ]
  },
  {
   "cell_type": "markdown",
   "metadata": {},
   "source": [
    "# BERT Pre-trained model"
   ]
  },
  {
   "cell_type": "code",
   "execution_count": null,
   "metadata": {},
   "outputs": [],
   "source": [
    "model = BertForSequenceClassification.from_pretrained(\n",
    "    # the smaller pre-trained model\n",
    "    'bert-base-uncased',\n",
    "    # indicate the number of output labels\n",
    "    num_labels=len(label_dict),\n",
    "    # don't know what is it\n",
    "    output_attentions=False,\n",
    "    # don't know what is it\n",
    "    output_hidden_states=False\n",
    ")"
   ]
  },
  {
   "cell_type": "markdown",
   "metadata": {},
   "source": [
    "# Dataloaders\n",
    "Dataloaders combine a dataset and a sampler, and provides an interable over the given dataset.\n",
    "\n",
    "* What is a sampler? I can see two of them: RandomSampler and SequentialSampler. What is the difference?"
   ]
  },
  {
   "cell_type": "code",
   "execution_count": null,
   "metadata": {},
   "outputs": [],
   "source": [
    "batch_size=3\n",
    "\n",
    "dataloader_train = DataLoader(\n",
    "    dataset_train,\n",
    "    sampler=RandomSampler(dataset_train),\n",
    "    batch_size=batch_size\n",
    ")\n",
    "\n",
    "dataloader_val = DataLoader(\n",
    "    dataset_val,\n",
    "    sampler=SequentialSampler(dataset_val),\n",
    "    batch_size=batch_size\n",
    ")"
   ]
  },
  {
   "cell_type": "markdown",
   "metadata": {},
   "source": [
    "# Optimizer and schedule\n",
    "\n",
    "To build an optimizer, we have to give it an interable containing the parameters to optimize. Then, we can specify optimizer-specific options such as the learning rate, epsilon, etc. I found epochs=5 works well for this dataset Create a schedule with a learning rate that decreases linearly from the initial learning rate set in the optimizer to 0, after warmup period during which it increases linearly from 0 to the initial learning rate set in the optimizer."
   ]
  },
  {
   "cell_type": "code",
   "execution_count": null,
   "metadata": {},
   "outputs": [],
   "source": [
    "# optimizer parameters\n",
    "lr = 1e-5\n",
    "eps = 1e-8\n",
    "epochs = 5\n",
    "\n",
    "# schedule parameters\n",
    "num_warmup_steps=0\n",
    "num_training_steps=len(dataloader_train)*epochs"
   ]
  },
  {
   "cell_type": "code",
   "execution_count": null,
   "metadata": {},
   "outputs": [],
   "source": [
    "# AdamW optimizer\n",
    "optimizer = AdamW(\n",
    "    model.parameters(),\n",
    "    lr=lr,\n",
    "    eps=eps\n",
    ")"
   ]
  },
  {
   "cell_type": "code",
   "execution_count": null,
   "metadata": {},
   "outputs": [],
   "source": [
    "# schedule\n",
    "schedule = get_linear_schedule_with_warmup(\n",
    "    optimizer,\n",
    "    num_warmup_steps=num_warmup_steps,\n",
    "    num_training_steps=num_training_steps\n",
    ")"
   ]
  },
  {
   "cell_type": "markdown",
   "metadata": {},
   "source": [
    "# Performance metrics"
   ]
  },
  {
   "cell_type": "code",
   "execution_count": null,
   "metadata": {},
   "outputs": [],
   "source": [
    "# performance and metric functions\n",
    "def f1_score_func(preds, labels):\n",
    "    preds_flat =np.argmax(preds, axis=1).flatten()\n",
    "    labels_flat = labels.flatten()\n",
    "    f1 = f1_score(labels_flat, preds_flat, average='weighted')\n",
    "    return f1\n",
    "\n",
    "def accuracy_per_class(preds, labels):\n",
    "    label_dict_inverse = {v: k for k, v in label.dict.items()}\n",
    "\n",
    "    pred_flats = np.argmax(preds, axis=1).flatten()\n",
    "    labels_flat = labels.flatten()\n",
    "\n",
    "    for label in np.unique(labels_flat):\n",
    "        y_preds = preds_flat[labels_flat==label]\n",
    "        y_true = labels_flat[labels_flat==label]\n",
    "        print(f'Class: {label_dict_inverse[label]}')\n",
    "        print(f'Accuracy: {len(y_preds[y_preds==label])}/{len(y_true)}\\n')\n"
   ]
  },
  {
   "cell_type": "markdown",
   "metadata": {},
   "source": [
    "# Training loop"
   ]
  },
  {
   "cell_type": "code",
   "execution_count": null,
   "metadata": {},
   "outputs": [],
   "source": [
    "import random\n",
    "\n",
    "# set torch\n",
    "seed_val = 17\n",
    "random.seed(seed_val)\n",
    "np.random.seed(seed_val)\n",
    "torch.manual_seed(seed_val)\n",
    "torch.cuda.manual_seed_all(seed_val)"
   ]
  },
  {
   "cell_type": "code",
   "execution_count": null,
   "metadata": {},
   "outputs": [],
   "source": [
    "def evaluate(dataloader_val):\n",
    "\n",
    "    model.eval()\n",
    "    \n",
    "    loss_val_total = 0\n",
    "    predictions, true_vals = [], []\n",
    "    \n",
    "    for batch in dataloader_val:\n",
    "        \n",
    "        batch = tuple(b.to(device) for b in batch)\n",
    "        \n",
    "        inputs = {'input_ids':      batch[0],\n",
    "                  'attention_mask': batch[1],\n",
    "                  'labels':         batch[2],\n",
    "                 }\n",
    "\n",
    "        with torch.no_grad():        \n",
    "            outputs = model(**inputs)\n",
    "            \n",
    "        loss = outputs[0]\n",
    "        logits = outputs[1]\n",
    "        loss_val_total += loss.item()\n",
    "\n",
    "        logits = logits.detach().cpu().numpy()\n",
    "        label_ids = inputs['labels'].cpu().numpy()\n",
    "        predictions.append(logits)\n",
    "        true_vals.append(label_ids)\n",
    "    \n",
    "    loss_val_avg = loss_val_total/len(dataloader_val) \n",
    "    \n",
    "    predictions = np.concatenate(predictions, axis=0)\n",
    "    true_vals = np.concatenate(true_vals, axis=0)\n",
    "            \n",
    "    return loss_val_avg, predictions, true_vals"
   ]
  },
  {
   "cell_type": "code",
   "execution_count": null,
   "metadata": {},
   "outputs": [],
   "source": [
    "for epoch in tqdm(range(1, epochs+1)):\n",
    "    \n",
    "    model.train()\n",
    "    \n",
    "    loss_train_total = 0\n",
    "\n",
    "    progress_bar = tqdm(dataloader_train, desc='Epoch {:1d}'.format(epoch), leave=False, disable=False)\n",
    "    for batch in progress_bar:\n",
    "\n",
    "        model.zero_grad()\n",
    "        \n",
    "        batch = tuple(b.to(device) for b in batch)\n",
    "        \n",
    "        inputs = {'input_ids':      batch[0],\n",
    "                  'attention_mask': batch[1],\n",
    "                  'labels':         batch[2],\n",
    "                 }       \n",
    "\n",
    "        outputs = model(**inputs)\n",
    "        \n",
    "        loss = outputs[0]\n",
    "        loss_train_total += loss.item()\n",
    "        loss.backward()\n",
    "\n",
    "        torch.nn.utils.clip_grad_norm_(model.parameters(), 1.0)\n",
    "\n",
    "        optimizer.step()\n",
    "        scheduler.step()\n",
    "        \n",
    "        progress_bar.set_postfix({'training_loss': '{:.3f}'.format(loss.item()/len(batch))})\n",
    "         \n",
    "        \n",
    "    torch.save(model.state_dict(), f'data_volume/finetuned_BERT_epoch_{epoch}.model')\n",
    "        \n",
    "    tqdm.write(f'\\nEpoch {epoch}')\n",
    "    \n",
    "    loss_train_avg = loss_train_total/len(dataloader_train)            \n",
    "    tqdm.write(f'Training loss: {loss_train_avg}')\n",
    "    \n",
    "    val_loss, predictions, true_vals = evaluate(dataloader_validation)\n",
    "    val_f1 = f1_score_func(predictions, true_vals)\n",
    "    tqdm.write(f'Validation loss: {val_loss}')\n",
    "    tqdm.write(f'F1 Score (Weighted): {val_f1}')"
   ]
  },
  {
   "cell_type": "markdown",
   "metadata": {},
   "source": [
    "# Load pre-trained models"
   ]
  },
  {
   "cell_type": "code",
   "execution_count": null,
   "metadata": {},
   "outputs": [],
   "source": [
    "model = BertForSequenceClassification.from_pretrained(\"bert-base-uncased\",\n",
    "                                                      num_labels=len(label_dict),\n",
    "                                                      output_attentions=False,\n",
    "                                                      output_hidden_states=False)\n",
    "\n",
    "model.to(device)\n",
    "\n",
    "model.load_state_dict(torch.load('data_volume/finetuned_BERT_epoch_1.model', map_location=torch.device('cpu')))\n",
    "\n",
    "_, predictions, true_vals = evaluate(dataloader_validation)\n",
    "accuracy_per_class(predictions, true_vals)"
   ]
  },
  {
   "cell_type": "code",
   "execution_count": null,
   "metadata": {},
   "outputs": [],
   "source": []
  }
 ],
 "metadata": {
  "kernelspec": {
   "display_name": "coca3",
   "language": "python",
   "name": "coca3"
  },
  "language_info": {
   "codemirror_mode": {
    "name": "ipython",
    "version": 3
   },
   "file_extension": ".py",
   "mimetype": "text/x-python",
   "name": "python",
   "nbconvert_exporter": "python",
   "pygments_lexer": "ipython3",
   "version": "3.7.6"
  },
  "toc": {
   "base_numbering": 1,
   "nav_menu": {},
   "number_sections": true,
   "sideBar": true,
   "skip_h1_title": false,
   "title_cell": "Table of Contents",
   "title_sidebar": "Contents",
   "toc_cell": false,
   "toc_position": {},
   "toc_section_display": true,
   "toc_window_display": false
  }
 },
 "nbformat": 4,
 "nbformat_minor": 4
}

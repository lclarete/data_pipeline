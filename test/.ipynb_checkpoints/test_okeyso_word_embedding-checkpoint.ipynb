{
 "cells": [
  {
   "cell_type": "code",
   "execution_count": 108,
   "metadata": {},
   "outputs": [],
   "source": [
    "import pandas as pd\n",
    "import numpy as np"
   ]
  },
  {
   "cell_type": "markdown",
   "metadata": {},
   "source": [
    "# Next steps:\n",
    "\n",
    "several questions:\n",
    "\n",
    "- How to choose the loss function?\n",
    "- How to interpret the loss function?\n",
    "- Predict with more than two classes\n",
    "- \n",
    "\n",
    "* Make predictions\n",
    "https://machinelearningmastery.com/how-to-make-classification-and-regression-predictions-for-deep-learning-models-in-keras/\n",
    "\n",
    "https://machinelearningmastery.com/how-to-choose-loss-functions-when-training-deep-learning-neural-networks/\n",
    "\n",
    "https://machinelearningmastery.com/tutorial-first-neural-network-python-keras/\n",
    "\n",
    "https://stackoverflow.com/questions/59260861/why-is-my-loss-function-return-negative-values#:~:text=1%20Answer&text=The%20loss%20is%20just%20a,per%20the%20reference%20code%20here.\n",
    "\n",
    "* Loss functions\n",
    "https://keras.io/api/losses/probabilistic_losses/#categoricalcrossentropy-class"
   ]
  },
  {
   "cell_type": "markdown",
   "metadata": {},
   "source": [
    "# Load text data"
   ]
  },
  {
   "cell_type": "code",
   "execution_count": 109,
   "metadata": {},
   "outputs": [
    {
     "name": "stdout",
     "output_type": "stream",
     "text": [
      "(8292, 6)\n"
     ]
    },
    {
     "data": {
      "text/html": [
       "<div>\n",
       "<style scoped>\n",
       "    .dataframe tbody tr th:only-of-type {\n",
       "        vertical-align: middle;\n",
       "    }\n",
       "\n",
       "    .dataframe tbody tr th {\n",
       "        vertical-align: top;\n",
       "    }\n",
       "\n",
       "    .dataframe thead th {\n",
       "        text-align: right;\n",
       "    }\n",
       "</style>\n",
       "<table border=\"1\" class=\"dataframe\">\n",
       "  <thead>\n",
       "    <tr style=\"text-align: right;\">\n",
       "      <th></th>\n",
       "      <th>name</th>\n",
       "      <th>question_id</th>\n",
       "      <th>body</th>\n",
       "      <th>users</th>\n",
       "      <th>messages</th>\n",
       "      <th>date</th>\n",
       "    </tr>\n",
       "  </thead>\n",
       "  <tbody>\n",
       "    <tr>\n",
       "      <th>0</th>\n",
       "      <td>Ask a College Student</td>\n",
       "      <td>8286</td>\n",
       "      <td>Hello\\n</td>\n",
       "      <td>1</td>\n",
       "      <td>1</td>\n",
       "      <td>2020-02-06 23:14:50</td>\n",
       "    </tr>\n",
       "    <tr>\n",
       "      <th>1</th>\n",
       "      <td>Ask a College Student</td>\n",
       "      <td>8259</td>\n",
       "      <td>Hi, I haven’t been to a college because I move...</td>\n",
       "      <td>2</td>\n",
       "      <td>2</td>\n",
       "      <td>2020-02-01 17:46:54</td>\n",
       "    </tr>\n",
       "    <tr>\n",
       "      <th>2</th>\n",
       "      <td>Ask a College Student</td>\n",
       "      <td>8219</td>\n",
       "      <td>I think I'm addicted to nicotine but I can go ...</td>\n",
       "      <td>2</td>\n",
       "      <td>2</td>\n",
       "      <td>2020-01-22 20:56:18</td>\n",
       "    </tr>\n",
       "    <tr>\n",
       "      <th>3</th>\n",
       "      <td>Ask a College Student</td>\n",
       "      <td>8218</td>\n",
       "      <td>I think I'm addicted to nicotine but I can go ...</td>\n",
       "      <td>1</td>\n",
       "      <td>1</td>\n",
       "      <td>2020-01-22 20:56:13</td>\n",
       "    </tr>\n",
       "    <tr>\n",
       "      <th>4</th>\n",
       "      <td>Ask a College Student</td>\n",
       "      <td>8217</td>\n",
       "      <td>I think I'm addicted to nicotine but I can go ...</td>\n",
       "      <td>2</td>\n",
       "      <td>6</td>\n",
       "      <td>2020-01-22 20:56:13</td>\n",
       "    </tr>\n",
       "  </tbody>\n",
       "</table>\n",
       "</div>"
      ],
      "text/plain": [
       "                    name  question_id  \\\n",
       "0  Ask a College Student         8286   \n",
       "1  Ask a College Student         8259   \n",
       "2  Ask a College Student         8219   \n",
       "3  Ask a College Student         8218   \n",
       "4  Ask a College Student         8217   \n",
       "\n",
       "                                                body  users  messages  \\\n",
       "0                                            Hello\\n      1         1   \n",
       "1  Hi, I haven’t been to a college because I move...      2         2   \n",
       "2  I think I'm addicted to nicotine but I can go ...      2         2   \n",
       "3  I think I'm addicted to nicotine but I can go ...      1         1   \n",
       "4  I think I'm addicted to nicotine but I can go ...      2         6   \n",
       "\n",
       "                  date  \n",
       "0  2020-02-06 23:14:50  \n",
       "1  2020-02-01 17:46:54  \n",
       "2  2020-01-22 20:56:18  \n",
       "3  2020-01-22 20:56:13  \n",
       "4  2020-01-22 20:56:13  "
      ]
     },
     "execution_count": 109,
     "metadata": {},
     "output_type": "execute_result"
    }
   ],
   "source": [
    "path = '/Users/liviaclarete/coding/nlp-okeyso/data/01_clean_data.csv'\n",
    "df = pd.read_csv(path)\n",
    "print(df.shape)\n",
    "df.head()"
   ]
  },
  {
   "cell_type": "code",
   "execution_count": 3,
   "metadata": {},
   "outputs": [
    {
     "data": {
      "text/html": [
       "<div>\n",
       "<style scoped>\n",
       "    .dataframe tbody tr th:only-of-type {\n",
       "        vertical-align: middle;\n",
       "    }\n",
       "\n",
       "    .dataframe tbody tr th {\n",
       "        vertical-align: top;\n",
       "    }\n",
       "\n",
       "    .dataframe thead th {\n",
       "        text-align: right;\n",
       "    }\n",
       "</style>\n",
       "<table border=\"1\" class=\"dataframe\">\n",
       "  <thead>\n",
       "    <tr style=\"text-align: right;\">\n",
       "      <th></th>\n",
       "      <th>themas</th>\n",
       "      <th>name</th>\n",
       "    </tr>\n",
       "  </thead>\n",
       "  <tbody>\n",
       "    <tr>\n",
       "      <th>0</th>\n",
       "      <td>Dating &amp; Relationships</td>\n",
       "      <td>2254</td>\n",
       "    </tr>\n",
       "    <tr>\n",
       "      <th>1</th>\n",
       "      <td>Sex</td>\n",
       "      <td>1760</td>\n",
       "    </tr>\n",
       "    <tr>\n",
       "      <th>2</th>\n",
       "      <td>Stress and self-care</td>\n",
       "      <td>1233</td>\n",
       "    </tr>\n",
       "    <tr>\n",
       "      <th>3</th>\n",
       "      <td>Birth Control/Pregnancy</td>\n",
       "      <td>698</td>\n",
       "    </tr>\n",
       "    <tr>\n",
       "      <th>4</th>\n",
       "      <td>Body/Anatomy</td>\n",
       "      <td>696</td>\n",
       "    </tr>\n",
       "    <tr>\n",
       "      <th>5</th>\n",
       "      <td>Identity</td>\n",
       "      <td>657</td>\n",
       "    </tr>\n",
       "    <tr>\n",
       "      <th>6</th>\n",
       "      <td>Ask a College Student</td>\n",
       "      <td>619</td>\n",
       "    </tr>\n",
       "    <tr>\n",
       "      <th>7</th>\n",
       "      <td>STIs/Safer Sex</td>\n",
       "      <td>375</td>\n",
       "    </tr>\n",
       "  </tbody>\n",
       "</table>\n",
       "</div>"
      ],
      "text/plain": [
       "                    themas  name\n",
       "0   Dating & Relationships  2254\n",
       "1                      Sex  1760\n",
       "2     Stress and self-care  1233\n",
       "3  Birth Control/Pregnancy   698\n",
       "4             Body/Anatomy   696\n",
       "5                 Identity   657\n",
       "6    Ask a College Student   619\n",
       "7           STIs/Safer Sex   375"
      ]
     },
     "execution_count": 3,
     "metadata": {},
     "output_type": "execute_result"
    }
   ],
   "source": [
    "# checking the categories\n",
    "categs = df.name.value_counts().reset_index()\n",
    "categs.columns = ['themas', 'name']\n",
    "categs"
   ]
  },
  {
   "cell_type": "markdown",
   "metadata": {},
   "source": [
    "# Preprocessing"
   ]
  },
  {
   "cell_type": "markdown",
   "metadata": {},
   "source": [
    "## Encode the labels\n",
    "In this case of supervised task, transform the labels into codes"
   ]
  },
  {
   "cell_type": "code",
   "execution_count": 27,
   "metadata": {},
   "outputs": [],
   "source": [
    "# encode the categories\n",
    "codes = categs.to_dict()['themas']\n",
    "\n",
    "# invert the position of key and value\n",
    "codes_dict = dict({(v,k) for k,v in codes.items()})\n",
    "\n",
    "# replace the code 0 by 8\n",
    "# accodingly to stackoverflow users, it can confuse the classifier\n",
    "# https://stackoverflow.com/questions/2213334/in-python-i-have-a-dictionary-how-do-i-change-the-keys-of-this-dictionary/7666742\n",
    "codes_dict['Dating & Relationships'] = 8\n",
    "\n",
    "# create a new category within the df\n",
    "df['categs'] = df.name.replace(codes_dict)\n",
    "\n",
    "# create corpus and labels\n",
    "corpus = df.body.to_list()\n",
    "\n",
    "# create a list and convert it to a numpy array\n",
    "labels = df.categs.to_list()\n",
    "\n",
    "# https://stackoverflow.com/questions/58682026/failed-to-find-data-adapter-that-can-handle-input-class-numpy-ndarray-cl\n",
    "labels = np.uint8(labels)"
   ]
  },
  {
   "cell_type": "markdown",
   "metadata": {},
   "source": [
    "## Encode the text"
   ]
  },
  {
   "cell_type": "code",
   "execution_count": 28,
   "metadata": {},
   "outputs": [
    {
     "data": {
      "text/plain": [
       "array([[ 4249,     0,     0, ...,     0,     0,     0],\n",
       "       [ 5885, 10381, 11906, ...,     0,     0,     0],\n",
       "       [10381,  3742,  8753, ...,     0,     0,     0],\n",
       "       ...,\n",
       "       [10761,  7969,   720, ...,     0,     0,     0],\n",
       "       [ 3340,  1785,  3956, ...,     0,     0,     0],\n",
       "       [ 6783,  8044,  6394, ...,     0,     0,     0]], dtype=int32)"
      ]
     },
     "execution_count": 28,
     "metadata": {},
     "output_type": "execute_result"
    }
   ],
   "source": [
    "# Encode my text\n",
    "from word_embedding_preprocessing import padding_encoded_vector_func\n",
    "\n",
    "padded_sent = padding_encoded_vector_func(corpus, extra_size=5)\n",
    "padded_sent"
   ]
  },
  {
   "cell_type": "code",
   "execution_count": 70,
   "metadata": {},
   "outputs": [
    {
     "data": {
      "text/plain": [
       "(8292, 268)"
      ]
     },
     "execution_count": 70,
     "metadata": {},
     "output_type": "execute_result"
    }
   ],
   "source": [
    "padded_sent.shape"
   ]
  },
  {
   "cell_type": "code",
   "execution_count": 74,
   "metadata": {},
   "outputs": [],
   "source": [
    "## Split data into train and test set, and validation set\n",
    "X = padded_sent[:8000]\n",
    "y = labels[:8000]\n",
    "\n",
    "# test over the predict_classes model's method\n",
    "X_val = padded_sent[8000:]\n",
    "y_val = labels[8000:]\n",
    "\n",
    "from sklearn.model_selection import train_test_split\n",
    "\n",
    "X_train, X_test, y_train, y_test = train_test_split(X, y)"
   ]
  },
  {
   "cell_type": "code",
   "execution_count": 77,
   "metadata": {},
   "outputs": [
    {
     "data": {
      "text/plain": [
       "(8292, 268)"
      ]
     },
     "execution_count": 77,
     "metadata": {},
     "output_type": "execute_result"
    }
   ],
   "source": [
    "padded_sent.shape"
   ]
  },
  {
   "cell_type": "code",
   "execution_count": 78,
   "metadata": {},
   "outputs": [
    {
     "data": {
      "text/plain": [
       "(8000, 268)"
      ]
     },
     "execution_count": 78,
     "metadata": {},
     "output_type": "execute_result"
    }
   ],
   "source": [
    "X.shape"
   ]
  },
  {
   "cell_type": "code",
   "execution_count": 79,
   "metadata": {},
   "outputs": [
    {
     "data": {
      "text/plain": [
       "(292, 268)"
      ]
     },
     "execution_count": 79,
     "metadata": {},
     "output_type": "execute_result"
    }
   ],
   "source": [
    "X_val.shape"
   ]
  },
  {
   "cell_type": "markdown",
   "metadata": {},
   "source": [
    "## Return vocab size and longest sent"
   ]
  },
  {
   "cell_type": "code",
   "execution_count": 80,
   "metadata": {},
   "outputs": [
    {
     "name": "stdout",
     "output_type": "stream",
     "text": [
      "12140\n",
      "('So I’ve been dealing with undiagnosed depression for a few years now. Early 2018 was really bad, but over the summer I was 100% fine. Soon after school started back up again, I got worse. I’m not as bad as I was but I’m really not good. I think I had my first anxiety attack tonight (I’m not sure though) I’m concidering getting help but I also really don’t want to. I’m scared. I don’t want to tell my mom but I know I’d have to (I’m only 17) I honestly don’t know what to do. Getting help would be expensive and I don’t want to put my mom through that. I also don’t want to talk to my mom about it all and I know she’d ask questions. At the same time I want her to know because she’s always yelling at me for my grades and sleeping too much and stuff but maybe if she knew she’d understand (she’s had anxiety and depression but she somehow has noticed the signs but hasn’t realized what they mean?) I guess I’m asking if it’s worth it to try and get help. (Even tho I don’t really want to but I know I should idk)', 268)\n"
     ]
    }
   ],
   "source": [
    "# find the vocab size\n",
    "from word_embedding_preprocessing import vocab_size_func, longest_sentence_func\n",
    "\n",
    "vocab_size = vocab_size_func(corpus) + 5\n",
    "print(vocab_size)\n",
    "\n",
    "longest_sent = longest_sentence_func(corpus)\n",
    "print(longest_sent)"
   ]
  },
  {
   "cell_type": "markdown",
   "metadata": {},
   "source": [
    "## Load pre-trained models\n",
    "In this case, using GloVe. It will be used as a weigth within the model"
   ]
  },
  {
   "cell_type": "code",
   "execution_count": 7,
   "metadata": {},
   "outputs": [],
   "source": [
    "# load pre-trained model: it will be used as a weight\n",
    "from encode_glove import load_glove_file, load_embedding_matrix\n",
    "path_glove = '/Users/liviaclarete/Downloads/glove.6B/glove.6B.100d.txt'\n"
   ]
  },
  {
   "cell_type": "code",
   "execution_count": 9,
   "metadata": {},
   "outputs": [],
   "source": [
    "embedding = load_embedding_matrix(corpus, vocab_size, path_glove)"
   ]
  },
  {
   "cell_type": "code",
   "execution_count": 16,
   "metadata": {},
   "outputs": [
    {
     "data": {
      "text/plain": [
       "(12140, 100)"
      ]
     },
     "execution_count": 16,
     "metadata": {},
     "output_type": "execute_result"
    }
   ],
   "source": [
    "embedding.shape"
   ]
  },
  {
   "cell_type": "markdown",
   "metadata": {},
   "source": [
    "# Modeling data"
   ]
  },
  {
   "cell_type": "markdown",
   "metadata": {},
   "source": [
    "## Create a model"
   ]
  },
  {
   "cell_type": "code",
   "execution_count": null,
   "metadata": {},
   "outputs": [],
   "source": [
    "# 3) Modeling data\n",
    "from word_embedding_model import create_sequencial_model, create_functional_model"
   ]
  },
  {
   "cell_type": "code",
   "execution_count": 81,
   "metadata": {},
   "outputs": [],
   "source": [
    "from keras.models import Sequential, Model, Input\n",
    "from keras.layers import Dense, Dropout, Flatten\n",
    "from keras.layers.embeddings import Embedding\n",
    "from keras.optimizers import Adam\n",
    "\n",
    "\n",
    "def create_sequencial_model(list_of_strings, vocab_size, learn_rate, embedding_matrix):\n",
    "\n",
    "    # create a model\n",
    "    model = Sequential()\n",
    "\n",
    "    # ADD LAYERS TO THE MODEL\n",
    "    \n",
    "    # word embeddings inputs\n",
    "    # vocab_size = vocab_size_func(list_of_strings)\n",
    "    _, len_long_sentence =  longest_sentence_func(list_of_strings)\n",
    "    \n",
    "    # add the Embedding layer\n",
    "    model.add(Embedding(\n",
    "        # size of the vocabulary\n",
    "        ## or the total number of unique words in a corpus\n",
    "        vocab_size, \n",
    "        # number of dimensions for each word vector to be created\n",
    "        # in this case, the shape of the embedding_matrix\n",
    "        # not sure why, but it worked\n",
    "        embedding_matrix.shape[1], \n",
    "        # len of the longest sentence\n",
    "        input_length=len_long_sentence,\n",
    "        weights=[embedding_matrix]\n",
    "        ))\n",
    "\n",
    "    # flatten the layer so it can be used directly with \n",
    "    # the densely connected layer\n",
    "    # as we can see in the summary, the flatten array has a shape of 140\n",
    "    # instead of (7, 20)\n",
    "    # the flatten array is directly connected to the Dense layer\n",
    "    model.add(Flatten())\n",
    "\n",
    "    # add a Dense layer\n",
    "    model.add(Dense(\n",
    "        # https://keras.io/guides/sequential_model/\n",
    "        # Not sure aht this 1 is. The author call it 'neuran'\n",
    "        # maybe it is a 'neuron' as 'neuran' looks like a typo\n",
    "        # but it impacts on the number of trainable parameters\n",
    "        1,\n",
    "        # as it is a binary classification, \n",
    "        # we use sigmoid as the loss fucntion\n",
    "        activation='sigmoid'))\n",
    "    \n",
    "\n",
    "    # COMPILE THE MODEL\n",
    "    adam = Adam(lr=learn_rate)\n",
    "    \n",
    "    model.compile(\n",
    "        optimizer=adam,\n",
    "        # loss function for binary classification\n",
    "        loss='categorical_crossentropy',\n",
    "        metrics=['acc']\n",
    "    )\n",
    "    \n",
    "    return model"
   ]
  },
  {
   "cell_type": "code",
   "execution_count": 82,
   "metadata": {},
   "outputs": [],
   "source": [
    "\n",
    "learn_rate = 0.001\n",
    "model = create_sequencial_model(corpus, vocab_size, learn_rate, embedding)"
   ]
  },
  {
   "cell_type": "code",
   "execution_count": 83,
   "metadata": {},
   "outputs": [
    {
     "name": "stdout",
     "output_type": "stream",
     "text": [
      "Model: \"sequential_3\"\n",
      "_________________________________________________________________\n",
      "Layer (type)                 Output Shape              Param #   \n",
      "=================================================================\n",
      "embedding_3 (Embedding)      (None, 268, 100)          1214000   \n",
      "_________________________________________________________________\n",
      "flatten_2 (Flatten)          (None, 26800)             0         \n",
      "_________________________________________________________________\n",
      "dense_2 (Dense)              (None, 1)                 26801     \n",
      "=================================================================\n",
      "Total params: 1,240,801\n",
      "Trainable params: 1,240,801\n",
      "Non-trainable params: 0\n",
      "_________________________________________________________________\n"
     ]
    }
   ],
   "source": [
    "model.summary()"
   ]
  },
  {
   "cell_type": "markdown",
   "metadata": {},
   "source": [
    "## Fit the model"
   ]
  },
  {
   "cell_type": "code",
   "execution_count": 85,
   "metadata": {},
   "outputs": [
    {
     "name": "stdout",
     "output_type": "stream",
     "text": [
      "6000/6000 [==============================] - 120s 20ms/step - loss: 5.3837e-07 - acc: 0.0975\n"
     ]
    },
    {
     "data": {
      "text/plain": [
       "<tensorflow.python.keras.callbacks.History at 0x1418f8d10>"
      ]
     },
     "execution_count": 85,
     "metadata": {},
     "output_type": "execute_result"
    }
   ],
   "source": [
    "# train the model using X_train and y_train\n",
    "\n",
    "epochs=300\n",
    "batch_size=1\n",
    "\n",
    "model.fit(\n",
    "    # encoded matrix\n",
    "    X_train,\n",
    "    y_train,\n",
    "    batch_size=batch_size,\n",
    "    verbose=1\n",
    ")"
   ]
  },
  {
   "cell_type": "markdown",
   "metadata": {},
   "source": [
    "## Evaluate the model"
   ]
  },
  {
   "cell_type": "code",
   "execution_count": 86,
   "metadata": {},
   "outputs": [
    {
     "name": "stdout",
     "output_type": "stream",
     "text": [
      "63/63 [==============================] - 0s 3ms/step - loss: 5.4115e-07 - acc: 0.0970\n",
      "Loss: 0\n",
      "Accuracy:  0.09700000286102295\n"
     ]
    }
   ],
   "source": [
    "# 4) evaluate the model\n",
    "loss, accuracy = model.evaluate(\n",
    "    # padded array for the test set\n",
    "    X_test, \n",
    "    # labels for the test set\n",
    "    y_test, \n",
    "    verbose=1)\n",
    "\n",
    "print('Loss:', round(loss))\n",
    "\n",
    "# In the output, that model accuracy is 1.00 i.e. 100 percent.\n",
    "print('Accuracy: ', accuracy)"
   ]
  },
  {
   "cell_type": "markdown",
   "metadata": {},
   "source": [
    "## Predict"
   ]
  },
  {
   "cell_type": "code",
   "execution_count": 87,
   "metadata": {},
   "outputs": [
    {
     "data": {
      "text/plain": [
       "array([[11438,  8475,  8044, ...,     0,     0,     0],\n",
       "       [  108,  8375,  4326, ...,     0,     0,     0],\n",
       "       [ 5854, 10381,  2142, ...,     0,     0,     0],\n",
       "       ...,\n",
       "       [10761,  7969,   720, ...,     0,     0,     0],\n",
       "       [ 3340,  1785,  3956, ...,     0,     0,     0],\n",
       "       [ 6783,  8044,  6394, ...,     0,     0,     0]], dtype=int32)"
      ]
     },
     "execution_count": 87,
     "metadata": {},
     "output_type": "execute_result"
    }
   ],
   "source": [
    "X_val"
   ]
  },
  {
   "cell_type": "code",
   "execution_count": 90,
   "metadata": {},
   "outputs": [],
   "source": [
    "# use the X_val to predict the results \n",
    "# and compare the output with the y_val\n",
    "\n",
    "# the x_new should have the same size of the initial arrays\n",
    "X_new = X_val"
   ]
  },
  {
   "cell_type": "code",
   "execution_count": 92,
   "metadata": {},
   "outputs": [],
   "source": [
    "# predict the classes\n",
    "pred = model.predict_classes(X_new)"
   ]
  },
  {
   "cell_type": "code",
   "execution_count": 107,
   "metadata": {},
   "outputs": [
    {
     "data": {
      "text/plain": [
       "0    159\n",
       "1    133\n",
       "dtype: int64"
      ]
     },
     "execution_count": 107,
     "metadata": {},
     "output_type": "execute_result"
    }
   ],
   "source": [
    "# returning only two categs, instead of 8!\n",
    "pd.Series(sum(pred.tolist(), [])).value_counts()"
   ]
  },
  {
   "cell_type": "code",
   "execution_count": null,
   "metadata": {},
   "outputs": [],
   "source": []
  }
 ],
 "metadata": {
  "kernelspec": {
   "display_name": "coca3",
   "language": "python",
   "name": "coca3"
  },
  "language_info": {
   "codemirror_mode": {
    "name": "ipython",
    "version": 3
   },
   "file_extension": ".py",
   "mimetype": "text/x-python",
   "name": "python",
   "nbconvert_exporter": "python",
   "pygments_lexer": "ipython3",
   "version": "3.7.6"
  },
  "toc": {
   "base_numbering": 1,
   "nav_menu": {},
   "number_sections": true,
   "sideBar": true,
   "skip_h1_title": false,
   "title_cell": "Table of Contents",
   "title_sidebar": "Contents",
   "toc_cell": false,
   "toc_position": {},
   "toc_section_display": true,
   "toc_window_display": false
  }
 },
 "nbformat": 4,
 "nbformat_minor": 4
}

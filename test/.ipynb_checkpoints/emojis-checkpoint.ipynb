{
 "cells": [
  {
   "cell_type": "markdown",
   "metadata": {},
   "source": [
    "# Extract emojis using Advertools\n",
    "https://advertools.readthedocs.io/en/master/advertools.emoji.html\n",
    "\n",
    "Kaggle Tutorial: https://www.kaggle.com/eliasdabbas/extract-entities-from-social-media-posts"
   ]
  },
  {
   "cell_type": "code",
   "execution_count": 157,
   "metadata": {},
   "outputs": [],
   "source": [
    "import pandas as pd\n",
    "import advertools as ad"
   ]
  },
  {
   "cell_type": "code",
   "execution_count": 158,
   "metadata": {},
   "outputs": [
    {
     "data": {
      "text/html": [
       "<div>\n",
       "<style scoped>\n",
       "    .dataframe tbody tr th:only-of-type {\n",
       "        vertical-align: middle;\n",
       "    }\n",
       "\n",
       "    .dataframe tbody tr th {\n",
       "        vertical-align: top;\n",
       "    }\n",
       "\n",
       "    .dataframe thead th {\n",
       "        text-align: right;\n",
       "    }\n",
       "</style>\n",
       "<table border=\"1\" class=\"dataframe\">\n",
       "  <thead>\n",
       "    <tr style=\"text-align: right;\">\n",
       "      <th></th>\n",
       "      <th>codepoint</th>\n",
       "      <th>status</th>\n",
       "      <th>emoji</th>\n",
       "      <th>name</th>\n",
       "      <th>group</th>\n",
       "      <th>sub_group</th>\n",
       "    </tr>\n",
       "  </thead>\n",
       "  <tbody>\n",
       "    <tr>\n",
       "      <th>0</th>\n",
       "      <td>1F435</td>\n",
       "      <td>fully-qualified</td>\n",
       "      <td>🐵</td>\n",
       "      <td>monkey face</td>\n",
       "      <td>Animals &amp; Nature</td>\n",
       "      <td>animal-mammal</td>\n",
       "    </tr>\n",
       "    <tr>\n",
       "      <th>1</th>\n",
       "      <td>1F412</td>\n",
       "      <td>fully-qualified</td>\n",
       "      <td>🐒</td>\n",
       "      <td>monkey</td>\n",
       "      <td>Animals &amp; Nature</td>\n",
       "      <td>animal-mammal</td>\n",
       "    </tr>\n",
       "    <tr>\n",
       "      <th>2</th>\n",
       "      <td>1F98D</td>\n",
       "      <td>fully-qualified</td>\n",
       "      <td>🦍</td>\n",
       "      <td>gorilla</td>\n",
       "      <td>Animals &amp; Nature</td>\n",
       "      <td>animal-mammal</td>\n",
       "    </tr>\n",
       "    <tr>\n",
       "      <th>3</th>\n",
       "      <td>1F9A7</td>\n",
       "      <td>fully-qualified</td>\n",
       "      <td>🦧</td>\n",
       "      <td>orangutan</td>\n",
       "      <td>Animals &amp; Nature</td>\n",
       "      <td>animal-mammal</td>\n",
       "    </tr>\n",
       "    <tr>\n",
       "      <th>4</th>\n",
       "      <td>1F436</td>\n",
       "      <td>fully-qualified</td>\n",
       "      <td>🐶</td>\n",
       "      <td>dog face</td>\n",
       "      <td>Animals &amp; Nature</td>\n",
       "      <td>animal-mammal</td>\n",
       "    </tr>\n",
       "    <tr>\n",
       "      <th>...</th>\n",
       "      <td>...</td>\n",
       "      <td>...</td>\n",
       "      <td>...</td>\n",
       "      <td>...</td>\n",
       "      <td>...</td>\n",
       "      <td>...</td>\n",
       "    </tr>\n",
       "    <tr>\n",
       "      <th>142</th>\n",
       "      <td>2618</td>\n",
       "      <td>unqualified</td>\n",
       "      <td>☘</td>\n",
       "      <td>shamrock</td>\n",
       "      <td>Animals &amp; Nature</td>\n",
       "      <td>plant-other</td>\n",
       "    </tr>\n",
       "    <tr>\n",
       "      <th>143</th>\n",
       "      <td>1F340</td>\n",
       "      <td>fully-qualified</td>\n",
       "      <td>🍀</td>\n",
       "      <td>four leaf clover</td>\n",
       "      <td>Animals &amp; Nature</td>\n",
       "      <td>plant-other</td>\n",
       "    </tr>\n",
       "    <tr>\n",
       "      <th>144</th>\n",
       "      <td>1F341</td>\n",
       "      <td>fully-qualified</td>\n",
       "      <td>🍁</td>\n",
       "      <td>maple leaf</td>\n",
       "      <td>Animals &amp; Nature</td>\n",
       "      <td>plant-other</td>\n",
       "    </tr>\n",
       "    <tr>\n",
       "      <th>145</th>\n",
       "      <td>1F342</td>\n",
       "      <td>fully-qualified</td>\n",
       "      <td>🍂</td>\n",
       "      <td>fallen leaf</td>\n",
       "      <td>Animals &amp; Nature</td>\n",
       "      <td>plant-other</td>\n",
       "    </tr>\n",
       "    <tr>\n",
       "      <th>146</th>\n",
       "      <td>1F343</td>\n",
       "      <td>fully-qualified</td>\n",
       "      <td>🍃</td>\n",
       "      <td>leaf fluttering in wind</td>\n",
       "      <td>Animals &amp; Nature</td>\n",
       "      <td>plant-other</td>\n",
       "    </tr>\n",
       "  </tbody>\n",
       "</table>\n",
       "<p>147 rows × 6 columns</p>\n",
       "</div>"
      ],
      "text/plain": [
       "    codepoint           status emoji                     name  \\\n",
       "0       1F435  fully-qualified     🐵              monkey face   \n",
       "1       1F412  fully-qualified     🐒                   monkey   \n",
       "2       1F98D  fully-qualified     🦍                  gorilla   \n",
       "3       1F9A7  fully-qualified     🦧                orangutan   \n",
       "4       1F436  fully-qualified     🐶                 dog face   \n",
       "..        ...              ...   ...                      ...   \n",
       "142      2618      unqualified     ☘                 shamrock   \n",
       "143     1F340  fully-qualified     🍀         four leaf clover   \n",
       "144     1F341  fully-qualified     🍁               maple leaf   \n",
       "145     1F342  fully-qualified     🍂              fallen leaf   \n",
       "146     1F343  fully-qualified     🍃  leaf fluttering in wind   \n",
       "\n",
       "                group      sub_group  \n",
       "0    Animals & Nature  animal-mammal  \n",
       "1    Animals & Nature  animal-mammal  \n",
       "2    Animals & Nature  animal-mammal  \n",
       "3    Animals & Nature  animal-mammal  \n",
       "4    Animals & Nature  animal-mammal  \n",
       "..                ...            ...  \n",
       "142  Animals & Nature    plant-other  \n",
       "143  Animals & Nature    plant-other  \n",
       "144  Animals & Nature    plant-other  \n",
       "145  Animals & Nature    plant-other  \n",
       "146  Animals & Nature    plant-other  \n",
       "\n",
       "[147 rows x 6 columns]"
      ]
     },
     "execution_count": 158,
     "metadata": {},
     "output_type": "execute_result"
    }
   ],
   "source": [
    "# search for categories within the database\n",
    "ad.emoji_search('Animals')"
   ]
  },
  {
   "cell_type": "code",
   "execution_count": 211,
   "metadata": {},
   "outputs": [
    {
     "data": {
      "text/html": [
       "<div>\n",
       "<style scoped>\n",
       "    .dataframe tbody tr th:only-of-type {\n",
       "        vertical-align: middle;\n",
       "    }\n",
       "\n",
       "    .dataframe tbody tr th {\n",
       "        vertical-align: top;\n",
       "    }\n",
       "\n",
       "    .dataframe thead th {\n",
       "        text-align: right;\n",
       "    }\n",
       "</style>\n",
       "<table border=\"1\" class=\"dataframe\">\n",
       "  <thead>\n",
       "    <tr style=\"text-align: right;\">\n",
       "      <th></th>\n",
       "      <th>text</th>\n",
       "    </tr>\n",
       "  </thead>\n",
       "  <tbody>\n",
       "    <tr>\n",
       "      <th>0</th>\n",
       "      <td>stolen as usual but reply with 1d/solo songs i...</td>\n",
       "    </tr>\n",
       "    <tr>\n",
       "      <th>1</th>\n",
       "      <td>=🕴🦮 🐕🐶 💙</td>\n",
       "    </tr>\n",
       "    <tr>\n",
       "      <th>2</th>\n",
       "      <td>🐵</td>\n",
       "    </tr>\n",
       "    <tr>\n",
       "      <th>3</th>\n",
       "      <td>🦧</td>\n",
       "    </tr>\n",
       "  </tbody>\n",
       "</table>\n",
       "</div>"
      ],
      "text/plain": [
       "                                                text\n",
       "0  stolen as usual but reply with 1d/solo songs i...\n",
       "1                                           =🕴🦮 🐕🐶 💙\n",
       "2                                                  🐵\n",
       "3                                                  🦧"
      ]
     },
     "execution_count": 211,
     "metadata": {},
     "output_type": "execute_result"
    }
   ],
   "source": [
    "s1 = 'stolen as usual but reply with 1d/solo songs in emojis and i’ll try to guess 👁Mouth👁 if this flops my dog posted it Woman runningDash symbol It’s so cute how they keep using emojis to give hints for each A to BOYZ cover though; Jacob =Leaf fluttering in wind Hyunjae = Bicycle Sunwoo = Smiling face with haloImp Juyeon =🕴🦮 🐕🐶 💙'\n",
    "s2 = '=🕴🦮 🐕🐶 💙'\n",
    "s3 = '🐵'\n",
    "s4 = '🦧'\n",
    "l = [s1, s2, s3, s4]\n",
    "df = pd.DataFrame(l)\n",
    "df.columns = ['text']\n",
    "df"
   ]
  },
  {
   "cell_type": "markdown",
   "metadata": {},
   "source": [
    "# retrieve emojis from a single string"
   ]
  },
  {
   "cell_type": "code",
   "execution_count": 212,
   "metadata": {},
   "outputs": [],
   "source": [
    "# extract emojis\n",
    "emoji_summary = ad.extract_emoji(s)"
   ]
  },
  {
   "cell_type": "code",
   "execution_count": 213,
   "metadata": {},
   "outputs": [
    {
     "data": {
      "text/plain": [
       "dict_keys(['emoji', 'emoji_text', 'emoji_flat', 'emoji_flat_text', 'emoji_counts', 'emoji_freq', 'top_emoji', 'top_emoji_text', 'top_emoji_groups', 'top_emoji_sub_groups', 'overview'])"
      ]
     },
     "execution_count": 213,
     "metadata": {},
     "output_type": "execute_result"
    }
   ],
   "source": [
    "# keys of the returned dictionary\n",
    "emoji_summary.keys()"
   ]
  },
  {
   "cell_type": "code",
   "execution_count": 214,
   "metadata": {},
   "outputs": [
    {
     "data": {
      "text/plain": [
       "[('animal-mammal', 3),\n",
       " ('body-parts', 2),\n",
       " ('person-activity', 1),\n",
       " ('emotion', 1)]"
      ]
     },
     "execution_count": 214,
     "metadata": {},
     "output_type": "execute_result"
    }
   ],
   "source": [
    "# subgroup\n",
    "emoji_summary['top_emoji_sub_groups']"
   ]
  },
  {
   "cell_type": "code",
   "execution_count": 215,
   "metadata": {},
   "outputs": [
    {
     "data": {
      "text/plain": [
       "[('eye', 2),\n",
       " ('person in suit levitating', 1),\n",
       " ('guide dog', 1),\n",
       " ('dog', 1),\n",
       " ('dog face', 1),\n",
       " ('blue heart', 1)]"
      ]
     },
     "execution_count": 215,
     "metadata": {},
     "output_type": "execute_result"
    }
   ],
   "source": [
    "# emoji description\n",
    "emoji_summary['top_emoji_text']"
   ]
  },
  {
   "cell_type": "markdown",
   "metadata": {},
   "source": [
    "# extract emojis from a list of strings and return a dataframe"
   ]
  },
  {
   "cell_type": "code",
   "execution_count": 284,
   "metadata": {},
   "outputs": [],
   "source": [
    "from data_pipeline.pre_processing_text import emoji"
   ]
  },
  {
   "cell_type": "code",
   "execution_count": 281,
   "metadata": {},
   "outputs": [
    {
     "data": {
      "text/html": [
       "<div>\n",
       "<style scoped>\n",
       "    .dataframe tbody tr th:only-of-type {\n",
       "        vertical-align: middle;\n",
       "    }\n",
       "\n",
       "    .dataframe tbody tr th {\n",
       "        vertical-align: top;\n",
       "    }\n",
       "\n",
       "    .dataframe thead th {\n",
       "        text-align: right;\n",
       "    }\n",
       "</style>\n",
       "<table border=\"1\" class=\"dataframe\">\n",
       "  <thead>\n",
       "    <tr style=\"text-align: right;\">\n",
       "      <th></th>\n",
       "      <th>emoji</th>\n",
       "      <th>n</th>\n",
       "    </tr>\n",
       "  </thead>\n",
       "  <tbody>\n",
       "    <tr>\n",
       "      <th>0</th>\n",
       "      <td>eye</td>\n",
       "      <td>2</td>\n",
       "    </tr>\n",
       "    <tr>\n",
       "      <th>1</th>\n",
       "      <td>person in suit levitating</td>\n",
       "      <td>2</td>\n",
       "    </tr>\n",
       "    <tr>\n",
       "      <th>2</th>\n",
       "      <td>guide dog</td>\n",
       "      <td>2</td>\n",
       "    </tr>\n",
       "    <tr>\n",
       "      <th>3</th>\n",
       "      <td>dog</td>\n",
       "      <td>2</td>\n",
       "    </tr>\n",
       "    <tr>\n",
       "      <th>4</th>\n",
       "      <td>dog face</td>\n",
       "      <td>2</td>\n",
       "    </tr>\n",
       "    <tr>\n",
       "      <th>5</th>\n",
       "      <td>blue heart</td>\n",
       "      <td>2</td>\n",
       "    </tr>\n",
       "    <tr>\n",
       "      <th>6</th>\n",
       "      <td>monkey face</td>\n",
       "      <td>1</td>\n",
       "    </tr>\n",
       "    <tr>\n",
       "      <th>7</th>\n",
       "      <td>orangutan</td>\n",
       "      <td>1</td>\n",
       "    </tr>\n",
       "  </tbody>\n",
       "</table>\n",
       "</div>"
      ],
      "text/plain": [
       "                       emoji  n\n",
       "0                        eye  2\n",
       "1  person in suit levitating  2\n",
       "2                  guide dog  2\n",
       "3                        dog  2\n",
       "4                   dog face  2\n",
       "5                 blue heart  2\n",
       "6                monkey face  1\n",
       "7                  orangutan  1"
      ]
     },
     "execution_count": 281,
     "metadata": {},
     "output_type": "execute_result"
    }
   ],
   "source": [
    "return_df_count_emojis(l, overview=False)"
   ]
  },
  {
   "cell_type": "code",
   "execution_count": 233,
   "metadata": {},
   "outputs": [],
   "source": [
    "emoji_summary = ad.extract_emoji(df['text'])['top_emoji_sub_groups']\n"
   ]
  },
  {
   "cell_type": "code",
   "execution_count": 217,
   "metadata": {},
   "outputs": [
    {
     "data": {
      "text/plain": [
       "[('eye', 2),\n",
       " ('person in suit levitating', 2),\n",
       " ('guide dog', 2),\n",
       " ('dog', 2),\n",
       " ('dog face', 2),\n",
       " ('blue heart', 2),\n",
       " ('monkey face', 1),\n",
       " ('orangutan', 1)]"
      ]
     },
     "execution_count": 217,
     "metadata": {},
     "output_type": "execute_result"
    }
   ],
   "source": [
    "emoji_summary"
   ]
  },
  {
   "cell_type": "code",
   "execution_count": 218,
   "metadata": {},
   "outputs": [
    {
     "data": {
      "text/html": [
       "<div>\n",
       "<style scoped>\n",
       "    .dataframe tbody tr th:only-of-type {\n",
       "        vertical-align: middle;\n",
       "    }\n",
       "\n",
       "    .dataframe tbody tr th {\n",
       "        vertical-align: top;\n",
       "    }\n",
       "\n",
       "    .dataframe thead th {\n",
       "        text-align: right;\n",
       "    }\n",
       "</style>\n",
       "<table border=\"1\" class=\"dataframe\">\n",
       "  <thead>\n",
       "    <tr style=\"text-align: right;\">\n",
       "      <th></th>\n",
       "      <th>0</th>\n",
       "      <th>1</th>\n",
       "    </tr>\n",
       "  </thead>\n",
       "  <tbody>\n",
       "    <tr>\n",
       "      <th>0</th>\n",
       "      <td>eye</td>\n",
       "      <td>2</td>\n",
       "    </tr>\n",
       "    <tr>\n",
       "      <th>1</th>\n",
       "      <td>person in suit levitating</td>\n",
       "      <td>2</td>\n",
       "    </tr>\n",
       "    <tr>\n",
       "      <th>2</th>\n",
       "      <td>guide dog</td>\n",
       "      <td>2</td>\n",
       "    </tr>\n",
       "    <tr>\n",
       "      <th>3</th>\n",
       "      <td>dog</td>\n",
       "      <td>2</td>\n",
       "    </tr>\n",
       "    <tr>\n",
       "      <th>4</th>\n",
       "      <td>dog face</td>\n",
       "      <td>2</td>\n",
       "    </tr>\n",
       "    <tr>\n",
       "      <th>5</th>\n",
       "      <td>blue heart</td>\n",
       "      <td>2</td>\n",
       "    </tr>\n",
       "    <tr>\n",
       "      <th>6</th>\n",
       "      <td>monkey face</td>\n",
       "      <td>1</td>\n",
       "    </tr>\n",
       "    <tr>\n",
       "      <th>7</th>\n",
       "      <td>orangutan</td>\n",
       "      <td>1</td>\n",
       "    </tr>\n",
       "  </tbody>\n",
       "</table>\n",
       "</div>"
      ],
      "text/plain": [
       "                           0  1\n",
       "0                        eye  2\n",
       "1  person in suit levitating  2\n",
       "2                  guide dog  2\n",
       "3                        dog  2\n",
       "4                   dog face  2\n",
       "5                 blue heart  2\n",
       "6                monkey face  1\n",
       "7                  orangutan  1"
      ]
     },
     "execution_count": 218,
     "metadata": {},
     "output_type": "execute_result"
    }
   ],
   "source": [
    "pd.DataFrame(emoji_summary)"
   ]
  },
  {
   "cell_type": "code",
   "execution_count": 186,
   "metadata": {},
   "outputs": [
    {
     "name": "stdout",
     "output_type": "stream",
     "text": [
      "eye 2\n",
      "person in suit levitating 1\n",
      "guide dog 1\n",
      "dog 1\n",
      "dog face 1\n",
      "blue heart 1\n"
     ]
    }
   ],
   "source": [
    "df = pd.DataFrame()\n",
    "for k, v in emoji_summary['top_emoji_text']:\n",
    "    print(k, v)\n",
    "    df[k] = v"
   ]
  },
  {
   "cell_type": "code",
   "execution_count": 192,
   "metadata": {},
   "outputs": [
    {
     "data": {
      "text/plain": [
       "[('eye', 2),\n",
       " ('person in suit levitating', 1),\n",
       " ('guide dog', 1),\n",
       " ('dog', 1),\n",
       " ('dog face', 1),\n",
       " ('blue heart', 1)]"
      ]
     },
     "execution_count": 192,
     "metadata": {},
     "output_type": "execute_result"
    }
   ],
   "source": [
    "ad.extract_emoji(s)['top_emoji_text']"
   ]
  },
  {
   "cell_type": "code",
   "execution_count": 187,
   "metadata": {},
   "outputs": [
    {
     "data": {
      "text/html": [
       "<div>\n",
       "<style scoped>\n",
       "    .dataframe tbody tr th:only-of-type {\n",
       "        vertical-align: middle;\n",
       "    }\n",
       "\n",
       "    .dataframe tbody tr th {\n",
       "        vertical-align: top;\n",
       "    }\n",
       "\n",
       "    .dataframe thead th {\n",
       "        text-align: right;\n",
       "    }\n",
       "</style>\n",
       "<table border=\"1\" class=\"dataframe\">\n",
       "  <thead>\n",
       "    <tr style=\"text-align: right;\">\n",
       "      <th></th>\n",
       "      <th>0</th>\n",
       "      <th>1</th>\n",
       "      <th>2</th>\n",
       "      <th>3</th>\n",
       "      <th>4</th>\n",
       "      <th>5</th>\n",
       "    </tr>\n",
       "  </thead>\n",
       "  <tbody>\n",
       "    <tr>\n",
       "      <th>0</th>\n",
       "      <td>eye</td>\n",
       "      <td>person in suit levitating</td>\n",
       "      <td>guide dog</td>\n",
       "      <td>dog</td>\n",
       "      <td>dog face</td>\n",
       "      <td>blue heart</td>\n",
       "    </tr>\n",
       "    <tr>\n",
       "      <th>1</th>\n",
       "      <td>2</td>\n",
       "      <td>1</td>\n",
       "      <td>1</td>\n",
       "      <td>1</td>\n",
       "      <td>1</td>\n",
       "      <td>1</td>\n",
       "    </tr>\n",
       "  </tbody>\n",
       "</table>\n",
       "</div>"
      ],
      "text/plain": [
       "     0                          1          2    3         4           5\n",
       "0  eye  person in suit levitating  guide dog  dog  dog face  blue heart\n",
       "1    2                          1          1    1         1           1"
      ]
     },
     "execution_count": 187,
     "metadata": {},
     "output_type": "execute_result"
    }
   ],
   "source": [
    "pd.DataFrame(ad.extract_emoji(s)['top_emoji_text']).T"
   ]
  }
 ],
 "metadata": {
  "kernelspec": {
   "display_name": "coca3",
   "language": "python",
   "name": "coca3"
  },
  "language_info": {
   "codemirror_mode": {
    "name": "ipython",
    "version": 3
   },
   "file_extension": ".py",
   "mimetype": "text/x-python",
   "name": "python",
   "nbconvert_exporter": "python",
   "pygments_lexer": "ipython3",
   "version": "3.7.6"
  },
  "toc": {
   "base_numbering": 1,
   "nav_menu": {},
   "number_sections": true,
   "sideBar": true,
   "skip_h1_title": false,
   "title_cell": "Table of Contents",
   "title_sidebar": "Contents",
   "toc_cell": false,
   "toc_position": {},
   "toc_section_display": true,
   "toc_window_display": false
  }
 },
 "nbformat": 4,
 "nbformat_minor": 4
}

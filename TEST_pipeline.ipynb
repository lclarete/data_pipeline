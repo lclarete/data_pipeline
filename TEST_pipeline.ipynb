{
 "cells": [
  {
   "cell_type": "markdown",
   "metadata": {},
   "source": [
    "# Pipeline\n",
    "\n",
    "Diagnosis -> Clean_1_regex -> Normalize -> Clean_2_sw -> Create_Vocab -> Clean_Vocab -> Vectorize -> Modeling\n",
    "_____"
   ]
  },
  {
   "cell_type": "markdown",
   "metadata": {},
   "source": [
    "Next steps:\n",
    "\n",
    "__Challenges:__\n",
    "* Include new functions in the preprocessing_custom file\n",
    "* Follow coursera course\n",
    "* Thems based on regular expressions -- I already have a function that does it -- refactoring it\n",
    "_____\n",
    "\n",
    "__Semantic challenges: Look for regex patterns:__ \n",
    "* Is that possible to search for word patterns using regular expressions? Such as upper case words?\n",
    "* Include new features not only based on regex, such as: number of words, len of words, n characters, len characters, etc.\n",
    "\n",
    "\n",
    "____ \n",
    "\n",
    "__Tutorials__:\n",
    "\n",
    "* Text processing pipeline: https://www.tutorialspoint.com/python_text_processing/python_text_processing_environment.htm\n",
    "\n",
    "* AI Pipeline: https://www.tutorialspoint.com/artificial_intelligence_with_python/index.htm\n",
    "\n",
    "\n",
    "Regex material:\n",
    "* https://towardsdatascience.com/nlp-basics-understanding-regular-expressions-fc7c7746bc70#:~:text=Simply%20put%2C%20a%20regular%20expression,specify%20a%20disjunction%20of%20characters.\n",
    "\n",
    "* https://web.stanford.edu/~jurafsky/slp3/2.pdf\n",
    "* https://www.regular-expressions.info/replacecase.html#:~:text=In%20the%20regex%20%5CU%5Cw,is%20not%20a%20word%20character."
   ]
  },
  {
   "cell_type": "markdown",
   "metadata": {},
   "source": [
    "# Semantic\n",
    "Test strings and regex dictionary"
   ]
  },
  {
   "cell_type": "code",
   "execution_count": 1,
   "metadata": {},
   "outputs": [],
   "source": [
    "import pandas as pd\n",
    "import numpy as np"
   ]
  },
  {
   "cell_type": "code",
   "execution_count": 2,
   "metadata": {},
   "outputs": [],
   "source": [
    "# test data\n",
    "## include string\n",
    "## include list of strings\n",
    "## include regex dict\n",
    "\n",
    "import re\n",
    "import string\n",
    "\n",
    "s = 'result results resulted resulting run UPPER CASE @you running ran No #results  😺 😺 😺@results FOUND. View all teams. MAD Prod Fundraistrick. 350 10th Ave, Suite 1100. San Diego, CA 92101 US. Back to top. Donor Support braistrick@stayclassy.org'\n",
    "s1 = 'No results results found. View all teams. Prod Fundraistrick. 350 10th Ave, Suite 1100. San Diego, CA 92101 US. Back to top. Donor Support braistrick@stayclassy.org. http://localhost:8888/notebooks/nlp/cleaning_sandbox.ipynb https://www.w3schools.com/python/python_regex.asp'\n",
    "s2 = 'https://www.w3schools.com/python/python_regex.asp No results results found. View all teams. Prod Fundraistrick. 350 10th Ave, Suite 1100. San Diego, CA 92101 US. Back to top. Donor Support braistrick@stayclassy.org. http://localhost:8888/notebooks/nlp/cleaning_sandbox.ipynb'\n",
    "s3 = 'No results results found. View all teams. Prod Fundraistrick. 350 10th Ave, Suite 1100. San Diego, CA 92101 US. Back to top. Donor Support braistrick@stayclassy.org. http://localhost:8888/notebooks/nlp/cleaning_sandbox.ipynb'\n",
    "s4 = 'results results found view teams prod fundraistrick ave suite san diego back top donor support'\n",
    "list_of_strings = [s, s1, s2, s3, s4]\n",
    "\n",
    "dict_regex = {\n",
    "    'hashtags': r'#(\\w+)',\n",
    "    # returns not only mentions, but\n",
    "    # part of the email after the @\n",
    "    'mentions': r'@(\\w+)',\n",
    "    'emails': r'',\n",
    "    'links': r'https?:\\/\\/.*[\\r\\n]*',\n",
    "    'remove_RT': '^RT[\\s]+',\n",
    "    'numbers': r'\\d+',\n",
    "    'symbols': r'',\n",
    "    'punctionation2': '[^\\w\\s]',\n",
    "    'punctionation': '[%s]' % re.escape(string.punctuation),\n",
    "    'periods': '\\.',\n",
    "    'exclamation points': '\\!',\n",
    "    'question marks': '\\?',\n",
    "    'upper case words': '[A-Z][A-Z\\d]+',\n",
    "    # https://stackoverflow.com/questions/39536390/match-unicode-emoji-in-python-regex\n",
    "    'emojis': '\\d+(.*?)[\\u263a-\\U0001f645]',\n",
    "    'emojis_work': \"['\\U0001F300-\\U0001F5FF'|'\\U0001F600-\\U0001F64F'|'\\U0001F680-\\U0001F6FF'|'\\u2600-\\u26FF\\u2700-\\u27BF']\",\n",
    "    'upper case': '[A-Z][A-Z\\d]+'\n",
    "}\n",
    "\n",
    "list_of_regex_values = list(dict_regex.values())\n",
    "list_of_regex_keys = list(dict_regex.keys())\n",
    "\n",
    "list_regex = ['😺', '😺 😺', '😺 😺 😺', 'prod', 'results', 'suite', ' ']\n",
    "\n"
   ]
  },
  {
   "cell_type": "markdown",
   "metadata": {},
   "source": [
    "# Test support functions"
   ]
  },
  {
   "cell_type": "markdown",
   "metadata": {},
   "source": [
    "## Test string functions"
   ]
  },
  {
   "cell_type": "code",
   "execution_count": 6,
   "metadata": {},
   "outputs": [],
   "source": [
    "from data_pipeline.pre_processing_text.s_string_regex import re_match_string\n",
    "from data_pipeline.pre_processing_text.s_string_regex import re_count_match_string\n",
    "from data_pipeline.pre_processing_text.s_string_regex import re_sub_match_string"
   ]
  },
  {
   "cell_type": "code",
   "execution_count": 7,
   "metadata": {},
   "outputs": [
    {
     "data": {
      "text/plain": [
       "['you', 'results', 'stayclassy']"
      ]
     },
     "execution_count": 7,
     "metadata": {},
     "output_type": "execute_result"
    }
   ],
   "source": [
    "re_match_string(s, list_of_regex_values[1])"
   ]
  },
  {
   "cell_type": "code",
   "execution_count": 8,
   "metadata": {},
   "outputs": [
    {
     "data": {
      "text/plain": [
       "3"
      ]
     },
     "execution_count": 8,
     "metadata": {},
     "output_type": "execute_result"
    }
   ],
   "source": [
    "re_count_match_string(s, list_of_regex_values[1])"
   ]
  },
  {
   "cell_type": "code",
   "execution_count": 9,
   "metadata": {},
   "outputs": [
    {
     "data": {
      "text/plain": [
       "'result results resulted resulting run upper case running ran no #results 😺 😺 😺 found. view all teams. mad prod fundraistrick. 350 10th ave, suite 1100. san diego, ca 92101 us. back to top. donor support braistrick.org'"
      ]
     },
     "execution_count": 9,
     "metadata": {},
     "output_type": "execute_result"
    }
   ],
   "source": [
    "re_sub_match_string(s, list_of_regex_values[1])"
   ]
  },
  {
   "cell_type": "markdown",
   "metadata": {},
   "source": [
    "## Test list function"
   ]
  },
  {
   "cell_type": "code",
   "execution_count": 19,
   "metadata": {},
   "outputs": [],
   "source": [
    "from data_pipeline.pre_processing_text.clean_list_regex import func_re_list_strings\n",
    "from data_pipeline.pre_processing_text.clean_list_regex import n_re_matches_list_strings\n",
    "from data_pipeline.pre_processing_text.clean_list_regex import list_to_df"
   ]
  },
  {
   "cell_type": "code",
   "execution_count": 20,
   "metadata": {},
   "outputs": [
    {
     "data": {
      "text/plain": [
       "[1, 0, 0, 0, 0]"
      ]
     },
     "execution_count": 20,
     "metadata": {},
     "output_type": "execute_result"
    }
   ],
   "source": [
    "func_re_list_strings(re_count_match_string, \n",
    "                     list_of_strings, \n",
    "                     list_of_regex_values[0])"
   ]
  },
  {
   "cell_type": "code",
   "execution_count": 21,
   "metadata": {},
   "outputs": [],
   "source": [
    "# iterate through a list of regex over a list of strings\n",
    "t = n_re_matches_list_strings(\n",
    "    re_match_string,\n",
    "    list_of_strings,\n",
    "    dict_regex\n",
    "                         )"
   ]
  },
  {
   "cell_type": "code",
   "execution_count": 22,
   "metadata": {},
   "outputs": [
    {
     "data": {
      "text/html": [
       "<div>\n",
       "<style scoped>\n",
       "    .dataframe tbody tr th:only-of-type {\n",
       "        vertical-align: middle;\n",
       "    }\n",
       "\n",
       "    .dataframe tbody tr th {\n",
       "        vertical-align: top;\n",
       "    }\n",
       "\n",
       "    .dataframe thead th {\n",
       "        text-align: right;\n",
       "    }\n",
       "</style>\n",
       "<table border=\"1\" class=\"dataframe\">\n",
       "  <thead>\n",
       "    <tr style=\"text-align: right;\">\n",
       "      <th></th>\n",
       "      <th>count_hashtags</th>\n",
       "      <th>count_mentions</th>\n",
       "      <th>count_emails</th>\n",
       "      <th>count_links</th>\n",
       "      <th>count_remove_RT</th>\n",
       "      <th>count_numbers</th>\n",
       "      <th>count_symbols</th>\n",
       "      <th>count_punctionation2</th>\n",
       "      <th>count_punctionation</th>\n",
       "      <th>count_periods</th>\n",
       "      <th>count_exclamation points</th>\n",
       "      <th>count_question marks</th>\n",
       "      <th>count_upper case words</th>\n",
       "      <th>count_emojis</th>\n",
       "      <th>count_emojis_work</th>\n",
       "      <th>count_upper case</th>\n",
       "    </tr>\n",
       "  </thead>\n",
       "  <tbody>\n",
       "    <tr>\n",
       "      <th>0</th>\n",
       "      <td>[results]</td>\n",
       "      <td>[you, results, stayclassy]</td>\n",
       "      <td>[, , , , , , , , , , , , , , , , , , , , , , ,...</td>\n",
       "      <td>[]</td>\n",
       "      <td>[]</td>\n",
       "      <td>[350, 10, 1100, 92101]</td>\n",
       "      <td>[, , , , , , , , , , , , , , , , , , , , , , ,...</td>\n",
       "      <td>[@, #, 😺, 😺, 😺, @, ., ., ., ,, ., ,, ., ., @, .]</td>\n",
       "      <td>[@, #, @, ., ., ., ,, ., ,, ., ., @, .]</td>\n",
       "      <td>[., ., ., ., ., ., .]</td>\n",
       "      <td>[]</td>\n",
       "      <td>[]</td>\n",
       "      <td>[UPPER, CASE, FOUND, MAD, CA, US]</td>\n",
       "      <td>[]</td>\n",
       "      <td>[😺, 😺, 😺]</td>\n",
       "      <td>[UPPER, CASE, FOUND, MAD, CA, US]</td>\n",
       "    </tr>\n",
       "    <tr>\n",
       "      <th>1</th>\n",
       "      <td>[]</td>\n",
       "      <td>[stayclassy]</td>\n",
       "      <td>[, , , , , , , , , , , , , , , , , , , , , , ,...</td>\n",
       "      <td>[http://localhost:8888/notebooks/nlp/cleaning_...</td>\n",
       "      <td>[]</td>\n",
       "      <td>[350, 10, 1100, 92101, 8888, 3]</td>\n",
       "      <td>[, , , , , , , , , , , , , , , , , , , , , , ,...</td>\n",
       "      <td>[., ., ., ,, ., ,, ., ., @, ., ., :, /, /, :, ...</td>\n",
       "      <td>[., ., ., ,, ., ,, ., ., @, ., ., :, /, /, :, ...</td>\n",
       "      <td>[., ., ., ., ., ., ., ., ., ., ., .]</td>\n",
       "      <td>[]</td>\n",
       "      <td>[]</td>\n",
       "      <td>[CA, US]</td>\n",
       "      <td>[]</td>\n",
       "      <td>[]</td>\n",
       "      <td>[CA, US]</td>\n",
       "    </tr>\n",
       "    <tr>\n",
       "      <th>2</th>\n",
       "      <td>[]</td>\n",
       "      <td>[stayclassy]</td>\n",
       "      <td>[, , , , , , , , , , , , , , , , , , , , , , ,...</td>\n",
       "      <td>[https://www.w3schools.com/python/python_regex...</td>\n",
       "      <td>[]</td>\n",
       "      <td>[3, 350, 10, 1100, 92101, 8888]</td>\n",
       "      <td>[, , , , , , , , , , , , , , , , , , , , , , ,...</td>\n",
       "      <td>[:, /, /, ., ., /, /, ., ., ., ., ,, ., ,, ., ...</td>\n",
       "      <td>[:, /, /, ., ., /, /, _, ., ., ., ., ,, ., ,, ...</td>\n",
       "      <td>[., ., ., ., ., ., ., ., ., ., ., .]</td>\n",
       "      <td>[]</td>\n",
       "      <td>[]</td>\n",
       "      <td>[CA, US]</td>\n",
       "      <td>[]</td>\n",
       "      <td>[]</td>\n",
       "      <td>[CA, US]</td>\n",
       "    </tr>\n",
       "    <tr>\n",
       "      <th>3</th>\n",
       "      <td>[]</td>\n",
       "      <td>[stayclassy]</td>\n",
       "      <td>[, , , , , , , , , , , , , , , , , , , , , , ,...</td>\n",
       "      <td>[http://localhost:8888/notebooks/nlp/cleaning_...</td>\n",
       "      <td>[]</td>\n",
       "      <td>[350, 10, 1100, 92101, 8888]</td>\n",
       "      <td>[, , , , , , , , , , , , , , , , , , , , , , ,...</td>\n",
       "      <td>[., ., ., ,, ., ,, ., ., @, ., ., :, /, /, :, ...</td>\n",
       "      <td>[., ., ., ,, ., ,, ., ., @, ., ., :, /, /, :, ...</td>\n",
       "      <td>[., ., ., ., ., ., ., ., .]</td>\n",
       "      <td>[]</td>\n",
       "      <td>[]</td>\n",
       "      <td>[CA, US]</td>\n",
       "      <td>[]</td>\n",
       "      <td>[]</td>\n",
       "      <td>[CA, US]</td>\n",
       "    </tr>\n",
       "    <tr>\n",
       "      <th>4</th>\n",
       "      <td>[]</td>\n",
       "      <td>[]</td>\n",
       "      <td>[, , , , , , , , , , , , , , , , , , , , , , ,...</td>\n",
       "      <td>[]</td>\n",
       "      <td>[]</td>\n",
       "      <td>[]</td>\n",
       "      <td>[, , , , , , , , , , , , , , , , , , , , , , ,...</td>\n",
       "      <td>[]</td>\n",
       "      <td>[]</td>\n",
       "      <td>[]</td>\n",
       "      <td>[]</td>\n",
       "      <td>[]</td>\n",
       "      <td>[]</td>\n",
       "      <td>[]</td>\n",
       "      <td>[]</td>\n",
       "      <td>[]</td>\n",
       "    </tr>\n",
       "  </tbody>\n",
       "</table>\n",
       "</div>"
      ],
      "text/plain": [
       "  count_hashtags              count_mentions  \\\n",
       "0      [results]  [you, results, stayclassy]   \n",
       "1             []                [stayclassy]   \n",
       "2             []                [stayclassy]   \n",
       "3             []                [stayclassy]   \n",
       "4             []                          []   \n",
       "\n",
       "                                        count_emails  \\\n",
       "0  [, , , , , , , , , , , , , , , , , , , , , , ,...   \n",
       "1  [, , , , , , , , , , , , , , , , , , , , , , ,...   \n",
       "2  [, , , , , , , , , , , , , , , , , , , , , , ,...   \n",
       "3  [, , , , , , , , , , , , , , , , , , , , , , ,...   \n",
       "4  [, , , , , , , , , , , , , , , , , , , , , , ,...   \n",
       "\n",
       "                                         count_links count_remove_RT  \\\n",
       "0                                                 []              []   \n",
       "1  [http://localhost:8888/notebooks/nlp/cleaning_...              []   \n",
       "2  [https://www.w3schools.com/python/python_regex...              []   \n",
       "3  [http://localhost:8888/notebooks/nlp/cleaning_...              []   \n",
       "4                                                 []              []   \n",
       "\n",
       "                     count_numbers  \\\n",
       "0           [350, 10, 1100, 92101]   \n",
       "1  [350, 10, 1100, 92101, 8888, 3]   \n",
       "2  [3, 350, 10, 1100, 92101, 8888]   \n",
       "3     [350, 10, 1100, 92101, 8888]   \n",
       "4                               []   \n",
       "\n",
       "                                       count_symbols  \\\n",
       "0  [, , , , , , , , , , , , , , , , , , , , , , ,...   \n",
       "1  [, , , , , , , , , , , , , , , , , , , , , , ,...   \n",
       "2  [, , , , , , , , , , , , , , , , , , , , , , ,...   \n",
       "3  [, , , , , , , , , , , , , , , , , , , , , , ,...   \n",
       "4  [, , , , , , , , , , , , , , , , , , , , , , ,...   \n",
       "\n",
       "                                count_punctionation2  \\\n",
       "0   [@, #, 😺, 😺, 😺, @, ., ., ., ,, ., ,, ., ., @, .]   \n",
       "1  [., ., ., ,, ., ,, ., ., @, ., ., :, /, /, :, ...   \n",
       "2  [:, /, /, ., ., /, /, ., ., ., ., ,, ., ,, ., ...   \n",
       "3  [., ., ., ,, ., ,, ., ., @, ., ., :, /, /, :, ...   \n",
       "4                                                 []   \n",
       "\n",
       "                                 count_punctionation  \\\n",
       "0            [@, #, @, ., ., ., ,, ., ,, ., ., @, .]   \n",
       "1  [., ., ., ,, ., ,, ., ., @, ., ., :, /, /, :, ...   \n",
       "2  [:, /, /, ., ., /, /, _, ., ., ., ., ,, ., ,, ...   \n",
       "3  [., ., ., ,, ., ,, ., ., @, ., ., :, /, /, :, ...   \n",
       "4                                                 []   \n",
       "\n",
       "                          count_periods count_exclamation points  \\\n",
       "0                 [., ., ., ., ., ., .]                       []   \n",
       "1  [., ., ., ., ., ., ., ., ., ., ., .]                       []   \n",
       "2  [., ., ., ., ., ., ., ., ., ., ., .]                       []   \n",
       "3           [., ., ., ., ., ., ., ., .]                       []   \n",
       "4                                    []                       []   \n",
       "\n",
       "  count_question marks             count_upper case words count_emojis  \\\n",
       "0                   []  [UPPER, CASE, FOUND, MAD, CA, US]           []   \n",
       "1                   []                           [CA, US]           []   \n",
       "2                   []                           [CA, US]           []   \n",
       "3                   []                           [CA, US]           []   \n",
       "4                   []                                 []           []   \n",
       "\n",
       "  count_emojis_work                   count_upper case  \n",
       "0         [😺, 😺, 😺]  [UPPER, CASE, FOUND, MAD, CA, US]  \n",
       "1                []                           [CA, US]  \n",
       "2                []                           [CA, US]  \n",
       "3                []                           [CA, US]  \n",
       "4                []                                 []  "
      ]
     },
     "execution_count": 22,
     "metadata": {},
     "output_type": "execute_result"
    }
   ],
   "source": [
    "list_to_df(t, list_of_regex_keys)"
   ]
  },
  {
   "cell_type": "markdown",
   "metadata": {},
   "source": [
    "# Diagnoses: count and return the occurrences"
   ]
  },
  {
   "cell_type": "code",
   "execution_count": 26,
   "metadata": {},
   "outputs": [],
   "source": [
    "from data_pipeline.pre_processing_text.diagnosis_regex import df_count_regex_matches\n",
    "from data_pipeline.pre_processing_text.diagnosis_regex import df_matches\n",
    "\n",
    "from data_pipeline.pre_processing_text.clean_list_regex import sub_list_strings_list_regex"
   ]
  },
  {
   "cell_type": "code",
   "execution_count": 27,
   "metadata": {},
   "outputs": [
    {
     "data": {
      "text/html": [
       "<div>\n",
       "<style scoped>\n",
       "    .dataframe tbody tr th:only-of-type {\n",
       "        vertical-align: middle;\n",
       "    }\n",
       "\n",
       "    .dataframe tbody tr th {\n",
       "        vertical-align: top;\n",
       "    }\n",
       "\n",
       "    .dataframe thead th {\n",
       "        text-align: right;\n",
       "    }\n",
       "</style>\n",
       "<table border=\"1\" class=\"dataframe\">\n",
       "  <thead>\n",
       "    <tr style=\"text-align: right;\">\n",
       "      <th></th>\n",
       "      <th>count_hashtags</th>\n",
       "      <th>count_mentions</th>\n",
       "      <th>count_emails</th>\n",
       "      <th>count_links</th>\n",
       "      <th>count_remove_RT</th>\n",
       "      <th>count_numbers</th>\n",
       "      <th>count_symbols</th>\n",
       "      <th>count_punctionation2</th>\n",
       "      <th>count_punctionation</th>\n",
       "      <th>count_periods</th>\n",
       "      <th>count_exclamation points</th>\n",
       "      <th>count_question marks</th>\n",
       "      <th>count_upper case words</th>\n",
       "      <th>count_emojis</th>\n",
       "      <th>count_emojis_work</th>\n",
       "      <th>count_upper case</th>\n",
       "    </tr>\n",
       "  </thead>\n",
       "  <tbody>\n",
       "    <tr>\n",
       "      <th>0</th>\n",
       "      <td>1</td>\n",
       "      <td>3</td>\n",
       "      <td>243</td>\n",
       "      <td>0</td>\n",
       "      <td>0</td>\n",
       "      <td>4</td>\n",
       "      <td>243</td>\n",
       "      <td>16</td>\n",
       "      <td>13</td>\n",
       "      <td>7</td>\n",
       "      <td>0</td>\n",
       "      <td>0</td>\n",
       "      <td>6</td>\n",
       "      <td>0</td>\n",
       "      <td>3</td>\n",
       "      <td>6</td>\n",
       "    </tr>\n",
       "    <tr>\n",
       "      <th>1</th>\n",
       "      <td>0</td>\n",
       "      <td>1</td>\n",
       "      <td>275</td>\n",
       "      <td>1</td>\n",
       "      <td>0</td>\n",
       "      <td>6</td>\n",
       "      <td>275</td>\n",
       "      <td>27</td>\n",
       "      <td>29</td>\n",
       "      <td>12</td>\n",
       "      <td>0</td>\n",
       "      <td>0</td>\n",
       "      <td>2</td>\n",
       "      <td>0</td>\n",
       "      <td>0</td>\n",
       "      <td>2</td>\n",
       "    </tr>\n",
       "    <tr>\n",
       "      <th>2</th>\n",
       "      <td>0</td>\n",
       "      <td>1</td>\n",
       "      <td>275</td>\n",
       "      <td>1</td>\n",
       "      <td>0</td>\n",
       "      <td>6</td>\n",
       "      <td>275</td>\n",
       "      <td>27</td>\n",
       "      <td>29</td>\n",
       "      <td>12</td>\n",
       "      <td>0</td>\n",
       "      <td>0</td>\n",
       "      <td>2</td>\n",
       "      <td>0</td>\n",
       "      <td>0</td>\n",
       "      <td>2</td>\n",
       "    </tr>\n",
       "    <tr>\n",
       "      <th>3</th>\n",
       "      <td>0</td>\n",
       "      <td>1</td>\n",
       "      <td>225</td>\n",
       "      <td>1</td>\n",
       "      <td>0</td>\n",
       "      <td>5</td>\n",
       "      <td>225</td>\n",
       "      <td>19</td>\n",
       "      <td>20</td>\n",
       "      <td>9</td>\n",
       "      <td>0</td>\n",
       "      <td>0</td>\n",
       "      <td>2</td>\n",
       "      <td>0</td>\n",
       "      <td>0</td>\n",
       "      <td>2</td>\n",
       "    </tr>\n",
       "    <tr>\n",
       "      <th>4</th>\n",
       "      <td>0</td>\n",
       "      <td>0</td>\n",
       "      <td>95</td>\n",
       "      <td>0</td>\n",
       "      <td>0</td>\n",
       "      <td>0</td>\n",
       "      <td>95</td>\n",
       "      <td>0</td>\n",
       "      <td>0</td>\n",
       "      <td>0</td>\n",
       "      <td>0</td>\n",
       "      <td>0</td>\n",
       "      <td>0</td>\n",
       "      <td>0</td>\n",
       "      <td>0</td>\n",
       "      <td>0</td>\n",
       "    </tr>\n",
       "  </tbody>\n",
       "</table>\n",
       "</div>"
      ],
      "text/plain": [
       "   count_hashtags  count_mentions  count_emails  count_links  count_remove_RT  \\\n",
       "0               1               3           243            0                0   \n",
       "1               0               1           275            1                0   \n",
       "2               0               1           275            1                0   \n",
       "3               0               1           225            1                0   \n",
       "4               0               0            95            0                0   \n",
       "\n",
       "   count_numbers  count_symbols  count_punctionation2  count_punctionation  \\\n",
       "0              4            243                    16                   13   \n",
       "1              6            275                    27                   29   \n",
       "2              6            275                    27                   29   \n",
       "3              5            225                    19                   20   \n",
       "4              0             95                     0                    0   \n",
       "\n",
       "   count_periods  count_exclamation points  count_question marks  \\\n",
       "0              7                         0                     0   \n",
       "1             12                         0                     0   \n",
       "2             12                         0                     0   \n",
       "3              9                         0                     0   \n",
       "4              0                         0                     0   \n",
       "\n",
       "   count_upper case words  count_emojis  count_emojis_work  count_upper case  \n",
       "0                       6             0                  3                 6  \n",
       "1                       2             0                  0                 2  \n",
       "2                       2             0                  0                 2  \n",
       "3                       2             0                  0                 2  \n",
       "4                       0             0                  0                 0  "
      ]
     },
     "execution_count": 27,
     "metadata": {},
     "output_type": "execute_result"
    }
   ],
   "source": [
    "# count the number of regex\n",
    "df_count_regex_matches(list_of_strings, dict_regex)"
   ]
  },
  {
   "cell_type": "code",
   "execution_count": 28,
   "metadata": {},
   "outputs": [
    {
     "data": {
      "text/html": [
       "<div>\n",
       "<style scoped>\n",
       "    .dataframe tbody tr th:only-of-type {\n",
       "        vertical-align: middle;\n",
       "    }\n",
       "\n",
       "    .dataframe tbody tr th {\n",
       "        vertical-align: top;\n",
       "    }\n",
       "\n",
       "    .dataframe thead th {\n",
       "        text-align: right;\n",
       "    }\n",
       "</style>\n",
       "<table border=\"1\" class=\"dataframe\">\n",
       "  <thead>\n",
       "    <tr style=\"text-align: right;\">\n",
       "      <th></th>\n",
       "      <th>count_hashtags</th>\n",
       "      <th>count_mentions</th>\n",
       "      <th>count_links</th>\n",
       "      <th>count_emails</th>\n",
       "      <th>count_emojis</th>\n",
       "    </tr>\n",
       "  </thead>\n",
       "  <tbody>\n",
       "    <tr>\n",
       "      <th>0</th>\n",
       "      <td>[results]</td>\n",
       "      <td>[you, results, stayclassy]</td>\n",
       "      <td>[]</td>\n",
       "      <td>[, , , , , , , , , , , , , , , , , , , , , , ,...</td>\n",
       "      <td>[]</td>\n",
       "    </tr>\n",
       "    <tr>\n",
       "      <th>1</th>\n",
       "      <td>[]</td>\n",
       "      <td>[stayclassy]</td>\n",
       "      <td>[http://localhost:8888/notebooks/nlp/cleaning_...</td>\n",
       "      <td>[, , , , , , , , , , , , , , , , , , , , , , ,...</td>\n",
       "      <td>[]</td>\n",
       "    </tr>\n",
       "    <tr>\n",
       "      <th>2</th>\n",
       "      <td>[]</td>\n",
       "      <td>[stayclassy]</td>\n",
       "      <td>[https://www.w3schools.com/python/python_regex...</td>\n",
       "      <td>[, , , , , , , , , , , , , , , , , , , , , , ,...</td>\n",
       "      <td>[]</td>\n",
       "    </tr>\n",
       "    <tr>\n",
       "      <th>3</th>\n",
       "      <td>[]</td>\n",
       "      <td>[stayclassy]</td>\n",
       "      <td>[http://localhost:8888/notebooks/nlp/cleaning_...</td>\n",
       "      <td>[, , , , , , , , , , , , , , , , , , , , , , ,...</td>\n",
       "      <td>[]</td>\n",
       "    </tr>\n",
       "    <tr>\n",
       "      <th>4</th>\n",
       "      <td>[]</td>\n",
       "      <td>[]</td>\n",
       "      <td>[]</td>\n",
       "      <td>[, , , , , , , , , , , , , , , , , , , , , , ,...</td>\n",
       "      <td>[]</td>\n",
       "    </tr>\n",
       "  </tbody>\n",
       "</table>\n",
       "</div>"
      ],
      "text/plain": [
       "  count_hashtags              count_mentions  \\\n",
       "0      [results]  [you, results, stayclassy]   \n",
       "1             []                [stayclassy]   \n",
       "2             []                [stayclassy]   \n",
       "3             []                [stayclassy]   \n",
       "4             []                          []   \n",
       "\n",
       "                                         count_links  \\\n",
       "0                                                 []   \n",
       "1  [http://localhost:8888/notebooks/nlp/cleaning_...   \n",
       "2  [https://www.w3schools.com/python/python_regex...   \n",
       "3  [http://localhost:8888/notebooks/nlp/cleaning_...   \n",
       "4                                                 []   \n",
       "\n",
       "                                        count_emails count_emojis  \n",
       "0  [, , , , , , , , , , , , , , , , , , , , , , ,...           []  \n",
       "1  [, , , , , , , , , , , , , , , , , , , , , , ,...           []  \n",
       "2  [, , , , , , , , , , , , , , , , , , , , , , ,...           []  \n",
       "3  [, , , , , , , , , , , , , , , , , , , , , , ,...           []  \n",
       "4  [, , , , , , , , , , , , , , , , , , , , , , ,...           []  "
      ]
     },
     "execution_count": 28,
     "metadata": {},
     "output_type": "execute_result"
    }
   ],
   "source": [
    "# return the identified patterns\n",
    "df_matches(list_of_strings, dict_regex)"
   ]
  },
  {
   "cell_type": "markdown",
   "metadata": {},
   "source": [
    "# Preprocessing"
   ]
  },
  {
   "cell_type": "markdown",
   "metadata": {},
   "source": [
    "## Step by step"
   ]
  },
  {
   "cell_type": "markdown",
   "metadata": {},
   "source": [
    "### Cleaning regex"
   ]
  },
  {
   "cell_type": "code",
   "execution_count": 29,
   "metadata": {},
   "outputs": [
    {
     "data": {
      "text/plain": [
       "['result results resulted resulting run upper case running ran no found view all teams mad prod fundraistrick th ave suite san diego ca us back to top donor support braistrickorg',\n",
       " 'no results results found view all teams prod fundraistrick th ave suite san diego ca us back to top donor support braistrickorg',\n",
       " '',\n",
       " 'no results results found view all teams prod fundraistrick th ave suite san diego ca us back to top donor support braistrickorg',\n",
       " 'results results found view teams prod fundraistrick ave suite san diego back top donor support']"
      ]
     },
     "execution_count": 29,
     "metadata": {},
     "output_type": "execute_result"
    }
   ],
   "source": [
    "# clean a list of strings, based on a list of regex\n",
    "list_cleaned = sub_list_strings_list_regex(list_of_strings, list_of_regex_values)\n",
    "list_cleaned"
   ]
  },
  {
   "cell_type": "code",
   "execution_count": 30,
   "metadata": {},
   "outputs": [],
   "source": [
    "serie = pd.Series(list_cleaned)"
   ]
  },
  {
   "cell_type": "code",
   "execution_count": 31,
   "metadata": {},
   "outputs": [],
   "source": [
    "s_clean = list_cleaned[0]"
   ]
  },
  {
   "cell_type": "markdown",
   "metadata": {},
   "source": [
    "### Lemmatization (normalization)"
   ]
  },
  {
   "cell_type": "code",
   "execution_count": 33,
   "metadata": {},
   "outputs": [],
   "source": [
    "from data_pipeline.pre_processing_text.norm_lemmatize import lemmatize_list, lemmatize_string"
   ]
  },
  {
   "cell_type": "code",
   "execution_count": 34,
   "metadata": {},
   "outputs": [
    {
     "data": {
      "text/plain": [
       "'result result result result run upper case run run no find view all team mad prod fundraistrick th ave suite san diego ca us back to top donor support braistrickorg '"
      ]
     },
     "execution_count": 34,
     "metadata": {},
     "output_type": "execute_result"
    }
   ],
   "source": [
    "s_lemma = lemmatize_string(s_clean)\n",
    "s_lemma"
   ]
  },
  {
   "cell_type": "code",
   "execution_count": 35,
   "metadata": {},
   "outputs": [
    {
     "data": {
      "text/plain": [
       "['result result result result run upper case run run no find view all team mad prod fundraistrick th ave suite san diego ca us back to top donor support braistrickorg ',\n",
       " 'no result result find view all team prod fundraistrick th ave suite san diego ca us back to top donor support braistrickorg ',\n",
       " '',\n",
       " 'no result result find view all team prod fundraistrick th ave suite san diego ca us back to top donor support braistrickorg ',\n",
       " 'result result find view team prod fundraistrick ave suite san diego back top donor support ']"
      ]
     },
     "execution_count": 35,
     "metadata": {},
     "output_type": "execute_result"
    }
   ],
   "source": [
    "list_lemmatized = list(map(lemmatize_string, list_cleaned))\n",
    "list_lemmatized"
   ]
  },
  {
   "cell_type": "code",
   "execution_count": 36,
   "metadata": {},
   "outputs": [
    {
     "data": {
      "text/plain": [
       "['result result result result run upper case run run no find view all team mad prod fundraistrick th ave suite san diego ca us back to top donor support braistrickorg ',\n",
       " 'no result result find view all team prod fundraistrick th ave suite san diego ca us back to top donor support braistrickorg ',\n",
       " '',\n",
       " 'no result result find view all team prod fundraistrick th ave suite san diego ca us back to top donor support braistrickorg ',\n",
       " 'result result find view team prod fundraistrick ave suite san diego back top donor support ']"
      ]
     },
     "execution_count": 36,
     "metadata": {},
     "output_type": "execute_result"
    }
   ],
   "source": [
    "list_of_lemmas = lemmatize_list(list_cleaned)\n",
    "list_of_lemmas"
   ]
  },
  {
   "cell_type": "code",
   "execution_count": 37,
   "metadata": {},
   "outputs": [
    {
     "data": {
      "text/plain": [
       "0    result result result result run upper case run...\n",
       "1    no result result find view all team prod fundr...\n",
       "2                                                     \n",
       "3    no result result find view all team prod fundr...\n",
       "4    result result find view team prod fundraistric...\n",
       "dtype: object"
      ]
     },
     "execution_count": 37,
     "metadata": {},
     "output_type": "execute_result"
    }
   ],
   "source": [
    "serie.apply(lemmatize_string)"
   ]
  },
  {
   "cell_type": "markdown",
   "metadata": {},
   "source": [
    "### Cleaning stopwords"
   ]
  },
  {
   "cell_type": "code",
   "execution_count": 38,
   "metadata": {},
   "outputs": [],
   "source": [
    "from data_pipeline.pre_processing_text.clean_list_stopwords import remove_stopwords_list, remove_stopwords_string"
   ]
  },
  {
   "cell_type": "code",
   "execution_count": 39,
   "metadata": {},
   "outputs": [],
   "source": [
    "stopwords = ['fundraistrick', 'all', 'to', 'th']"
   ]
  },
  {
   "cell_type": "code",
   "execution_count": 40,
   "metadata": {},
   "outputs": [
    {
     "data": {
      "text/plain": [
       "'result result result result run upper case run run no find view team mad prod ave suite san diego ca us back top donor support braistrickorg'"
      ]
     },
     "execution_count": 40,
     "metadata": {},
     "output_type": "execute_result"
    }
   ],
   "source": [
    "remove_stopwords_string(s_lemma, stopwords)"
   ]
  },
  {
   "cell_type": "code",
   "execution_count": 41,
   "metadata": {},
   "outputs": [
    {
     "data": {
      "text/plain": [
       "['result result result result run upper case run run no find view team mad prod ave suite san diego ca us back top donor support braistrickorg',\n",
       " 'no result result find view team prod ave suite san diego ca us back top donor support braistrickorg',\n",
       " '',\n",
       " 'no result result find view team prod ave suite san diego ca us back top donor support braistrickorg',\n",
       " 'result result find view team prod ave suite san diego back top donor support']"
      ]
     },
     "execution_count": 41,
     "metadata": {},
     "output_type": "execute_result"
    }
   ],
   "source": [
    "clean_lists_sw = remove_stopwords_list(list_of_lemmas, stopwords)\n",
    "clean_lists_sw"
   ]
  },
  {
   "cell_type": "markdown",
   "metadata": {},
   "source": [
    "## Preprocessing unified"
   ]
  },
  {
   "cell_type": "code",
   "execution_count": 42,
   "metadata": {},
   "outputs": [],
   "source": [
    "from data_pipeline.pre_processing_text.preprocess_string_list import preprocessing_list"
   ]
  },
  {
   "cell_type": "code",
   "execution_count": 43,
   "metadata": {},
   "outputs": [
    {
     "data": {
      "text/plain": [
       "['result result result result upper case view team mad prod fundraistrick ave suite san diego donor support braistrickorg',\n",
       " 'result result view team prod fundraistrick ave suite san diego donor support braistrickorg',\n",
       " '',\n",
       " 'result result view team prod fundraistrick ave suite san diego donor support braistrickorg',\n",
       " 'result result view team prod fundraistrick ave suite san diego donor support']"
      ]
     },
     "execution_count": 43,
     "metadata": {},
     "output_type": "execute_result"
    }
   ],
   "source": [
    "preprocessed_list = preprocessing_list(list_of_strings, list_of_regex_values, stopwords)\n",
    "preprocessed_list"
   ]
  },
  {
   "cell_type": "markdown",
   "metadata": {},
   "source": [
    "## Preprocessing spacy"
   ]
  },
  {
   "cell_type": "code",
   "execution_count": 44,
   "metadata": {},
   "outputs": [],
   "source": [
    "from data_pipeline.pre_processing_text.spacy_preprocessing import get_hotwords_list\n",
    "from data_pipeline.pre_processing_text.spacy_preprocessing import spacy_tokenize_list"
   ]
  },
  {
   "cell_type": "code",
   "execution_count": 45,
   "metadata": {},
   "outputs": [
    {
     "data": {
      "text/plain": [
       "['result results upper case results 😺 😺 😺 @results teams mad prod fundraistrick 10th ave suite san diego donor support braistrick@stayclassy.org',\n",
       " 'results results teams prod fundraistrick 10th ave suite san diego donor support braistrick@stayclassy.org http://localhost:8888 notebooks nlp cleaning_sandbox.ipynb https://www.w3schools.com/python/python_regex.asp',\n",
       " 'results results teams prod fundraistrick 10th ave suite san diego donor support braistrick@stayclassy.org http://localhost:8888 notebooks nlp cleaning_sandbox.ipynb',\n",
       " 'results results teams prod fundraistrick 10th ave suite san diego donor support braistrick@stayclassy.org http://localhost:8888 notebooks nlp cleaning_sandbox.ipynb',\n",
       " 'results results view teams prod fundraistrick ave suite san diego donor support']"
      ]
     },
     "execution_count": 45,
     "metadata": {},
     "output_type": "execute_result"
    }
   ],
   "source": [
    "# temptative 1\n",
    "cleaned_spacy_list = get_hotwords_list(list_of_strings)\n",
    "cleaned_spacy_list"
   ]
  },
  {
   "cell_type": "code",
   "execution_count": 46,
   "metadata": {},
   "outputs": [
    {
     "data": {
      "text/plain": [
       "['result result result result upper run result @results find team fundraistrick suite 1100 diego 92101 back donor support braistrick@stayclassy.org',\n",
       " 'result result find team fundraistrick suite 1100 diego 92101 back donor support braistrick@stayclassy.org http://localhost:8888 notebook cleaning_sandbox.ipynb https://www.w3schools.com/python/python_regex.asp',\n",
       " 'https://www.w3schools.com/python/python_regex.asp result result find team fundraistrick suite 1100 diego 92101 back donor support braistrick@stayclassy.org http://localhost:8888 notebook cleaning_sandbox.ipynb',\n",
       " 'result result find team fundraistrick suite 1100 diego 92101 back donor support braistrick@stayclassy.org http://localhost:8888 notebook cleaning_sandbox.ipynb',\n",
       " 'result result find team fundraistrick suite diego back donor support']"
      ]
     },
     "execution_count": 46,
     "metadata": {},
     "output_type": "execute_result"
    }
   ],
   "source": [
    "# temptative 2\n",
    "hot_words_spacy_list = spacy_tokenize_list(list_of_strings)\n",
    "hot_words_spacy_list"
   ]
  },
  {
   "cell_type": "markdown",
   "metadata": {},
   "source": [
    "# Create a vocab"
   ]
  },
  {
   "cell_type": "code",
   "execution_count": 47,
   "metadata": {},
   "outputs": [],
   "source": [
    "from data_pipeline.pre_processing_text.preprocess_string_list import preprocessing_list"
   ]
  },
  {
   "cell_type": "code",
   "execution_count": 48,
   "metadata": {},
   "outputs": [
    {
     "data": {
      "text/plain": [
       "['result result result result upper case view team mad prod fundraistrick ave suite san diego donor support braistrickorg',\n",
       " 'result result view team prod fundraistrick ave suite san diego donor support braistrickorg',\n",
       " '',\n",
       " 'result result view team prod fundraistrick ave suite san diego donor support braistrickorg',\n",
       " 'result result view team prod fundraistrick ave suite san diego donor support']"
      ]
     },
     "execution_count": 48,
     "metadata": {},
     "output_type": "execute_result"
    }
   ],
   "source": [
    "preprocessing_list(list_of_strings, list_of_regex_values, stopwords)"
   ]
  },
  {
   "cell_type": "code",
   "execution_count": 49,
   "metadata": {},
   "outputs": [],
   "source": [
    "from data_pipeline.pre_processing_text.vocab_create_clean import create_vocab\n",
    "from data_pipeline.pre_processing_text.vocab_create_clean import drop_rare_words\n",
    "from data_pipeline.pre_processing_text.vocab_create_clean import drop_common_words\n",
    "from data_pipeline.pre_processing_text.vocab_create_clean import count_words_list_of_strings"
   ]
  },
  {
   "cell_type": "code",
   "execution_count": 50,
   "metadata": {},
   "outputs": [
    {
     "data": {
      "text/plain": [
       "'result result result result run upper case run run no find view team mad prod ave suite san diego ca us back top donor support braistrickorgno result result find view team prod ave suite san diego ca us back top donor support braistrickorgno result result find view team prod ave suite san diego ca us back top donor support braistrickorgresult result find view team prod ave suite san diego back top donor support'"
      ]
     },
     "execution_count": 50,
     "metadata": {},
     "output_type": "execute_result"
    }
   ],
   "source": [
    "vocab = create_vocab(clean_lists_sw)\n",
    "vocab"
   ]
  },
  {
   "cell_type": "code",
   "execution_count": 51,
   "metadata": {},
   "outputs": [
    {
     "data": {
      "text/plain": [
       "{'result': 10,\n",
       " 'run': 3,\n",
       " 'upper': 1,\n",
       " 'case': 1,\n",
       " 'no': 3,\n",
       " 'find': 4,\n",
       " 'view': 4,\n",
       " 'team': 4,\n",
       " 'mad': 1,\n",
       " 'prod': 4,\n",
       " 'ave': 4,\n",
       " 'suite': 4,\n",
       " 'san': 4,\n",
       " 'diego': 4,\n",
       " 'ca': 3,\n",
       " 'us': 3,\n",
       " 'back': 4,\n",
       " 'top': 4,\n",
       " 'donor': 4,\n",
       " 'support': 4,\n",
       " 'braistrickorg': 3}"
      ]
     },
     "execution_count": 51,
     "metadata": {},
     "output_type": "execute_result"
    }
   ],
   "source": [
    "count_words_list_of_strings(clean_lists_sw)"
   ]
  },
  {
   "cell_type": "code",
   "execution_count": 52,
   "metadata": {},
   "outputs": [
    {
     "data": {
      "text/plain": [
       "'result find view team prod ave suite san diego back top donor support'"
      ]
     },
     "execution_count": 52,
     "metadata": {},
     "output_type": "execute_result"
    }
   ],
   "source": [
    "drop_rare_words(clean_lists_sw, n_count_words=3)"
   ]
  },
  {
   "cell_type": "code",
   "execution_count": 53,
   "metadata": {},
   "outputs": [
    {
     "data": {
      "text/plain": [
       "'team view find run ca us no braistrickorg mad case upper'"
      ]
     },
     "execution_count": 53,
     "metadata": {},
     "output_type": "execute_result"
    }
   ],
   "source": [
    "drop_common_words(clean_lists_sw, n_top_words=10)"
   ]
  },
  {
   "cell_type": "markdown",
   "metadata": {},
   "source": [
    "# Wordcloud"
   ]
  },
  {
   "cell_type": "code",
   "execution_count": 54,
   "metadata": {},
   "outputs": [],
   "source": [
    "from data_pipeline.plot_viz.my_wordcloud import wordcloud_figure"
   ]
  },
  {
   "cell_type": "code",
   "execution_count": 55,
   "metadata": {},
   "outputs": [
    {
     "data": {
      "image/png": "[encoded data removed]",
      "text/plain": [
       "<Figure size 720x504 with 1 Axes>"
      ]
     },
     "metadata": {
      "needs_background": "light"
     },
     "output_type": "display_data"
    }
   ],
   "source": [
    "wordcloud_figure(vocab)"
   ]
  },
  {
   "cell_type": "markdown",
   "metadata": {},
   "source": [
    "# Topic modeling"
   ]
  },
  {
   "cell_type": "code",
   "execution_count": 57,
   "metadata": {},
   "outputs": [],
   "source": [
    "from data_pipeline.modeling.my_topicmodeling import lda_topic_model"
   ]
  },
  {
   "cell_type": "code",
   "execution_count": 58,
   "metadata": {},
   "outputs": [
    {
     "name": "stdout",
     "output_type": "stream",
     "text": [
      "[(0, '0.110*\"result\" + 0.045*\"find\" + 0.045*\"prod\" + 0.045*\"ave\" + 0.045*\"fundraistrick\" + 0.045*\"view\" + 0.045*\"back\" + 0.045*\"san\" + 0.045*\"suite\" + 0.045*\"donor\"'), (1, '0.040*\"fundraistrick\" + 0.040*\"prod\" + 0.040*\"top\" + 0.040*\"team\" + 0.040*\"support\" + 0.040*\"suite\" + 0.040*\"san\" + 0.040*\"ave\" + 0.040*\"view\" + 0.040*\"diego\"'), (2, '0.040*\"fundraistrick\" + 0.040*\"prod\" + 0.040*\"top\" + 0.040*\"team\" + 0.040*\"support\" + 0.040*\"suite\" + 0.040*\"san\" + 0.040*\"ave\" + 0.040*\"view\" + 0.040*\"diego\"'), (3, '0.040*\"result\" + 0.040*\"fundraistrick\" + 0.040*\"view\" + 0.040*\"suite\" + 0.040*\"support\" + 0.040*\"top\" + 0.040*\"san\" + 0.040*\"diego\" + 0.040*\"back\" + 0.040*\"find\"'), (4, '0.040*\"fundraistrick\" + 0.040*\"prod\" + 0.040*\"top\" + 0.040*\"team\" + 0.040*\"support\" + 0.040*\"suite\" + 0.040*\"san\" + 0.040*\"ave\" + 0.040*\"view\" + 0.040*\"diego\"'), (5, '0.040*\"result\" + 0.040*\"run\" + 0.040*\"all\" + 0.040*\"us\" + 0.040*\"th\" + 0.040*\"top\" + 0.040*\"no\" + 0.040*\"braistrickorg\" + 0.040*\"support\" + 0.040*\"team\"'), (6, '0.040*\"result\" + 0.040*\"team\" + 0.040*\"top\" + 0.040*\"th\" + 0.040*\"find\" + 0.040*\"prod\" + 0.040*\"no\" + 0.040*\"donor\" + 0.040*\"all\" + 0.040*\"fundraistrick\"')] \n",
      "\n",
      "\n",
      "--------------------------------\n",
      "Visualizing the model: import pyLDAvis; pyLDAvis.enable_notebook(); vis = pyLDAvis.gensim.prepare(lda_model, doc_term_matrix, dictionary); vis\n"
     ]
    }
   ],
   "source": [
    "lda_model, doc_term_matrix, dictionary = lda_topic_model(list_lemmatized)"
   ]
  },
  {
   "cell_type": "code",
   "execution_count": 59,
   "metadata": {},
   "outputs": [
    {
     "name": "stderr",
     "output_type": "stream",
     "text": [
      "/Users/liviaclarete/.pyenv/versions/coca3/lib/python3.7/site-packages/pyLDAvis/_prepare.py:257: FutureWarning: Sorting because non-concatenation axis is not aligned. A future version\n",
      "of pandas will change to not sort by default.\n",
      "\n",
      "To accept the future behavior, pass 'sort=False'.\n",
      "\n",
      "To retain the current behavior and silence the warning, pass 'sort=True'.\n",
      "\n",
      "  return pd.concat([default_term_info] + list(topic_dfs))\n"
     ]
    }
   ],
   "source": [
    "import pyLDAvis\n",
    "pyLDAvis.enable_notebook()\n",
    "vis = pyLDAvis.gensim.prepare(lda_model, doc_term_matrix, dictionary)"
   ]
  },
  {
   "cell_type": "code",
   "execution_count": 60,
   "metadata": {},
   "outputs": [
    {
     "data": {
      "text/html": [
       "\n",
       "<link rel=\"stylesheet\" type=\"text/css\" href=\"https://cdn.rawgit.com/bmabey/pyLDAvis/files/ldavis.v1.0.0.css\">\n",
       "\n",
       "\n",
       "<div id=\"ldavis_el6563251607703846471545485\"></div>\n",
       "<script type=\"text/javascript\">\n",
       "\n",
       "var ldavis_el6563251607703846471545485_data = {\"mdsDat\": {\"x\": [-0.01868729878812275, 0.003114489571784504, 0.00311416920011443, 0.003114668386011609, 0.0031146348581889832, 0.003114668386011609, 0.0031146683860116087], \"y\": [-0.0, 0.0, -0.0, 0.0, -0.0, 0.0, 0.0], \"topics\": [1, 2, 3, 4, 5, 6, 7], \"cluster\": [1, 1, 1, 1, 1, 1, 1], \"Freq\": [96.32256317138672, 0.6129053235054016, 0.6129053235054016, 0.6129052042961121, 0.6129052042961121, 0.6129052042961121, 0.6129052042961121]}, \"tinfo\": {\"Category\": [\"Default\", \"Default\", \"Default\", \"Default\", \"Default\", \"Default\", \"Default\", \"Default\", \"Default\", \"Default\", \"Default\", \"Default\", \"Default\", \"Default\", \"Default\", \"Default\", \"Default\", \"Default\", \"Default\", \"Default\", \"Default\", \"Default\", \"Default\", \"Default\", \"Default\", \"Topic1\", \"Topic1\", \"Topic1\", \"Topic1\", \"Topic1\", \"Topic1\", \"Topic1\", \"Topic1\", \"Topic1\", \"Topic1\", \"Topic1\", \"Topic1\", \"Topic1\", \"Topic1\", \"Topic1\", \"Topic1\", \"Topic1\", \"Topic1\", \"Topic1\", \"Topic1\", \"Topic1\", \"Topic1\", \"Topic1\", \"Topic1\", \"Topic1\", \"Topic2\", \"Topic2\", \"Topic2\", \"Topic2\", \"Topic2\", \"Topic2\", \"Topic2\", \"Topic2\", \"Topic2\", \"Topic2\", \"Topic2\", \"Topic2\", \"Topic2\", \"Topic2\", \"Topic2\", \"Topic2\", \"Topic2\", \"Topic2\", \"Topic2\", \"Topic2\", \"Topic2\", \"Topic2\", \"Topic2\", \"Topic2\", \"Topic2\", \"Topic3\", \"Topic3\", \"Topic3\", \"Topic3\", \"Topic3\", \"Topic3\", \"Topic3\", \"Topic3\", \"Topic3\", \"Topic3\", \"Topic3\", \"Topic3\", \"Topic3\", \"Topic3\", \"Topic3\", \"Topic3\", \"Topic3\", \"Topic3\", \"Topic3\", \"Topic3\", \"Topic3\", \"Topic3\", \"Topic3\", \"Topic3\", \"Topic3\", \"Topic4\", \"Topic4\", \"Topic4\", \"Topic4\", \"Topic4\", \"Topic4\", \"Topic4\", \"Topic4\", \"Topic4\", \"Topic4\", \"Topic4\", \"Topic4\", \"Topic4\", \"Topic4\", \"Topic4\", \"Topic4\", \"Topic4\", \"Topic4\", \"Topic4\", \"Topic4\", \"Topic4\", \"Topic4\", \"Topic4\", \"Topic4\", \"Topic4\", \"Topic5\", \"Topic5\", \"Topic5\", \"Topic5\", \"Topic5\", \"Topic5\", \"Topic5\", \"Topic5\", \"Topic5\", \"Topic5\", \"Topic5\", \"Topic5\", \"Topic5\", \"Topic5\", \"Topic5\", \"Topic5\", \"Topic5\", \"Topic5\", \"Topic5\", \"Topic5\", \"Topic5\", \"Topic5\", \"Topic5\", \"Topic5\", \"Topic5\", \"Topic6\", \"Topic6\", \"Topic6\", \"Topic6\", \"Topic6\", \"Topic6\", \"Topic6\", \"Topic6\", \"Topic6\", \"Topic6\", \"Topic6\", \"Topic6\", \"Topic6\", \"Topic6\", \"Topic6\", \"Topic6\", \"Topic6\", \"Topic6\", \"Topic6\", \"Topic6\", \"Topic6\", \"Topic6\", \"Topic6\", \"Topic6\", \"Topic6\", \"Topic7\", \"Topic7\", \"Topic7\", \"Topic7\", \"Topic7\", \"Topic7\", \"Topic7\", \"Topic7\", \"Topic7\", \"Topic7\", \"Topic7\", \"Topic7\", \"Topic7\", \"Topic7\", \"Topic7\", \"Topic7\", \"Topic7\", \"Topic7\", \"Topic7\", \"Topic7\", \"Topic7\", \"Topic7\", \"Topic7\", \"Topic7\", \"Topic7\"], \"Freq\": [9.0, 3.0, 3.0, 3.0, 3.0, 3.0, 3.0, 3.0, 3.0, 3.0, 3.0, 3.0, 3.0, 3.0, 3.0, 3.0, 3.0, 3.0, 3.0, 3.0, 3.0, 3.0, 1.0, 1.0, 1.0, 9.392967224121094, 3.836555242538452, 3.836555004119873, 3.836555242538452, 3.836555242538452, 3.836555004119873, 3.836555004119873, 3.836555242538452, 3.836555242538452, 3.836555242538452, 3.836555004119873, 3.8365542888641357, 3.8365542888641357, 3.8365540504455566, 2.910484790802002, 2.910484790802002, 2.910484790802002, 2.9104857444763184, 2.9104855060577393, 2.9104855060577393, 2.9104843139648438, 2.91048264503479, 1.0583451986312866, 1.0583449602127075, 1.0583446025848389, 0.02181929722428322, 0.02181929722428322, 0.02181929722428322, 0.021819470450282097, 0.0218194592744112, 0.021819453686475754, 0.021819453686475754, 0.021819451823830605, 0.021819448098540306, 0.021819433197379112, 0.021819278597831726, 0.021819498389959335, 0.021819477900862694, 0.0218194667249918, 0.0218194592744112, 0.021819457411766052, 0.021819451823830605, 0.021819453686475754, 0.021819453686475754, 0.021819448098540306, 0.021819444373250008, 0.02181944064795971, 0.021819433197379112, 0.021819431334733963, 0.021819528192281723, 0.0218193456530571, 0.021819310262799263, 0.021819287911057472, 0.02182009629905224, 0.021819597110152245, 0.021819472312927246, 0.021819455549120903, 0.021819422021508217, 0.02181941457092762, 0.02181936614215374, 0.02181931398808956, 0.02181943692266941, 0.021819403395056725, 0.021819395944476128, 0.021819373592734337, 0.02181936241686344, 0.021819347515702248, 0.0218193419277668, 0.021819336339831352, 0.02181931771337986, 0.021819302812218666, 0.021819300949573517, 0.021819282323122025, 0.021819276735186577, 0.02182024158537388, 0.021819427609443665, 0.021819427609443665, 0.021819427609443665, 0.021819425746798515, 0.021819425746798515, 0.021819425746798515, 0.021819425746798515, 0.021819408982992172, 0.021819425746798515, 0.021819425746798515, 0.021819425746798515, 0.02181943506002426, 0.02181943506002426, 0.02181943506002426, 0.02181943506002426, 0.02181943506002426, 0.02181943506002426, 0.02181943506002426, 0.02181943506002426, 0.02181943506002426, 0.02181943506002426, 0.02181943506002426, 0.02181943506002426, 0.02181943506002426, 0.021819425746798515, 0.021819395944476128, 0.021819395944476128, 0.021819395944476128, 0.02181943506002426, 0.02181943506002426, 0.021819429472088814, 0.021819429472088814, 0.021819427609443665, 0.021819427609443665, 0.021819420158863068, 0.021819377318024635, 0.02181944251060486, 0.02181944251060486, 0.021819449961185455, 0.021819444373250008, 0.02181944251060486, 0.02181944064795971, 0.02181944064795971, 0.02181943878531456, 0.02181943692266941, 0.02181943506002426, 0.02181943506002426, 0.021819427609443665, 0.021819427609443665, 0.021819476038217545, 0.021819427609443665, 0.021819427609443665, 0.021819427609443665, 0.021819425746798515, 0.021819425746798515, 0.021819425746798515, 0.021819425746798515, 0.021819408982992172, 0.021819425746798515, 0.021819425746798515, 0.021819425746798515, 0.02181943506002426, 0.02181943506002426, 0.02181943506002426, 0.02181943506002426, 0.02181943506002426, 0.02181943506002426, 0.02181943506002426, 0.02181943506002426, 0.02181943506002426, 0.02181943506002426, 0.02181943506002426, 0.02181943506002426, 0.02181943506002426, 0.021819425746798515, 0.021819427609443665, 0.021819427609443665, 0.021819427609443665, 0.021819425746798515, 0.021819425746798515, 0.021819425746798515, 0.021819425746798515, 0.021819408982992172, 0.021819425746798515, 0.021819425746798515, 0.021819425746798515, 0.02181943506002426, 0.02181943506002426, 0.02181943506002426, 0.02181943506002426, 0.02181943506002426, 0.02181943506002426, 0.02181943506002426, 0.02181943506002426, 0.02181943506002426, 0.02181943506002426, 0.02181943506002426, 0.02181943506002426, 0.02181943506002426, 0.021819425746798515], \"Term\": [\"result\", \"team\", \"ave\", \"top\", \"support\", \"suite\", \"diego\", \"donor\", \"find\", \"san\", \"prod\", \"view\", \"fundraistrick\", \"back\", \"run\", \"all\", \"no\", \"braistrickorg\", \"th\", \"us\", \"ca\", \"to\", \"upper\", \"case\", \"mad\", \"result\", \"view\", \"san\", \"ave\", \"back\", \"diego\", \"donor\", \"find\", \"fundraistrick\", \"prod\", \"suite\", \"support\", \"team\", \"top\", \"us\", \"no\", \"th\", \"to\", \"ca\", \"braistrickorg\", \"all\", \"run\", \"upper\", \"case\", \"mad\", \"mad\", \"case\", \"upper\", \"th\", \"no\", \"all\", \"ca\", \"braistrickorg\", \"to\", \"us\", \"run\", \"team\", \"top\", \"find\", \"prod\", \"donor\", \"support\", \"fundraistrick\", \"diego\", \"ave\", \"back\", \"view\", \"san\", \"suite\", \"result\", \"mad\", \"case\", \"upper\", \"run\", \"all\", \"us\", \"th\", \"no\", \"braistrickorg\", \"ca\", \"to\", \"top\", \"support\", \"team\", \"san\", \"suite\", \"donor\", \"diego\", \"ave\", \"find\", \"view\", \"prod\", \"fundraistrick\", \"back\", \"result\", \"mad\", \"case\", \"upper\", \"all\", \"th\", \"us\", \"no\", \"run\", \"braistrickorg\", \"ca\", \"to\", \"support\", \"top\", \"team\", \"diego\", \"back\", \"ave\", \"view\", \"donor\", \"find\", \"fundraistrick\", \"san\", \"suite\", \"prod\", \"result\", \"mad\", \"upper\", \"case\", \"all\", \"us\", \"no\", \"ca\", \"braistrickorg\", \"to\", \"th\", \"run\", \"top\", \"support\", \"fundraistrick\", \"view\", \"suite\", \"diego\", \"san\", \"back\", \"find\", \"donor\", \"ave\", \"team\", \"prod\", \"result\", \"mad\", \"case\", \"upper\", \"all\", \"th\", \"us\", \"no\", \"run\", \"braistrickorg\", \"ca\", \"to\", \"support\", \"top\", \"team\", \"diego\", \"back\", \"ave\", \"view\", \"donor\", \"find\", \"fundraistrick\", \"san\", \"suite\", \"prod\", \"result\", \"mad\", \"case\", \"upper\", \"all\", \"th\", \"us\", \"no\", \"run\", \"braistrickorg\", \"ca\", \"to\", \"support\", \"top\", \"team\", \"diego\", \"back\", \"ave\", \"view\", \"donor\", \"find\", \"fundraistrick\", \"san\", \"suite\", \"prod\", \"result\"], \"Total\": [9.0, 3.0, 3.0, 3.0, 3.0, 3.0, 3.0, 3.0, 3.0, 3.0, 3.0, 3.0, 3.0, 3.0, 3.0, 3.0, 3.0, 3.0, 3.0, 3.0, 3.0, 3.0, 1.0, 1.0, 1.0, 9.523882865905762, 3.9674713611602783, 3.967471122741699, 3.9674713611602783, 3.9674713611602783, 3.967471122741699, 3.967471122741699, 3.9674713611602783, 3.9674713611602783, 3.9674713611602783, 3.967471122741699, 3.967470407485962, 3.967470645904541, 3.967470407485962, 3.041400909423828, 3.041400909423828, 3.041400909423828, 3.0414018630981445, 3.0414016246795654, 3.0414016246795654, 3.041400671005249, 3.0413994789123535, 1.189261555671692, 1.1892614364624023, 1.1892610788345337, 1.1892610788345337, 1.1892614364624023, 1.189261555671692, 3.041400909423828, 3.041400909423828, 3.041400671005249, 3.0414016246795654, 3.0414016246795654, 3.0414018630981445, 3.041400909423828, 3.0413994789123535, 3.967470645904541, 3.967470407485962, 3.9674713611602783, 3.9674713611602783, 3.967471122741699, 3.967470407485962, 3.9674713611602783, 3.967471122741699, 3.9674713611602783, 3.9674713611602783, 3.9674713611602783, 3.967471122741699, 3.967471122741699, 9.523882865905762, 1.1892610788345337, 1.1892614364624023, 1.189261555671692, 3.0413994789123535, 3.041400671005249, 3.041400909423828, 3.041400909423828, 3.041400909423828, 3.0414016246795654, 3.0414016246795654, 3.0414018630981445, 3.967470407485962, 3.967470407485962, 3.967470645904541, 3.967471122741699, 3.967471122741699, 3.967471122741699, 3.967471122741699, 3.9674713611602783, 3.9674713611602783, 3.9674713611602783, 3.9674713611602783, 3.9674713611602783, 3.9674713611602783, 9.523882865905762, 1.1892610788345337, 1.1892614364624023, 1.189261555671692, 3.041400671005249, 3.041400909423828, 3.041400909423828, 3.041400909423828, 3.0413994789123535, 3.0414016246795654, 3.0414016246795654, 3.0414018630981445, 3.967470407485962, 3.967470407485962, 3.967470645904541, 3.967471122741699, 3.9674713611602783, 3.9674713611602783, 3.9674713611602783, 3.967471122741699, 3.9674713611602783, 3.9674713611602783, 3.967471122741699, 3.967471122741699, 3.9674713611602783, 9.523882865905762, 1.1892610788345337, 1.189261555671692, 1.1892614364624023, 3.041400671005249, 3.041400909423828, 3.041400909423828, 3.0414016246795654, 3.0414016246795654, 3.0414018630981445, 3.041400909423828, 3.0413994789123535, 3.967470407485962, 3.967470407485962, 3.9674713611602783, 3.9674713611602783, 3.967471122741699, 3.967471122741699, 3.967471122741699, 3.9674713611602783, 3.9674713611602783, 3.967471122741699, 3.9674713611602783, 3.967470645904541, 3.9674713611602783, 9.523882865905762, 1.1892610788345337, 1.1892614364624023, 1.189261555671692, 3.041400671005249, 3.041400909423828, 3.041400909423828, 3.041400909423828, 3.0413994789123535, 3.0414016246795654, 3.0414016246795654, 3.0414018630981445, 3.967470407485962, 3.967470407485962, 3.967470645904541, 3.967471122741699, 3.9674713611602783, 3.9674713611602783, 3.9674713611602783, 3.967471122741699, 3.9674713611602783, 3.9674713611602783, 3.967471122741699, 3.967471122741699, 3.9674713611602783, 9.523882865905762, 1.1892610788345337, 1.1892614364624023, 1.189261555671692, 3.041400671005249, 3.041400909423828, 3.041400909423828, 3.041400909423828, 3.0413994789123535, 3.0414016246795654, 3.0414016246795654, 3.0414018630981445, 3.967470407485962, 3.967470407485962, 3.967470645904541, 3.967471122741699, 3.9674713611602783, 3.9674713611602783, 3.9674713611602783, 3.967471122741699, 3.9674713611602783, 3.9674713611602783, 3.967471122741699, 3.967471122741699, 3.9674713611602783, 9.523882865905762], \"loglift\": [25.0, 24.0, 23.0, 22.0, 21.0, 20.0, 19.0, 18.0, 17.0, 16.0, 15.0, 14.0, 13.0, 12.0, 11.0, 10.0, 9.0, 8.0, 7.0, 6.0, 5.0, 4.0, 3.0, 2.0, 1.0, 0.023600000888109207, 0.0038999998942017555, 0.0038999998942017555, 0.0038999998942017555, 0.0038999998942017555, 0.0038999998942017555, 0.0038999998942017555, 0.0038999998942017555, 0.0038999998942017555, 0.0038999998942017555, 0.0038999998942017555, 0.0038999998942017555, 0.0038999998942017555, 0.0038999998942017555, -0.006500000134110451, -0.006500000134110451, -0.006500000134110451, -0.006500000134110451, -0.006500000134110451, -0.006500000134110451, -0.006500000134110451, -0.006500000134110451, -0.07919999957084656, -0.07919999957084656, -0.07919999957084656, 1.0964000225067139, 1.0964000225067139, 1.0964000225067139, 0.1573999971151352, 0.1573999971151352, 0.1573999971151352, 0.1573999971151352, 0.1573999971151352, 0.1573999971151352, 0.1573999971151352, 0.1573999971151352, -0.10840000212192535, -0.10840000212192535, -0.10840000212192535, -0.10840000212192535, -0.10840000212192535, -0.10840000212192535, -0.10840000212192535, -0.10840000212192535, -0.10840000212192535, -0.10840000212192535, -0.10840000212192535, -0.10840000212192535, -0.10840000212192535, -0.984000027179718, 1.0964000225067139, 1.0964000225067139, 1.0964000225067139, 0.1574999988079071, 0.1573999971151352, 0.1573999971151352, 0.1573999971151352, 0.1573999971151352, 0.1573999971151352, 0.1573999971151352, 0.1573999971151352, -0.10840000212192535, -0.10840000212192535, -0.10840000212192535, -0.10840000212192535, -0.10840000212192535, -0.10840000212192535, -0.10840000212192535, -0.10840000212192535, -0.10840000212192535, -0.10840000212192535, -0.10840000212192535, -0.10840000212192535, -0.10840000212192535, -0.984000027179718, 1.0964000225067139, 1.0964000225067139, 1.0964000225067139, 0.1573999971151352, 0.1573999971151352, 0.1573999971151352, 0.1573999971151352, 0.1573999971151352, 0.1573999971151352, 0.1573999971151352, 0.1573999971151352, -0.10840000212192535, -0.10840000212192535, -0.10840000212192535, -0.10840000212192535, -0.10840000212192535, -0.10840000212192535, -0.10840000212192535, -0.10840000212192535, -0.10840000212192535, -0.10840000212192535, -0.10840000212192535, -0.10840000212192535, -0.10840000212192535, -0.984000027179718, 1.0964000225067139, 1.0964000225067139, 1.0964000225067139, 0.1573999971151352, 0.1573999971151352, 0.1573999971151352, 0.1573999971151352, 0.1573999971151352, 0.1573999971151352, 0.1573999971151352, 0.1573999971151352, -0.10840000212192535, -0.10840000212192535, -0.10840000212192535, -0.10840000212192535, -0.10840000212192535, -0.10840000212192535, -0.10840000212192535, -0.10840000212192535, -0.10840000212192535, -0.10840000212192535, -0.10840000212192535, -0.10840000212192535, -0.10840000212192535, -0.984000027179718, 1.0964000225067139, 1.0964000225067139, 1.0964000225067139, 0.1573999971151352, 0.1573999971151352, 0.1573999971151352, 0.1573999971151352, 0.1573999971151352, 0.1573999971151352, 0.1573999971151352, 0.1573999971151352, -0.10840000212192535, -0.10840000212192535, -0.10840000212192535, -0.10840000212192535, -0.10840000212192535, -0.10840000212192535, -0.10840000212192535, -0.10840000212192535, -0.10840000212192535, -0.10840000212192535, -0.10840000212192535, -0.10840000212192535, -0.10840000212192535, -0.984000027179718, 1.0964000225067139, 1.0964000225067139, 1.0964000225067139, 0.1573999971151352, 0.1573999971151352, 0.1573999971151352, 0.1573999971151352, 0.1573999971151352, 0.1573999971151352, 0.1573999971151352, 0.1573999971151352, -0.10840000212192535, -0.10840000212192535, -0.10840000212192535, -0.10840000212192535, -0.10840000212192535, -0.10840000212192535, -0.10840000212192535, -0.10840000212192535, -0.10840000212192535, -0.10840000212192535, -0.10840000212192535, -0.10840000212192535, -0.10840000212192535, -0.984000027179718], \"logprob\": [25.0, 24.0, 23.0, 22.0, 21.0, 20.0, 19.0, 18.0, 17.0, 16.0, 15.0, 14.0, 13.0, 12.0, 11.0, 10.0, 9.0, 8.0, 7.0, 6.0, 5.0, 4.0, 3.0, 2.0, 1.0, -2.211199998855591, -3.106600046157837, -3.106600046157837, -3.106600046157837, -3.106600046157837, -3.106600046157837, -3.106600046157837, -3.106600046157837, -3.106600046157837, -3.106600046157837, -3.106600046157837, -3.106600046157837, -3.106600046157837, -3.106600046157837, -3.3828001022338867, -3.3828001022338867, -3.3828001022338867, -3.3828001022338867, -3.3828001022338867, -3.3828001022338867, -3.3828001022338867, -3.3828001022338867, -4.394499778747559, -4.394499778747559, -4.394499778747559, -3.218899965286255, -3.218899965286255, -3.218899965286255, -3.218899965286255, -3.218899965286255, -3.218899965286255, -3.218899965286255, -3.218899965286255, -3.218899965286255, -3.218899965286255, -3.218899965286255, -3.218899965286255, -3.218899965286255, -3.218899965286255, -3.218899965286255, -3.218899965286255, -3.218899965286255, -3.218899965286255, -3.218899965286255, -3.218899965286255, -3.218899965286255, -3.218899965286255, -3.218899965286255, -3.218899965286255, -3.218899965286255, -3.218899965286255, -3.218899965286255, -3.218899965286255, -3.2188000679016113, -3.218899965286255, -3.218899965286255, -3.218899965286255, -3.218899965286255, -3.218899965286255, -3.218899965286255, -3.218899965286255, -3.218899965286255, -3.218899965286255, -3.218899965286255, -3.218899965286255, -3.218899965286255, -3.218899965286255, -3.218899965286255, -3.218899965286255, -3.218899965286255, -3.218899965286255, -3.218899965286255, -3.218899965286255, -3.218899965286255, -3.2188000679016113, -3.218899965286255, -3.218899965286255, -3.218899965286255, -3.218899965286255, -3.218899965286255, -3.218899965286255, -3.218899965286255, -3.218899965286255, -3.218899965286255, -3.218899965286255, -3.218899965286255, -3.218899965286255, -3.218899965286255, -3.218899965286255, -3.218899965286255, -3.218899965286255, -3.218899965286255, -3.218899965286255, -3.218899965286255, -3.218899965286255, -3.218899965286255, -3.218899965286255, -3.218899965286255, -3.218899965286255, -3.218899965286255, -3.218899965286255, -3.218899965286255, -3.218899965286255, -3.218899965286255, -3.218899965286255, -3.218899965286255, -3.218899965286255, -3.218899965286255, -3.218899965286255, -3.218899965286255, -3.218899965286255, -3.218899965286255, -3.218899965286255, -3.218899965286255, -3.218899965286255, -3.218899965286255, -3.218899965286255, -3.218899965286255, -3.218899965286255, -3.218899965286255, -3.218899965286255, -3.218899965286255, -3.218899965286255, -3.218899965286255, -3.218899965286255, -3.218899965286255, -3.218899965286255, -3.218899965286255, -3.218899965286255, -3.218899965286255, -3.218899965286255, -3.218899965286255, -3.218899965286255, -3.218899965286255, -3.218899965286255, -3.218899965286255, -3.218899965286255, -3.218899965286255, -3.218899965286255, -3.218899965286255, -3.218899965286255, -3.218899965286255, -3.218899965286255, -3.218899965286255, -3.218899965286255, -3.218899965286255, -3.218899965286255, -3.218899965286255, -3.218899965286255, -3.218899965286255, -3.218899965286255, -3.218899965286255, -3.218899965286255, -3.218899965286255, -3.218899965286255, -3.218899965286255, -3.218899965286255, -3.218899965286255, -3.218899965286255, -3.218899965286255, -3.218899965286255, -3.218899965286255, -3.218899965286255, -3.218899965286255, -3.218899965286255, -3.218899965286255, -3.218899965286255, -3.218899965286255, -3.218899965286255, -3.218899965286255, -3.218899965286255, -3.218899965286255, -3.218899965286255, -3.218899965286255, -3.218899965286255]}, \"token.table\": {\"Topic\": [1, 1, 1, 1, 1, 1, 1, 1, 1, 1, 1, 1, 1, 1, 1, 1, 1, 1, 1, 1, 1, 1, 1, 1, 1], \"Freq\": [0.9863876104354858, 1.008198857307434, 1.008198857307434, 0.986387312412262, 0.986387312412262, 0.840857982635498, 1.008198857307434, 1.008198857307434, 1.008198857307434, 1.008198857307434, 0.8408582806587219, 0.9863875508308411, 1.008198857307434, 0.94499272108078, 0.9863880276679993, 1.008198857307434, 1.008198857307434, 1.0081990957260132, 1.0081989765167236, 0.9863875508308411, 0.9863872528076172, 1.0081990957260132, 0.8408579230308533, 0.9863875508308411, 1.008198857307434], \"Term\": [\"all\", \"ave\", \"back\", \"braistrickorg\", \"ca\", \"case\", \"diego\", \"donor\", \"find\", \"fundraistrick\", \"mad\", \"no\", \"prod\", \"result\", \"run\", \"san\", \"suite\", \"support\", \"team\", \"th\", \"to\", \"top\", \"upper\", \"us\", \"view\"]}, \"R\": 25, \"lambda.step\": 0.01, \"plot.opts\": {\"xlab\": \"PC1\", \"ylab\": \"PC2\"}, \"topic.order\": [1, 7, 6, 5, 4, 3, 2]};\n",
       "\n",
       "function LDAvis_load_lib(url, callback){\n",
       "  var s = document.createElement('script');\n",
       "  s.src = url;\n",
       "  s.async = true;\n",
       "  s.onreadystatechange = s.onload = callback;\n",
       "  s.onerror = function(){console.warn(\"failed to load library \" + url);};\n",
       "  document.getElementsByTagName(\"head\")[0].appendChild(s);\n",
       "}\n",
       "\n",
       "if(typeof(LDAvis) !== \"undefined\"){\n",
       "   // already loaded: just create the visualization\n",
       "   !function(LDAvis){\n",
       "       new LDAvis(\"#\" + \"ldavis_el6563251607703846471545485\", ldavis_el6563251607703846471545485_data);\n",
       "   }(LDAvis);\n",
       "}else if(typeof define === \"function\" && define.amd){\n",
       "   // require.js is available: use it to load d3/LDAvis\n",
       "   require.config({paths: {d3: \"https://cdnjs.cloudflare.com/ajax/libs/d3/3.5.5/d3.min\"}});\n",
       "   require([\"d3\"], function(d3){\n",
       "      window.d3 = d3;\n",
       "      LDAvis_load_lib(\"https://cdn.rawgit.com/bmabey/pyLDAvis/files/ldavis.v1.0.0.js\", function(){\n",
       "        new LDAvis(\"#\" + \"ldavis_el6563251607703846471545485\", ldavis_el6563251607703846471545485_data);\n",
       "      });\n",
       "    });\n",
       "}else{\n",
       "    // require.js not available: dynamically load d3 & LDAvis\n",
       "    LDAvis_load_lib(\"https://cdnjs.cloudflare.com/ajax/libs/d3/3.5.5/d3.min.js\", function(){\n",
       "         LDAvis_load_lib(\"https://cdn.rawgit.com/bmabey/pyLDAvis/files/ldavis.v1.0.0.js\", function(){\n",
       "                 new LDAvis(\"#\" + \"ldavis_el6563251607703846471545485\", ldavis_el6563251607703846471545485_data);\n",
       "            })\n",
       "         });\n",
       "}\n",
       "</script>"
      ],
      "text/plain": [
       "PreparedData(topic_coordinates=              x    y  topics  cluster       Freq\n",
       "topic                                           \n",
       "0     -0.018687 -0.0       1        1  96.322563\n",
       "6      0.003114  0.0       2        1   0.612905\n",
       "5      0.003114 -0.0       3        1   0.612905\n",
       "4      0.003115  0.0       4        1   0.612905\n",
       "3      0.003115 -0.0       5        1   0.612905\n",
       "2      0.003115  0.0       6        1   0.612905\n",
       "1      0.003115  0.0       7        1   0.612905, topic_info=   Category      Freq           Term     Total  loglift  logprob\n",
       "13  Default  9.000000         result  9.000000  25.0000  25.0000\n",
       "18  Default  3.000000           team  3.000000  24.0000  24.0000\n",
       "1   Default  3.000000            ave  3.000000  23.0000  23.0000\n",
       "21  Default  3.000000            top  3.000000  22.0000  22.0000\n",
       "17  Default  3.000000        support  3.000000  21.0000  21.0000\n",
       "..      ...       ...            ...       ...      ...      ...\n",
       "9    Topic7  0.021819  fundraistrick  3.967471  -0.1084  -3.2189\n",
       "15   Topic7  0.021819            san  3.967471  -0.1084  -3.2189\n",
       "16   Topic7  0.021819          suite  3.967471  -0.1084  -3.2189\n",
       "12   Topic7  0.021819           prod  3.967471  -0.1084  -3.2189\n",
       "13   Topic7  0.021819         result  9.523883  -0.9840  -3.2189\n",
       "\n",
       "[200 rows x 6 columns], token_table=      Topic      Freq           Term\n",
       "term                                \n",
       "0         1  0.986388            all\n",
       "1         1  1.008199            ave\n",
       "2         1  1.008199           back\n",
       "3         1  0.986387  braistrickorg\n",
       "4         1  0.986387             ca\n",
       "5         1  0.840858           case\n",
       "6         1  1.008199          diego\n",
       "7         1  1.008199          donor\n",
       "8         1  1.008199           find\n",
       "9         1  1.008199  fundraistrick\n",
       "10        1  0.840858            mad\n",
       "11        1  0.986388             no\n",
       "12        1  1.008199           prod\n",
       "13        1  0.944993         result\n",
       "14        1  0.986388            run\n",
       "15        1  1.008199            san\n",
       "16        1  1.008199          suite\n",
       "17        1  1.008199        support\n",
       "18        1  1.008199           team\n",
       "19        1  0.986388             th\n",
       "20        1  0.986387             to\n",
       "21        1  1.008199            top\n",
       "22        1  0.840858          upper\n",
       "23        1  0.986388             us\n",
       "24        1  1.008199           view, R=25, lambda_step=0.01, plot_opts={'xlab': 'PC1', 'ylab': 'PC2'}, topic_order=[1, 7, 6, 5, 4, 3, 2])"
      ]
     },
     "execution_count": 60,
     "metadata": {},
     "output_type": "execute_result"
    }
   ],
   "source": [
    "vis"
   ]
  },
  {
   "cell_type": "markdown",
   "metadata": {},
   "source": [
    "# Other models"
   ]
  },
  {
   "cell_type": "code",
   "execution_count": null,
   "metadata": {},
   "outputs": [],
   "source": []
  }
 ],
 "metadata": {
  "kernelspec": {
   "display_name": "coca3",
   "language": "python",
   "name": "coca3"
  },
  "language_info": {
   "codemirror_mode": {
    "name": "ipython",
    "version": 3
   },
   "file_extension": ".py",
   "mimetype": "text/x-python",
   "name": "python",
   "nbconvert_exporter": "python",
   "pygments_lexer": "ipython3",
   "version": "3.7.6"
  },
  "toc": {
   "base_numbering": 1,
   "nav_menu": {},
   "number_sections": true,
   "sideBar": true,
   "skip_h1_title": false,
   "title_cell": "Table of Contents",
   "title_sidebar": "Contents",
   "toc_cell": false,
   "toc_position": {},
   "toc_section_display": true,
   "toc_window_display": false
  }
 },
 "nbformat": 4,
 "nbformat_minor": 4
}
